{
 "cells": [
  {
   "cell_type": "markdown",
   "metadata": {},
   "source": [
    "## Описание:\n",
    " \n",
    "Необходимо отследить влияние условий жизни учащихся в возрасте от 15 до 22 лет на их успеваемость по математике, чтобы на ранней стадии выявлять студентов, находящихся в группе риска.\n",
    "\n",
    "И сделать это можно с помощью модели, которая предсказывала бы результаты госэкзамена по математике для каждого ученика школы.\n",
    "Модель должна основываться на датасете stud_math.csv подвергнутого обработке\n"
   ]
  },
  {
   "cell_type": "markdown",
   "metadata": {},
   "source": [
    "## Цели и задачи проекта обработки датасета stud_math.csv :\n",
    "\n",
    "Качество кода и соответствие стандартам оформления pep-8.\n",
    "\n",
    "Для каждого столбца найдено количество пустых строк, найдены и убраны выбросы. \n",
    "\n",
    "Для количественных переменных построены гистограммы распределений и сделаны выводы.\n",
    "\n",
    "Проведён корреляционный анализ и анализ номинативных переменных, корректно отобраны переменные для построения модели.\n",
    "\n",
    "Сформулированы промежуточные и итоговые выводы.    \n",
    "\n",
    "\n"
   ]
  },
  {
   "cell_type": "code",
   "execution_count": 1,
   "metadata": {},
   "outputs": [],
   "source": [
    "import pandas as pd\n",
    "from pprint import pprint\n",
    "import matplotlib.pyplot as plt\n",
    "import seaborn as sns\n",
    "\n",
    "from itertools import combinations\n",
    "from scipy.stats import ttest_ind\n",
    "%matplotlib inline"
   ]
  },
  {
   "cell_type": "code",
   "execution_count": 2,
   "metadata": {},
   "outputs": [],
   "source": [
    "# Импортируем данные\n",
    "df = pd.read_csv('./data/stud_math.csv')"
   ]
  },
  {
   "cell_type": "code",
   "execution_count": 3,
   "metadata": {},
   "outputs": [
    {
     "data": {
      "text/html": [
       "<div>\n",
       "<style scoped>\n",
       "    .dataframe tbody tr th:only-of-type {\n",
       "        vertical-align: middle;\n",
       "    }\n",
       "\n",
       "    .dataframe tbody tr th {\n",
       "        vertical-align: top;\n",
       "    }\n",
       "\n",
       "    .dataframe thead th {\n",
       "        text-align: right;\n",
       "    }\n",
       "</style>\n",
       "<table border=\"1\" class=\"dataframe\">\n",
       "  <thead>\n",
       "    <tr style=\"text-align: right;\">\n",
       "      <th></th>\n",
       "      <th>school</th>\n",
       "      <th>sex</th>\n",
       "      <th>age</th>\n",
       "      <th>address</th>\n",
       "      <th>famsize</th>\n",
       "      <th>Pstatus</th>\n",
       "      <th>Medu</th>\n",
       "      <th>Fedu</th>\n",
       "      <th>Mjob</th>\n",
       "      <th>Fjob</th>\n",
       "      <th>...</th>\n",
       "      <th>studytime, granular</th>\n",
       "      <th>higher</th>\n",
       "      <th>internet</th>\n",
       "      <th>romantic</th>\n",
       "      <th>famrel</th>\n",
       "      <th>freetime</th>\n",
       "      <th>goout</th>\n",
       "      <th>health</th>\n",
       "      <th>absences</th>\n",
       "      <th>score</th>\n",
       "    </tr>\n",
       "  </thead>\n",
       "  <tbody>\n",
       "    <tr>\n",
       "      <th>79</th>\n",
       "      <td>GP</td>\n",
       "      <td>F</td>\n",
       "      <td>16</td>\n",
       "      <td>U</td>\n",
       "      <td>NaN</td>\n",
       "      <td>T</td>\n",
       "      <td>3.0</td>\n",
       "      <td>4.0</td>\n",
       "      <td>at_home</td>\n",
       "      <td>other</td>\n",
       "      <td>...</td>\n",
       "      <td>-6.0</td>\n",
       "      <td>yes</td>\n",
       "      <td>yes</td>\n",
       "      <td>no</td>\n",
       "      <td>2.0</td>\n",
       "      <td>4.0</td>\n",
       "      <td>3.0</td>\n",
       "      <td>3.0</td>\n",
       "      <td>12.0</td>\n",
       "      <td>25.0</td>\n",
       "    </tr>\n",
       "    <tr>\n",
       "      <th>104</th>\n",
       "      <td>GP</td>\n",
       "      <td>M</td>\n",
       "      <td>15</td>\n",
       "      <td>U</td>\n",
       "      <td>GT3</td>\n",
       "      <td>A</td>\n",
       "      <td>3.0</td>\n",
       "      <td>4.0</td>\n",
       "      <td>NaN</td>\n",
       "      <td>other</td>\n",
       "      <td>...</td>\n",
       "      <td>-6.0</td>\n",
       "      <td>yes</td>\n",
       "      <td>yes</td>\n",
       "      <td>no</td>\n",
       "      <td>5.0</td>\n",
       "      <td>4.0</td>\n",
       "      <td>4.0</td>\n",
       "      <td>1.0</td>\n",
       "      <td>0.0</td>\n",
       "      <td>90.0</td>\n",
       "    </tr>\n",
       "    <tr>\n",
       "      <th>184</th>\n",
       "      <td>GP</td>\n",
       "      <td>F</td>\n",
       "      <td>16</td>\n",
       "      <td>U</td>\n",
       "      <td>GT3</td>\n",
       "      <td>T</td>\n",
       "      <td>3.0</td>\n",
       "      <td>2.0</td>\n",
       "      <td>other</td>\n",
       "      <td>other</td>\n",
       "      <td>...</td>\n",
       "      <td>-6.0</td>\n",
       "      <td>yes</td>\n",
       "      <td>yes</td>\n",
       "      <td>no</td>\n",
       "      <td>1.0</td>\n",
       "      <td>2.0</td>\n",
       "      <td>2.0</td>\n",
       "      <td>1.0</td>\n",
       "      <td>14.0</td>\n",
       "      <td>60.0</td>\n",
       "    </tr>\n",
       "    <tr>\n",
       "      <th>59</th>\n",
       "      <td>GP</td>\n",
       "      <td>F</td>\n",
       "      <td>16</td>\n",
       "      <td>U</td>\n",
       "      <td>GT3</td>\n",
       "      <td>T</td>\n",
       "      <td>4.0</td>\n",
       "      <td>2.0</td>\n",
       "      <td>NaN</td>\n",
       "      <td>NaN</td>\n",
       "      <td>...</td>\n",
       "      <td>-6.0</td>\n",
       "      <td>yes</td>\n",
       "      <td>yes</td>\n",
       "      <td>no</td>\n",
       "      <td>4.0</td>\n",
       "      <td>2.0</td>\n",
       "      <td>3.0</td>\n",
       "      <td>5.0</td>\n",
       "      <td>2.0</td>\n",
       "      <td>80.0</td>\n",
       "    </tr>\n",
       "    <tr>\n",
       "      <th>46</th>\n",
       "      <td>GP</td>\n",
       "      <td>F</td>\n",
       "      <td>16</td>\n",
       "      <td>U</td>\n",
       "      <td>LE3</td>\n",
       "      <td>A</td>\n",
       "      <td>3.0</td>\n",
       "      <td>NaN</td>\n",
       "      <td>other</td>\n",
       "      <td>services</td>\n",
       "      <td>...</td>\n",
       "      <td>-6.0</td>\n",
       "      <td>yes</td>\n",
       "      <td>yes</td>\n",
       "      <td>no</td>\n",
       "      <td>2.0</td>\n",
       "      <td>3.0</td>\n",
       "      <td>5.0</td>\n",
       "      <td>3.0</td>\n",
       "      <td>12.0</td>\n",
       "      <td>55.0</td>\n",
       "    </tr>\n",
       "  </tbody>\n",
       "</table>\n",
       "<p>5 rows × 30 columns</p>\n",
       "</div>"
      ],
      "text/plain": [
       "    school sex  age address famsize Pstatus  Medu  Fedu     Mjob      Fjob  \\\n",
       "79      GP   F   16       U     NaN       T   3.0   4.0  at_home     other   \n",
       "104     GP   M   15       U     GT3       A   3.0   4.0      NaN     other   \n",
       "184     GP   F   16       U     GT3       T   3.0   2.0    other     other   \n",
       "59      GP   F   16       U     GT3       T   4.0   2.0      NaN       NaN   \n",
       "46      GP   F   16       U     LE3       A   3.0   NaN    other  services   \n",
       "\n",
       "     ... studytime, granular higher  internet  romantic  famrel freetime  \\\n",
       "79   ...                -6.0    yes       yes        no     2.0      4.0   \n",
       "104  ...                -6.0    yes       yes        no     5.0      4.0   \n",
       "184  ...                -6.0    yes       yes        no     1.0      2.0   \n",
       "59   ...                -6.0    yes       yes        no     4.0      2.0   \n",
       "46   ...                -6.0    yes       yes        no     2.0      3.0   \n",
       "\n",
       "    goout health absences score  \n",
       "79    3.0    3.0     12.0  25.0  \n",
       "104   4.0    1.0      0.0  90.0  \n",
       "184   2.0    1.0     14.0  60.0  \n",
       "59    3.0    5.0      2.0  80.0  \n",
       "46    5.0    3.0     12.0  55.0  \n",
       "\n",
       "[5 rows x 30 columns]"
      ]
     },
     "metadata": {},
     "output_type": "display_data"
    },
    {
     "name": "stdout",
     "output_type": "stream",
     "text": [
      "<class 'pandas.core.frame.DataFrame'>\n",
      "RangeIndex: 395 entries, 0 to 394\n",
      "Data columns (total 30 columns):\n",
      " #   Column               Non-Null Count  Dtype  \n",
      "---  ------               --------------  -----  \n",
      " 0   school               395 non-null    object \n",
      " 1   sex                  395 non-null    object \n",
      " 2   age                  395 non-null    int64  \n",
      " 3   address              378 non-null    object \n",
      " 4   famsize              368 non-null    object \n",
      " 5   Pstatus              350 non-null    object \n",
      " 6   Medu                 392 non-null    float64\n",
      " 7   Fedu                 371 non-null    float64\n",
      " 8   Mjob                 376 non-null    object \n",
      " 9   Fjob                 359 non-null    object \n",
      " 10  reason               378 non-null    object \n",
      " 11  guardian             364 non-null    object \n",
      " 12  traveltime           367 non-null    float64\n",
      " 13  studytime            388 non-null    float64\n",
      " 14  failures             373 non-null    float64\n",
      " 15  schoolsup            386 non-null    object \n",
      " 16  famsup               356 non-null    object \n",
      " 17  paid                 355 non-null    object \n",
      " 18  activities           381 non-null    object \n",
      " 19  nursery              379 non-null    object \n",
      " 20  studytime, granular  388 non-null    float64\n",
      " 21  higher               375 non-null    object \n",
      " 22  internet             361 non-null    object \n",
      " 23  romantic             364 non-null    object \n",
      " 24  famrel               368 non-null    float64\n",
      " 25  freetime             384 non-null    float64\n",
      " 26  goout                387 non-null    float64\n",
      " 27  health               380 non-null    float64\n",
      " 28  absences             383 non-null    float64\n",
      " 29  score                389 non-null    float64\n",
      "dtypes: float64(12), int64(1), object(17)\n",
      "memory usage: 92.7+ KB\n"
     ]
    },
    {
     "data": {
      "text/plain": [
       "None"
      ]
     },
     "metadata": {},
     "output_type": "display_data"
    }
   ],
   "source": [
    "# Просмотр и превичный анализ полноты данных\n",
    "display(df.sample(5))\n",
    "display(df.info())"
   ]
  },
  {
   "cell_type": "code",
   "execution_count": 4,
   "metadata": {},
   "outputs": [],
   "source": [
    "# Имеется 30 столбцов, в некоторых есть пропуски. есть как числовые так и категориальный тип данных."
   ]
  },
  {
   "cell_type": "markdown",
   "metadata": {},
   "source": [
    "# Информация из задания\n",
    "1 school — аббревиатура школы, в которой учится ученик\n",
    "\n",
    "2 sex — пол ученика ('F' - женский, 'M' - мужской)\n",
    "\n",
    "3 age — возраст ученика (от 15 до 22)\n",
    "\n",
    "4 address — тип адреса ученика ('U' - городской, 'R' - за городом)\n",
    "\n",
    "5 famsize — размер семьи('LE3' <= 3, 'GT3' >3)\n",
    "\n",
    "6 Pstatus — статус совместного жилья родителей ('T' - живут вместе 'A' - раздельно)\n",
    "\n",
    "7 Medu — образование матери (0 - нет, 1 - 4 класса, 2 - 5-9 классы, 3 - среднее специальное или 11 классов, 4 - высшее)\n",
    "\n",
    "8 Fedu — образование отца (0 - нет, 1 - 4 класса, 2 - 5-9 классы, 3 - среднее специальное или 11 классов, 4 - высшее)\n",
    "\n",
    "9 Mjob — работа матери ('teacher' - учитель, 'health' - сфера здравоохранения, 'services' - гос служба, 'at_home' - не работает, 'other' - другое)\n",
    "\n",
    "10 Fjob — работа отца ('teacher' - учитель, 'health' - сфера здравоохранения, 'services' - гос служба, 'at_home' - не работает, 'other' - другое)\n",
    "\n",
    "11 reason — причина выбора школы ('home' - близость к дому, 'reputation' - репутация школы, 'course' - образовательная программа, 'other' - другое)\n",
    "\n",
    "12 guardian — опекун ('mother' - мать, 'father' - отец, 'other' - другое)\n",
    "\n",
    "13 traveltime — время в пути до школы (1 - <15 мин., 2 - 15-30 мин., 3 - 30-60 мин., 4 - >60 мин.)\n",
    "\n",
    "14 studytime — время на учёбу помимо школы в неделю (1 - <2 часов, 2 - 2-5 часов, 3 - 5-10 часов, 4 - >10 часов)\n",
    "\n",
    "15 failures — количество внеучебных неудач (n, если 1<=n<=3, иначе 0)\n",
    "\n",
    "16 schoolsup — дополнительная образовательная поддержка (yes или no)\n",
    "\n",
    "17 famsup — семейная образовательная поддержка (yes или no)\n",
    "\n",
    "18 paid — дополнительные платные занятия по математике (yes или no)\n",
    "\n",
    "19 activities — дополнительные внеучебные занятия (yes или no)\n",
    "\n",
    "20 nursery — посещал детский сад (yes или no)\n",
    "\n",
    "21 higher — хочет получить высшее образование (yes или no)\n",
    "\n",
    "22 internet — наличие интернета дома (yes или no)\n",
    "\n",
    "23 romantic — в романтических отношениях (yes или no)\n",
    "\n",
    "24 famrel — семейные отношения (от 1 - очень плохо до 5 - очень хорошо)\n",
    "\n",
    "25 freetime — свободное время после школы (от 1 - очень мало до 5 - очень мого)\n",
    "\n",
    "26 goout — проведение времени с друзьями (от 1 - очень мало до 5 - очень много)\n",
    "\n",
    "27 health — текущее состояние здоровья (от 1 - очень плохо до 5 - очень хорошо)\n",
    "\n",
    "28 absences — количество пропущенных занятий\n",
    "\n",
    "29 score — баллы по госэкзамену по математике\n",
    "\n",
    "\n",
    "\n"
   ]
  },
  {
   "cell_type": "code",
   "execution_count": 5,
   "metadata": {},
   "outputs": [
    {
     "data": {
      "text/plain": [
       "(389, 30)"
      ]
     },
     "execution_count": 5,
     "metadata": {},
     "output_type": "execute_result"
    }
   ],
   "source": [
    "# Так как score целевая переменная, удалю строки, где в этом столбце есть пропуски\n",
    "df.dropna(subset=['score'], axis=0, inplace=True)\n",
    "df.reset_index(drop=True, inplace=True)\n",
    "df.shape  # размер полученного df"
   ]
  },
  {
   "cell_type": "code",
   "execution_count": 6,
   "metadata": {},
   "outputs": [
    {
     "data": {
      "text/plain": [
       "Index(['school', 'sex', 'age', 'address', 'famsize', 'pstatus', 'medu', 'fedu',\n",
       "       'mjob', 'fjob', 'reason', 'guardian', 'traveltime', 'studytime',\n",
       "       'failures', 'schoolsup', 'famsup', 'paid', 'activities', 'nursery',\n",
       "       'studytime_granular', 'higher', 'internet', 'romantic', 'famrel',\n",
       "       'freetime', 'goout', 'health', 'absences', 'score'],\n",
       "      dtype='object')"
      ]
     },
     "execution_count": 6,
     "metadata": {},
     "output_type": "execute_result"
    }
   ],
   "source": [
    "# Форматирую названия столбцов к одному виду\n",
    "df.columns = df.columns.str.strip().str.lower(\n",
    ").str.replace(', ', '_').str.replace(' ', '_')\n",
    "df.columns"
   ]
  },
  {
   "cell_type": "code",
   "execution_count": 7,
   "metadata": {},
   "outputs": [],
   "source": [
    "# Сделаю список столбцов по типам данных\n",
    "number = []\n",
    "category = []\n",
    "for im in df.columns:\n",
    "    if df[im].dtypes == 'object':\n",
    "        category.append(im)\n",
    "    else:\n",
    "        number.append(im)"
   ]
  },
  {
   "cell_type": "markdown",
   "metadata": {},
   "source": [
    "## Анализ столбцов с числовым типом данных"
   ]
  },
  {
   "cell_type": "code",
   "execution_count": 8,
   "metadata": {},
   "outputs": [
    {
     "data": {
      "text/plain": [
       "['age',\n",
       " 'medu',\n",
       " 'fedu',\n",
       " 'traveltime',\n",
       " 'studytime',\n",
       " 'failures',\n",
       " 'studytime_granular',\n",
       " 'famrel',\n",
       " 'freetime',\n",
       " 'goout',\n",
       " 'health',\n",
       " 'absences',\n",
       " 'score']"
      ]
     },
     "execution_count": 8,
     "metadata": {},
     "output_type": "execute_result"
    }
   ],
   "source": [
    "number"
   ]
  },
  {
   "cell_type": "code",
   "execution_count": 9,
   "metadata": {},
   "outputs": [],
   "source": [
    "# Функция для построения гистограммы\n",
    "def gist(column):\n",
    "    fig, ax = plt.subplots()\n",
    "    sns.set()\n",
    "    sns.distplot(df[column], kde=False)\n",
    "    plt.xticks(rotation=45)\n",
    "    ax.set_title('Гистограма столбца: ' + column, color='red', size=15)\n",
    "    plt.show()"
   ]
  },
  {
   "cell_type": "code",
   "execution_count": 10,
   "metadata": {},
   "outputs": [],
   "source": [
    "# Буду стороить диаграммы по три столбца для более компактного формата"
   ]
  },
  {
   "cell_type": "markdown",
   "metadata": {},
   "source": [
    "1. age — возраст ученика (от 15 до 22)\n",
    "2. Medu — образование матери (0 - нет, 1 - 4 класса, 2 - 5-9 классы, 3 - среднее специальное или 11 классов, 4 - высшее)\n",
    "3. Fedu — образование отца (0 - нет, 1 - 4 класса, 2 - 5-9 классы, 3 - среднее специальное или 11 классов, 4 - высшее)"
   ]
  },
  {
   "cell_type": "code",
   "execution_count": 11,
   "metadata": {
    "scrolled": false
   },
   "outputs": [
    {
     "data": {
      "image/png": "[encoded data removed]",
      "text/plain": [
       "<Figure size 432x288 with 1 Axes>"
      ]
     },
     "metadata": {
      "needs_background": "light"
     },
     "output_type": "display_data"
    },
    {
     "name": "stdout",
     "output_type": "stream",
     "text": [
      "Статистика столбца: age\n"
     ]
    },
    {
     "data": {
      "text/plain": [
       "count    389.000000\n",
       "mean      16.673522\n",
       "std        1.265662\n",
       "min       15.000000\n",
       "25%       16.000000\n",
       "50%       17.000000\n",
       "75%       18.000000\n",
       "max       22.000000\n",
       "Name: age, dtype: float64"
      ]
     },
     "metadata": {},
     "output_type": "display_data"
    },
    {
     "data": {
      "image/png": "[encoded data removed]",
      "text/plain": [
       "<Figure size 432x288 with 1 Axes>"
      ]
     },
     "metadata": {},
     "output_type": "display_data"
    },
    {
     "name": "stdout",
     "output_type": "stream",
     "text": [
      "Статистика столбца: medu\n"
     ]
    },
    {
     "data": {
      "text/plain": [
       "count    386.000000\n",
       "mean       2.766839\n",
       "std        1.094277\n",
       "min        0.000000\n",
       "25%        2.000000\n",
       "50%        3.000000\n",
       "75%        4.000000\n",
       "max        4.000000\n",
       "Name: medu, dtype: float64"
      ]
     },
     "metadata": {},
     "output_type": "display_data"
    },
    {
     "data": {
      "image/png": "[encoded data removed]",
      "text/plain": [
       "<Figure size 432x288 with 1 Axes>"
      ]
     },
     "metadata": {},
     "output_type": "display_data"
    },
    {
     "name": "stdout",
     "output_type": "stream",
     "text": [
      "Статистика столбца: fedu\n"
     ]
    },
    {
     "data": {
      "text/plain": [
       "count    365.000000\n",
       "mean       2.627397\n",
       "std        2.241790\n",
       "min        0.000000\n",
       "25%        2.000000\n",
       "50%        3.000000\n",
       "75%        3.000000\n",
       "max       40.000000\n",
       "Name: fedu, dtype: float64"
      ]
     },
     "metadata": {},
     "output_type": "display_data"
    }
   ],
   "source": [
    "for i in number[:3]:\n",
    "    gist(i)\n",
    "    print(f'Статистика столбца: {i}')\n",
    "    display(df[i].describe())"
   ]
  },
  {
   "cell_type": "code",
   "execution_count": 12,
   "metadata": {},
   "outputs": [],
   "source": [
    "# Столбец age: Пропусков  и выбросов данных нет. Основная масса школьников в возрасте от 15 до 18 лет\n",
    "# Столбец medu: Есть пропуски, выбросов данных нет. Основная масса матерей имеет образование 5-9 классов и выше"
   ]
  },
  {
   "cell_type": "code",
   "execution_count": 13,
   "metadata": {},
   "outputs": [],
   "source": [
    "# Столбец fedu: Есть пропуски,есть выбросы(значения больше 4).Заменю их но пропуски\n",
    "\n",
    "df['fedu'] = df.fedu.apply(lambda x: None if x > 4 else x)"
   ]
  },
  {
   "cell_type": "code",
   "execution_count": 14,
   "metadata": {},
   "outputs": [
    {
     "data": {
      "image/png": "[encoded data removed]",
      "text/plain": [
       "<Figure size 432x288 with 1 Axes>"
      ]
     },
     "metadata": {},
     "output_type": "display_data"
    }
   ],
   "source": [
    "gist('fedu')"
   ]
  },
  {
   "cell_type": "code",
   "execution_count": 15,
   "metadata": {},
   "outputs": [],
   "source": [
    "# Столбец fedu: образование отцов более равномерно распределены по групппам.\n",
    "# Как и у матерей незначительное количество не имееет образования\n",
    "# Большее количество матерей имеют высшее образование"
   ]
  },
  {
   "cell_type": "markdown",
   "metadata": {},
   "source": [
    "## Следующие 4 группы\n"
   ]
  },
  {
   "cell_type": "code",
   "execution_count": 16,
   "metadata": {},
   "outputs": [
    {
     "data": {
      "text/plain": [
       "['traveltime', 'studytime', 'failures', 'studytime_granular']"
      ]
     },
     "execution_count": 16,
     "metadata": {},
     "output_type": "execute_result"
    }
   ],
   "source": [
    "number[3:7]"
   ]
  },
  {
   "cell_type": "markdown",
   "metadata": {},
   "source": [
    "13. traveltime — время в пути до школы (1 - <15 мин., 2 - 15-30 мин., 3 - 30-60 мин., 4 - >60 мин.)\n",
    "14. studytime — время на учёбу помимо школы в неделю (1 - <2 часов, 2 - 2-5 часов, 3 - 5-10 часов, 4 - >10 часов)\n",
    "15. failures — количество внеучебных неудач (n, ьесли 1<=n<=3, иначе 0)\n",
    "16. studytime_granular - нет информации"
   ]
  },
  {
   "cell_type": "code",
   "execution_count": 17,
   "metadata": {
    "scrolled": true
   },
   "outputs": [
    {
     "data": {
      "text/html": [
       "<div>\n",
       "<style scoped>\n",
       "    .dataframe tbody tr th:only-of-type {\n",
       "        vertical-align: middle;\n",
       "    }\n",
       "\n",
       "    .dataframe tbody tr th {\n",
       "        vertical-align: top;\n",
       "    }\n",
       "\n",
       "    .dataframe thead th {\n",
       "        text-align: right;\n",
       "    }\n",
       "</style>\n",
       "<table border=\"1\" class=\"dataframe\">\n",
       "  <thead>\n",
       "    <tr style=\"text-align: right;\">\n",
       "      <th></th>\n",
       "      <th>studytime_granular</th>\n",
       "      <th>studytime</th>\n",
       "    </tr>\n",
       "  </thead>\n",
       "  <tbody>\n",
       "    <tr>\n",
       "      <th>80</th>\n",
       "      <td>-3.0</td>\n",
       "      <td>1.0</td>\n",
       "    </tr>\n",
       "    <tr>\n",
       "      <th>155</th>\n",
       "      <td>-6.0</td>\n",
       "      <td>2.0</td>\n",
       "    </tr>\n",
       "    <tr>\n",
       "      <th>209</th>\n",
       "      <td>-12.0</td>\n",
       "      <td>4.0</td>\n",
       "    </tr>\n",
       "    <tr>\n",
       "      <th>152</th>\n",
       "      <td>-9.0</td>\n",
       "      <td>3.0</td>\n",
       "    </tr>\n",
       "    <tr>\n",
       "      <th>82</th>\n",
       "      <td>-6.0</td>\n",
       "      <td>2.0</td>\n",
       "    </tr>\n",
       "  </tbody>\n",
       "</table>\n",
       "</div>"
      ],
      "text/plain": [
       "     studytime_granular  studytime\n",
       "80                 -3.0        1.0\n",
       "155                -6.0        2.0\n",
       "209               -12.0        4.0\n",
       "152                -9.0        3.0\n",
       "82                 -6.0        2.0"
      ]
     },
     "execution_count": 17,
     "metadata": {},
     "output_type": "execute_result"
    }
   ],
   "source": [
    "# столбца 'studytime_granular' нет в описании к заданию, посмотрим как он выглядит совместно со столбцом studytime\n",
    "df[['studytime_granular', 'studytime']].sample(5)"
   ]
  },
  {
   "cell_type": "code",
   "execution_count": 18,
   "metadata": {
    "scrolled": false
   },
   "outputs": [
    {
     "data": {
      "text/plain": [
       "studytime_granular\n",
       "-12.0    [4.0]\n",
       "-9.0     [3.0]\n",
       "-6.0     [2.0]\n",
       "-3.0     [1.0]\n",
       "Name: studytime, dtype: object"
      ]
     },
     "execution_count": 18,
     "metadata": {},
     "output_type": "execute_result"
    }
   ],
   "source": [
    "# Подтвердим гипотизу, что каждому знвчению из столбца 'studytime_granular' соответствует значение из столбца 'studytime'\n",
    "df.groupby(['studytime_granular'])['studytime'].unique()"
   ]
  },
  {
   "cell_type": "code",
   "execution_count": 19,
   "metadata": {
    "scrolled": false
   },
   "outputs": [
    {
     "data": {
      "image/png": "[encoded data removed]",
      "text/plain": [
       "<Figure size 432x288 with 1 Axes>"
      ]
     },
     "metadata": {},
     "output_type": "display_data"
    },
    {
     "name": "stdout",
     "output_type": "stream",
     "text": [
      "Статистика столбца: traveltime\n"
     ]
    },
    {
     "data": {
      "text/plain": [
       "count    361.000000\n",
       "mean       1.434903\n",
       "std        0.692660\n",
       "min        1.000000\n",
       "25%        1.000000\n",
       "50%        1.000000\n",
       "75%        2.000000\n",
       "max        4.000000\n",
       "Name: traveltime, dtype: float64"
      ]
     },
     "metadata": {},
     "output_type": "display_data"
    },
    {
     "data": {
      "image/png": "[encoded data removed]",
      "text/plain": [
       "<Figure size 432x288 with 1 Axes>"
      ]
     },
     "metadata": {},
     "output_type": "display_data"
    },
    {
     "name": "stdout",
     "output_type": "stream",
     "text": [
      "Статистика столбца: studytime\n"
     ]
    },
    {
     "data": {
      "text/plain": [
       "count    382.000000\n",
       "mean       2.036649\n",
       "std        0.847239\n",
       "min        1.000000\n",
       "25%        1.000000\n",
       "50%        2.000000\n",
       "75%        2.000000\n",
       "max        4.000000\n",
       "Name: studytime, dtype: float64"
      ]
     },
     "metadata": {},
     "output_type": "display_data"
    },
    {
     "data": {
      "image/png": "[encoded data removed]",
      "text/plain": [
       "<Figure size 432x288 with 1 Axes>"
      ]
     },
     "metadata": {},
     "output_type": "display_data"
    },
    {
     "name": "stdout",
     "output_type": "stream",
     "text": [
      "Статистика столбца: failures\n"
     ]
    },
    {
     "data": {
      "text/plain": [
       "count    367.000000\n",
       "mean       0.326975\n",
       "std        0.729479\n",
       "min        0.000000\n",
       "25%        0.000000\n",
       "50%        0.000000\n",
       "75%        0.000000\n",
       "max        3.000000\n",
       "Name: failures, dtype: float64"
      ]
     },
     "metadata": {},
     "output_type": "display_data"
    },
    {
     "data": {
      "image/png": "[encoded data removed]",
      "text/plain": [
       "<Figure size 432x288 with 1 Axes>"
      ]
     },
     "metadata": {},
     "output_type": "display_data"
    },
    {
     "name": "stdout",
     "output_type": "stream",
     "text": [
      "Статистика столбца: studytime_granular\n"
     ]
    },
    {
     "data": {
      "text/plain": [
       "count    382.000000\n",
       "mean      -6.109948\n",
       "std        2.541716\n",
       "min      -12.000000\n",
       "25%       -6.000000\n",
       "50%       -6.000000\n",
       "75%       -3.000000\n",
       "max       -3.000000\n",
       "Name: studytime_granular, dtype: float64"
      ]
     },
     "metadata": {},
     "output_type": "display_data"
    }
   ],
   "source": [
    "for i in number[3:7]:\n",
    "    gist(i)\n",
    "    print(f'Статистика столбца: {i}')\n",
    "    display(df[i].describe())"
   ]
  },
  {
   "cell_type": "code",
   "execution_count": 20,
   "metadata": {},
   "outputs": [],
   "source": [
    "# Столбец traveltime — # Выбросы отсутвуют, есть пропуски данных. В основном школьники живут не далеко\n",
    "# Столбец studytime — # Выбросы отсутвуют, есть пропуски данных. В среднем школьники тратят 2 часа на доп. занятия\n",
    "# Столбец failures — # Выбросы отсутвуют, есть пропуски данных.\n",
    "# Столбец studytime_granular - аналогичен studytime"
   ]
  },
  {
   "cell_type": "markdown",
   "metadata": {},
   "source": [
    "## Следующие 3 группы"
   ]
  },
  {
   "cell_type": "code",
   "execution_count": 21,
   "metadata": {},
   "outputs": [
    {
     "data": {
      "text/plain": [
       "['famrel', 'freetime', 'goout']"
      ]
     },
     "execution_count": 21,
     "metadata": {},
     "output_type": "execute_result"
    }
   ],
   "source": [
    "number[7:10]"
   ]
  },
  {
   "cell_type": "markdown",
   "metadata": {},
   "source": [
    "1. famrel — семейные отношения (от 1 - очень плохо до 5 - очень хорошо)\n",
    "2. freetime — свободное время после школы (от 1 - очень мало до 5 - очень мого)\n",
    "3. goout — проведение времени с друзьями (от 1 - очень мало до 5 - очень много)"
   ]
  },
  {
   "cell_type": "code",
   "execution_count": 22,
   "metadata": {},
   "outputs": [
    {
     "data": {
      "image/png": "[encoded data removed]",
      "text/plain": [
       "<Figure size 432x288 with 1 Axes>"
      ]
     },
     "metadata": {},
     "output_type": "display_data"
    },
    {
     "name": "stdout",
     "output_type": "stream",
     "text": [
      "Статистика столбца: famrel\n"
     ]
    },
    {
     "data": {
      "text/plain": [
       "count    362.000000\n",
       "mean       3.930939\n",
       "std        0.931554\n",
       "min       -1.000000\n",
       "25%        4.000000\n",
       "50%        4.000000\n",
       "75%        5.000000\n",
       "max        5.000000\n",
       "Name: famrel, dtype: float64"
      ]
     },
     "metadata": {},
     "output_type": "display_data"
    },
    {
     "data": {
      "image/png": "[encoded data removed]",
      "text/plain": [
       "<Figure size 432x288 with 1 Axes>"
      ]
     },
     "metadata": {},
     "output_type": "display_data"
    },
    {
     "name": "stdout",
     "output_type": "stream",
     "text": [
      "Статистика столбца: freetime\n"
     ]
    },
    {
     "data": {
      "text/plain": [
       "count    380.000000\n",
       "mean       3.223684\n",
       "std        0.993364\n",
       "min        1.000000\n",
       "25%        3.000000\n",
       "50%        3.000000\n",
       "75%        4.000000\n",
       "max        5.000000\n",
       "Name: freetime, dtype: float64"
      ]
     },
     "metadata": {},
     "output_type": "display_data"
    },
    {
     "data": {
      "image/png": "[encoded data removed]",
      "text/plain": [
       "<Figure size 432x288 with 1 Axes>"
      ]
     },
     "metadata": {},
     "output_type": "display_data"
    },
    {
     "name": "stdout",
     "output_type": "stream",
     "text": [
      "Статистика столбца: goout\n"
     ]
    },
    {
     "data": {
      "text/plain": [
       "count    382.000000\n",
       "mean       3.094241\n",
       "std        1.116104\n",
       "min        1.000000\n",
       "25%        2.000000\n",
       "50%        3.000000\n",
       "75%        4.000000\n",
       "max        5.000000\n",
       "Name: goout, dtype: float64"
      ]
     },
     "metadata": {},
     "output_type": "display_data"
    }
   ],
   "source": [
    "for i in number[7:10]:\n",
    "    gist(i)\n",
    "    print(f'Статистика столбца: {i}')\n",
    "    display(df[i].describe())"
   ]
  },
  {
   "cell_type": "code",
   "execution_count": 23,
   "metadata": {},
   "outputs": [],
   "source": [
    "# Столбец famrel — # Есть пропуски,есть выбросы(значения меньше 0).Заменю их но пропуски.\n",
    "# Семейные отношения в среднем оцениваются на 4\n",
    "df['famrel'] = df.famrel.apply(lambda x: None if x < 0 else x)"
   ]
  },
  {
   "cell_type": "code",
   "execution_count": 24,
   "metadata": {},
   "outputs": [],
   "source": [
    "# Столбец freetime — # Выбросы отсутвуют, есть пропуски данных. В среднем у школьнико есть свободное время\n",
    "# Столбец goout — # Выбросы отсутвуют, есть пропуски данных. Очень похоже на характеристику свободного времени"
   ]
  },
  {
   "cell_type": "markdown",
   "metadata": {},
   "source": [
    "## Следующие 3 группы"
   ]
  },
  {
   "cell_type": "code",
   "execution_count": 25,
   "metadata": {},
   "outputs": [
    {
     "data": {
      "text/plain": [
       "['health', 'absences', 'score']"
      ]
     },
     "execution_count": 25,
     "metadata": {},
     "output_type": "execute_result"
    }
   ],
   "source": [
    "number[10:]"
   ]
  },
  {
   "cell_type": "markdown",
   "metadata": {},
   "source": [
    "27. health — текущее состояние здоровья (от 1 - очень плохо до 5 - очень хорошо)\n",
    "28. absences — количество пропущенных занятий\n",
    "29. score — баллы по госэкзамену по математике"
   ]
  },
  {
   "cell_type": "code",
   "execution_count": 26,
   "metadata": {},
   "outputs": [
    {
     "data": {
      "image/png": "[encoded data removed]",
      "text/plain": [
       "<Figure size 432x288 with 1 Axes>"
      ]
     },
     "metadata": {},
     "output_type": "display_data"
    },
    {
     "name": "stdout",
     "output_type": "stream",
     "text": [
      "Статистика столбца: health\n"
     ]
    },
    {
     "data": {
      "text/plain": [
       "count    374.000000\n",
       "mean       3.529412\n",
       "std        1.402006\n",
       "min        1.000000\n",
       "25%        3.000000\n",
       "50%        4.000000\n",
       "75%        5.000000\n",
       "max        5.000000\n",
       "Name: health, dtype: float64"
      ]
     },
     "metadata": {},
     "output_type": "display_data"
    },
    {
     "data": {
      "image/png": "[encoded data removed]",
      "text/plain": [
       "<Figure size 432x288 with 1 Axes>"
      ]
     },
     "metadata": {},
     "output_type": "display_data"
    },
    {
     "name": "stdout",
     "output_type": "stream",
     "text": [
      "Статистика столбца: absences\n"
     ]
    },
    {
     "data": {
      "text/plain": [
       "count    378.000000\n",
       "mean       7.320106\n",
       "std       23.615525\n",
       "min        0.000000\n",
       "25%        0.000000\n",
       "50%        4.000000\n",
       "75%        8.000000\n",
       "max      385.000000\n",
       "Name: absences, dtype: float64"
      ]
     },
     "metadata": {},
     "output_type": "display_data"
    },
    {
     "data": {
      "image/png": "[encoded data removed]",
      "text/plain": [
       "<Figure size 432x288 with 1 Axes>"
      ]
     },
     "metadata": {},
     "output_type": "display_data"
    },
    {
     "name": "stdout",
     "output_type": "stream",
     "text": [
      "Статистика столбца: score\n"
     ]
    },
    {
     "data": {
      "text/plain": [
       "count    389.000000\n",
       "mean      52.262211\n",
       "std       22.919022\n",
       "min        0.000000\n",
       "25%       40.000000\n",
       "50%       55.000000\n",
       "75%       70.000000\n",
       "max      100.000000\n",
       "Name: score, dtype: float64"
      ]
     },
     "metadata": {},
     "output_type": "display_data"
    }
   ],
   "source": [
    "for i in number[10:]:\n",
    "    gist(i)\n",
    "    print(f'Статистика столбца: {i}')\n",
    "    display(df[i].describe())"
   ]
  },
  {
   "cell_type": "code",
   "execution_count": 27,
   "metadata": {},
   "outputs": [],
   "source": [
    "# Столбец health — # Выбросы отсутвуют, есть пропуски данных. Здоровье школьников не идеально"
   ]
  },
  {
   "cell_type": "code",
   "execution_count": 28,
   "metadata": {},
   "outputs": [
    {
     "name": "stdout",
     "output_type": "stream",
     "text": [
      "25-й перцентиль: 0.0, 75-й перцентиль: 8.0, IQR: 8.0,  Границы выбросов: [-24.0, 32.0].\n"
     ]
    },
    {
     "data": {
      "text/plain": [
       "<matplotlib.axes._subplots.AxesSubplot at 0x229887c3f08>"
      ]
     },
     "execution_count": 28,
     "metadata": {},
     "output_type": "execute_result"
    },
    {
     "data": {
      "image/png": "[encoded data removed]",
      "text/plain": [
       "<Figure size 432x288 with 1 Axes>"
      ]
     },
     "metadata": {},
     "output_type": "display_data"
    }
   ],
   "source": [
    "# Столбец absences — имеет выбросы. скорее всего большие значения связыны с жизнеными обстоятельтвами(н/р болезнь, переезд)\n",
    "# и оценка будет связана с другими фактороми которые не учитываются в данной выборке.\n",
    "# Воспользуюсь формулой интерквартильного расстояния (межквартильного размаха),  к = 3\n",
    "IQR = df.absences.quantile(0.75) - df.absences.quantile(0.25)\n",
    "perc25 = df.absences.quantile(0.25)\n",
    "perc75 = df.absences.quantile(0.75)\n",
    "print('25-й перцентиль: {},'.format(perc25), '75-й перцентиль: {},'.format(perc75),\n",
    "      \"IQR: {}, \".format(IQR), \"Границы выбросов: [{f}, {l}].\".format(f=perc25 - 3*IQR, l=perc75 + 3*IQR))\n",
    "absences_IQR = df.absences.loc[df.absences.between(\n",
    "    perc25 - 3*IQR, perc75 + 3*IQR)]\n",
    "absences_IQR.hist()"
   ]
  },
  {
   "cell_type": "code",
   "execution_count": 29,
   "metadata": {},
   "outputs": [],
   "source": [
    "# заменю выбросы пропущенными значениями\n",
    "df['absences'] = df.absences.apply(\n",
    "    lambda x: None if x not in set(absences_IQR) else x)"
   ]
  },
  {
   "cell_type": "code",
   "execution_count": 30,
   "metadata": {},
   "outputs": [],
   "source": [
    "# Столбец score — # Выбросы отсутвуют"
   ]
  },
  {
   "cell_type": "code",
   "execution_count": 31,
   "metadata": {},
   "outputs": [],
   "source": [
    "# Построю матрицу корреляции числовых признаков"
   ]
  },
  {
   "cell_type": "code",
   "execution_count": 32,
   "metadata": {},
   "outputs": [
    {
     "data": {
      "text/html": [
       "<style  type=\"text/css\" >\n",
       "    #T_b215e8ca_ec63_11ea_a963_e4aaeaf8c0f8 th {\n",
       "          font-size: 7pt;\n",
       "    }    #T_b215e8ca_ec63_11ea_a963_e4aaeaf8c0f8 td {\n",
       "          padding: 0em 0em;\n",
       "    }    #T_b215e8ca_ec63_11ea_a963_e4aaeaf8c0f8 th:hover {\n",
       "          font-size: 12pt;\n",
       "    }    #T_b215e8ca_ec63_11ea_a963_e4aaeaf8c0f8 tr:hover td:hover {\n",
       "          max-width: 200px;\n",
       "          font-size: 12pt;\n",
       "    }    #T_b215e8ca_ec63_11ea_a963_e4aaeaf8c0f8row0_col0 {\n",
       "            background-color:  #4479bb;\n",
       "            color:  #000000;\n",
       "            max-width:  80px;\n",
       "            font-size:  10pt;\n",
       "        }    #T_b215e8ca_ec63_11ea_a963_e4aaeaf8c0f8row0_col1 {\n",
       "            background-color:  #d73d5c;\n",
       "            color:  #f1f1f1;\n",
       "            max-width:  80px;\n",
       "            font-size:  10pt;\n",
       "        }    #T_b215e8ca_ec63_11ea_a963_e4aaeaf8c0f8row0_col2 {\n",
       "            background-color:  #d73d5c;\n",
       "            color:  #f1f1f1;\n",
       "            max-width:  80px;\n",
       "            font-size:  10pt;\n",
       "        }    #T_b215e8ca_ec63_11ea_a963_e4aaeaf8c0f8row0_col3 {\n",
       "            background-color:  #e68396;\n",
       "            color:  #000000;\n",
       "            max-width:  80px;\n",
       "            font-size:  10pt;\n",
       "        }    #T_b215e8ca_ec63_11ea_a963_e4aaeaf8c0f8row0_col4 {\n",
       "            background-color:  #e0667e;\n",
       "            color:  #000000;\n",
       "            max-width:  80px;\n",
       "            font-size:  10pt;\n",
       "        }    #T_b215e8ca_ec63_11ea_a963_e4aaeaf8c0f8row0_col5 {\n",
       "            background-color:  #eeaebb;\n",
       "            color:  #000000;\n",
       "            max-width:  80px;\n",
       "            font-size:  10pt;\n",
       "        }    #T_b215e8ca_ec63_11ea_a963_e4aaeaf8c0f8row0_col6 {\n",
       "            background-color:  #e27288;\n",
       "            color:  #000000;\n",
       "            max-width:  80px;\n",
       "            font-size:  10pt;\n",
       "        }    #T_b215e8ca_ec63_11ea_a963_e4aaeaf8c0f8row0_col7 {\n",
       "            background-color:  #e57d92;\n",
       "            color:  #000000;\n",
       "            max-width:  80px;\n",
       "            font-size:  10pt;\n",
       "        }    #T_b215e8ca_ec63_11ea_a963_e4aaeaf8c0f8row0_col8 {\n",
       "            background-color:  #e27288;\n",
       "            color:  #000000;\n",
       "            max-width:  80px;\n",
       "            font-size:  10pt;\n",
       "        }    #T_b215e8ca_ec63_11ea_a963_e4aaeaf8c0f8row0_col9 {\n",
       "            background-color:  #e993a4;\n",
       "            color:  #000000;\n",
       "            max-width:  80px;\n",
       "            font-size:  10pt;\n",
       "        }    #T_b215e8ca_ec63_11ea_a963_e4aaeaf8c0f8row0_col10 {\n",
       "            background-color:  #dd5671;\n",
       "            color:  #000000;\n",
       "            max-width:  80px;\n",
       "            font-size:  10pt;\n",
       "        }    #T_b215e8ca_ec63_11ea_a963_e4aaeaf8c0f8row0_col11 {\n",
       "            background-color:  #eb9dac;\n",
       "            color:  #000000;\n",
       "            max-width:  80px;\n",
       "            font-size:  10pt;\n",
       "        }    #T_b215e8ca_ec63_11ea_a963_e4aaeaf8c0f8row0_col12 {\n",
       "            background-color:  #d73c5b;\n",
       "            color:  #f1f1f1;\n",
       "            max-width:  80px;\n",
       "            font-size:  10pt;\n",
       "        }    #T_b215e8ca_ec63_11ea_a963_e4aaeaf8c0f8row1_col0 {\n",
       "            background-color:  #dd5671;\n",
       "            color:  #000000;\n",
       "            max-width:  80px;\n",
       "            font-size:  10pt;\n",
       "        }    #T_b215e8ca_ec63_11ea_a963_e4aaeaf8c0f8row1_col1 {\n",
       "            background-color:  #4479bb;\n",
       "            color:  #000000;\n",
       "            max-width:  80px;\n",
       "            font-size:  10pt;\n",
       "        }    #T_b215e8ca_ec63_11ea_a963_e4aaeaf8c0f8row1_col2 {\n",
       "            background-color:  #aec5e1;\n",
       "            color:  #000000;\n",
       "            max-width:  80px;\n",
       "            font-size:  10pt;\n",
       "        }    #T_b215e8ca_ec63_11ea_a963_e4aaeaf8c0f8row1_col3 {\n",
       "            background-color:  #dc516d;\n",
       "            color:  #000000;\n",
       "            max-width:  80px;\n",
       "            font-size:  10pt;\n",
       "        }    #T_b215e8ca_ec63_11ea_a963_e4aaeaf8c0f8row1_col4 {\n",
       "            background-color:  #ea9aaa;\n",
       "            color:  #000000;\n",
       "            max-width:  80px;\n",
       "            font-size:  10pt;\n",
       "        }    #T_b215e8ca_ec63_11ea_a963_e4aaeaf8c0f8row1_col5 {\n",
       "            background-color:  #d73c5b;\n",
       "            color:  #f1f1f1;\n",
       "            max-width:  80px;\n",
       "            font-size:  10pt;\n",
       "        }    #T_b215e8ca_ec63_11ea_a963_e4aaeaf8c0f8row1_col6 {\n",
       "            background-color:  #e16981;\n",
       "            color:  #000000;\n",
       "            max-width:  80px;\n",
       "            font-size:  10pt;\n",
       "        }    #T_b215e8ca_ec63_11ea_a963_e4aaeaf8c0f8row1_col7 {\n",
       "            background-color:  #e57f93;\n",
       "            color:  #000000;\n",
       "            max-width:  80px;\n",
       "            font-size:  10pt;\n",
       "        }    #T_b215e8ca_ec63_11ea_a963_e4aaeaf8c0f8row1_col8 {\n",
       "            background-color:  #e88d9f;\n",
       "            color:  #000000;\n",
       "            max-width:  80px;\n",
       "            font-size:  10pt;\n",
       "        }    #T_b215e8ca_ec63_11ea_a963_e4aaeaf8c0f8row1_col9 {\n",
       "            background-color:  #ea97a8;\n",
       "            color:  #000000;\n",
       "            max-width:  80px;\n",
       "            font-size:  10pt;\n",
       "        }    #T_b215e8ca_ec63_11ea_a963_e4aaeaf8c0f8row1_col10 {\n",
       "            background-color:  #e27389;\n",
       "            color:  #000000;\n",
       "            max-width:  80px;\n",
       "            font-size:  10pt;\n",
       "        }    #T_b215e8ca_ec63_11ea_a963_e4aaeaf8c0f8row1_col11 {\n",
       "            background-color:  #eca3b1;\n",
       "            color:  #000000;\n",
       "            max-width:  80px;\n",
       "            font-size:  10pt;\n",
       "        }    #T_b215e8ca_ec63_11ea_a963_e4aaeaf8c0f8row1_col12 {\n",
       "            background-color:  #f2c1cb;\n",
       "            color:  #000000;\n",
       "            max-width:  80px;\n",
       "            font-size:  10pt;\n",
       "        }    #T_b215e8ca_ec63_11ea_a963_e4aaeaf8c0f8row2_col0 {\n",
       "            background-color:  #de5f79;\n",
       "            color:  #000000;\n",
       "            max-width:  80px;\n",
       "            font-size:  10pt;\n",
       "        }    #T_b215e8ca_ec63_11ea_a963_e4aaeaf8c0f8row2_col1 {\n",
       "            background-color:  #acc3e1;\n",
       "            color:  #000000;\n",
       "            max-width:  80px;\n",
       "            font-size:  10pt;\n",
       "        }    #T_b215e8ca_ec63_11ea_a963_e4aaeaf8c0f8row2_col2 {\n",
       "            background-color:  #4479bb;\n",
       "            color:  #000000;\n",
       "            max-width:  80px;\n",
       "            font-size:  10pt;\n",
       "        }    #T_b215e8ca_ec63_11ea_a963_e4aaeaf8c0f8row2_col3 {\n",
       "            background-color:  #df617a;\n",
       "            color:  #000000;\n",
       "            max-width:  80px;\n",
       "            font-size:  10pt;\n",
       "        }    #T_b215e8ca_ec63_11ea_a963_e4aaeaf8c0f8row2_col4 {\n",
       "            background-color:  #e88d9f;\n",
       "            color:  #000000;\n",
       "            max-width:  80px;\n",
       "            font-size:  10pt;\n",
       "        }    #T_b215e8ca_ec63_11ea_a963_e4aaeaf8c0f8row2_col5 {\n",
       "            background-color:  #d73c5b;\n",
       "            color:  #f1f1f1;\n",
       "            max-width:  80px;\n",
       "            font-size:  10pt;\n",
       "        }    #T_b215e8ca_ec63_11ea_a963_e4aaeaf8c0f8row2_col6 {\n",
       "            background-color:  #e68699;\n",
       "            color:  #000000;\n",
       "            max-width:  80px;\n",
       "            font-size:  10pt;\n",
       "        }    #T_b215e8ca_ec63_11ea_a963_e4aaeaf8c0f8row2_col7 {\n",
       "            background-color:  #e58195;\n",
       "            color:  #000000;\n",
       "            max-width:  80px;\n",
       "            font-size:  10pt;\n",
       "        }    #T_b215e8ca_ec63_11ea_a963_e4aaeaf8c0f8row2_col8 {\n",
       "            background-color:  #e68699;\n",
       "            color:  #000000;\n",
       "            max-width:  80px;\n",
       "            font-size:  10pt;\n",
       "        }    #T_b215e8ca_ec63_11ea_a963_e4aaeaf8c0f8row2_col9 {\n",
       "            background-color:  #ea99a9;\n",
       "            color:  #000000;\n",
       "            max-width:  80px;\n",
       "            font-size:  10pt;\n",
       "        }    #T_b215e8ca_ec63_11ea_a963_e4aaeaf8c0f8row2_col10 {\n",
       "            background-color:  #e88ea0;\n",
       "            color:  #000000;\n",
       "            max-width:  80px;\n",
       "            font-size:  10pt;\n",
       "        }    #T_b215e8ca_ec63_11ea_a963_e4aaeaf8c0f8row2_col11 {\n",
       "            background-color:  #e88ea0;\n",
       "            color:  #000000;\n",
       "            max-width:  80px;\n",
       "            font-size:  10pt;\n",
       "        }    #T_b215e8ca_ec63_11ea_a963_e4aaeaf8c0f8row2_col12 {\n",
       "            background-color:  #eeaebb;\n",
       "            color:  #000000;\n",
       "            max-width:  80px;\n",
       "            font-size:  10pt;\n",
       "        }    #T_b215e8ca_ec63_11ea_a963_e4aaeaf8c0f8row3_col0 {\n",
       "            background-color:  #e68699;\n",
       "            color:  #000000;\n",
       "            max-width:  80px;\n",
       "            font-size:  10pt;\n",
       "        }    #T_b215e8ca_ec63_11ea_a963_e4aaeaf8c0f8row3_col1 {\n",
       "            background-color:  #d73c5b;\n",
       "            color:  #f1f1f1;\n",
       "            max-width:  80px;\n",
       "            font-size:  10pt;\n",
       "        }    #T_b215e8ca_ec63_11ea_a963_e4aaeaf8c0f8row3_col2 {\n",
       "            background-color:  #d94261;\n",
       "            color:  #f1f1f1;\n",
       "            max-width:  80px;\n",
       "            font-size:  10pt;\n",
       "        }    #T_b215e8ca_ec63_11ea_a963_e4aaeaf8c0f8row3_col3 {\n",
       "            background-color:  #4479bb;\n",
       "            color:  #000000;\n",
       "            max-width:  80px;\n",
       "            font-size:  10pt;\n",
       "        }    #T_b215e8ca_ec63_11ea_a963_e4aaeaf8c0f8row3_col4 {\n",
       "            background-color:  #db4e6a;\n",
       "            color:  #000000;\n",
       "            max-width:  80px;\n",
       "            font-size:  10pt;\n",
       "        }    #T_b215e8ca_ec63_11ea_a963_e4aaeaf8c0f8row3_col5 {\n",
       "            background-color:  #e57f93;\n",
       "            color:  #000000;\n",
       "            max-width:  80px;\n",
       "            font-size:  10pt;\n",
       "        }    #T_b215e8ca_ec63_11ea_a963_e4aaeaf8c0f8row3_col6 {\n",
       "            background-color:  #e890a1;\n",
       "            color:  #000000;\n",
       "            max-width:  80px;\n",
       "            font-size:  10pt;\n",
       "        }    #T_b215e8ca_ec63_11ea_a963_e4aaeaf8c0f8row3_col7 {\n",
       "            background-color:  #df627b;\n",
       "            color:  #000000;\n",
       "            max-width:  80px;\n",
       "            font-size:  10pt;\n",
       "        }    #T_b215e8ca_ec63_11ea_a963_e4aaeaf8c0f8row3_col8 {\n",
       "            background-color:  #e0667e;\n",
       "            color:  #000000;\n",
       "            max-width:  80px;\n",
       "            font-size:  10pt;\n",
       "        }    #T_b215e8ca_ec63_11ea_a963_e4aaeaf8c0f8row3_col9 {\n",
       "            background-color:  #e4798e;\n",
       "            color:  #000000;\n",
       "            max-width:  80px;\n",
       "            font-size:  10pt;\n",
       "        }    #T_b215e8ca_ec63_11ea_a963_e4aaeaf8c0f8row3_col10 {\n",
       "            background-color:  #e16b82;\n",
       "            color:  #000000;\n",
       "            max-width:  80px;\n",
       "            font-size:  10pt;\n",
       "        }    #T_b215e8ca_ec63_11ea_a963_e4aaeaf8c0f8row3_col11 {\n",
       "            background-color:  #e16981;\n",
       "            color:  #000000;\n",
       "            max-width:  80px;\n",
       "            font-size:  10pt;\n",
       "        }    #T_b215e8ca_ec63_11ea_a963_e4aaeaf8c0f8row3_col12 {\n",
       "            background-color:  #dd5872;\n",
       "            color:  #000000;\n",
       "            max-width:  80px;\n",
       "            font-size:  10pt;\n",
       "        }    #T_b215e8ca_ec63_11ea_a963_e4aaeaf8c0f8row4_col0 {\n",
       "            background-color:  #f2f2f2;\n",
       "            color:  #000000;\n",
       "            max-width:  80px;\n",
       "            font-size:  10pt;\n",
       "        }    #T_b215e8ca_ec63_11ea_a963_e4aaeaf8c0f8row4_col1 {\n",
       "            background-color:  #e6edf6;\n",
       "            color:  #000000;\n",
       "            max-width:  80px;\n",
       "            font-size:  10pt;\n",
       "        }    #T_b215e8ca_ec63_11ea_a963_e4aaeaf8c0f8row4_col2 {\n",
       "            background-color:  #f2f2f2;\n",
       "            color:  #000000;\n",
       "            max-width:  80px;\n",
       "            font-size:  10pt;\n",
       "        }    #T_b215e8ca_ec63_11ea_a963_e4aaeaf8c0f8row4_col3 {\n",
       "            background-color:  #f8dfe4;\n",
       "            color:  #000000;\n",
       "            max-width:  80px;\n",
       "            font-size:  10pt;\n",
       "        }    #T_b215e8ca_ec63_11ea_a963_e4aaeaf8c0f8row4_col4 {\n",
       "            background-color:  #4479bb;\n",
       "            color:  #000000;\n",
       "            max-width:  80px;\n",
       "            font-size:  10pt;\n",
       "        }    #T_b215e8ca_ec63_11ea_a963_e4aaeaf8c0f8row4_col5 {\n",
       "            background-color:  #f6d1d8;\n",
       "            color:  #000000;\n",
       "            max-width:  80px;\n",
       "            font-size:  10pt;\n",
       "        }    #T_b215e8ca_ec63_11ea_a963_e4aaeaf8c0f8row4_col6 {\n",
       "            background-color:  #d73c5b;\n",
       "            color:  #f1f1f1;\n",
       "            max-width:  80px;\n",
       "            font-size:  10pt;\n",
       "        }    #T_b215e8ca_ec63_11ea_a963_e4aaeaf8c0f8row4_col7 {\n",
       "            background-color:  #f2f2f2;\n",
       "            color:  #000000;\n",
       "            max-width:  80px;\n",
       "            font-size:  10pt;\n",
       "        }    #T_b215e8ca_ec63_11ea_a963_e4aaeaf8c0f8row4_col8 {\n",
       "            background-color:  #f7dae0;\n",
       "            color:  #000000;\n",
       "            max-width:  80px;\n",
       "            font-size:  10pt;\n",
       "        }    #T_b215e8ca_ec63_11ea_a963_e4aaeaf8c0f8row4_col9 {\n",
       "            background-color:  #fae8ec;\n",
       "            color:  #000000;\n",
       "            max-width:  80px;\n",
       "            font-size:  10pt;\n",
       "        }    #T_b215e8ca_ec63_11ea_a963_e4aaeaf8c0f8row4_col10 {\n",
       "            background-color:  #f9e3e7;\n",
       "            color:  #000000;\n",
       "            max-width:  80px;\n",
       "            font-size:  10pt;\n",
       "        }    #T_b215e8ca_ec63_11ea_a963_e4aaeaf8c0f8row4_col11 {\n",
       "            background-color:  #f9e2e6;\n",
       "            color:  #000000;\n",
       "            max-width:  80px;\n",
       "            font-size:  10pt;\n",
       "        }    #T_b215e8ca_ec63_11ea_a963_e4aaeaf8c0f8row4_col12 {\n",
       "            background-color:  #e0e9f4;\n",
       "            color:  #000000;\n",
       "            max-width:  80px;\n",
       "            font-size:  10pt;\n",
       "        }    #T_b215e8ca_ec63_11ea_a963_e4aaeaf8c0f8row5_col0 {\n",
       "            background-color:  #f6d1d8;\n",
       "            color:  #000000;\n",
       "            max-width:  80px;\n",
       "            font-size:  10pt;\n",
       "        }    #T_b215e8ca_ec63_11ea_a963_e4aaeaf8c0f8row5_col1 {\n",
       "            background-color:  #dd5671;\n",
       "            color:  #000000;\n",
       "            max-width:  80px;\n",
       "            font-size:  10pt;\n",
       "        }    #T_b215e8ca_ec63_11ea_a963_e4aaeaf8c0f8row5_col2 {\n",
       "            background-color:  #db4e6a;\n",
       "            color:  #000000;\n",
       "            max-width:  80px;\n",
       "            font-size:  10pt;\n",
       "        }    #T_b215e8ca_ec63_11ea_a963_e4aaeaf8c0f8row5_col3 {\n",
       "            background-color:  #eda7b5;\n",
       "            color:  #000000;\n",
       "            max-width:  80px;\n",
       "            font-size:  10pt;\n",
       "        }    #T_b215e8ca_ec63_11ea_a963_e4aaeaf8c0f8row5_col4 {\n",
       "            background-color:  #e0667e;\n",
       "            color:  #000000;\n",
       "            max-width:  80px;\n",
       "            font-size:  10pt;\n",
       "        }    #T_b215e8ca_ec63_11ea_a963_e4aaeaf8c0f8row5_col5 {\n",
       "            background-color:  #4479bb;\n",
       "            color:  #000000;\n",
       "            max-width:  80px;\n",
       "            font-size:  10pt;\n",
       "        }    #T_b215e8ca_ec63_11ea_a963_e4aaeaf8c0f8row5_col6 {\n",
       "            background-color:  #f4cad3;\n",
       "            color:  #000000;\n",
       "            max-width:  80px;\n",
       "            font-size:  10pt;\n",
       "        }    #T_b215e8ca_ec63_11ea_a963_e4aaeaf8c0f8row5_col7 {\n",
       "            background-color:  #ea99a9;\n",
       "            color:  #000000;\n",
       "            max-width:  80px;\n",
       "            font-size:  10pt;\n",
       "        }    #T_b215e8ca_ec63_11ea_a963_e4aaeaf8c0f8row5_col8 {\n",
       "            background-color:  #efb2bf;\n",
       "            color:  #000000;\n",
       "            max-width:  80px;\n",
       "            font-size:  10pt;\n",
       "        }    #T_b215e8ca_ec63_11ea_a963_e4aaeaf8c0f8row5_col9 {\n",
       "            background-color:  #f0b7c2;\n",
       "            color:  #000000;\n",
       "            max-width:  80px;\n",
       "            font-size:  10pt;\n",
       "        }    #T_b215e8ca_ec63_11ea_a963_e4aaeaf8c0f8row5_col10 {\n",
       "            background-color:  #efb1be;\n",
       "            color:  #000000;\n",
       "            max-width:  80px;\n",
       "            font-size:  10pt;\n",
       "        }    #T_b215e8ca_ec63_11ea_a963_e4aaeaf8c0f8row5_col11 {\n",
       "            background-color:  #f0b5c1;\n",
       "            color:  #000000;\n",
       "            max-width:  80px;\n",
       "            font-size:  10pt;\n",
       "        }    #T_b215e8ca_ec63_11ea_a963_e4aaeaf8c0f8row5_col12 {\n",
       "            background-color:  #d73c5b;\n",
       "            color:  #f1f1f1;\n",
       "            max-width:  80px;\n",
       "            font-size:  10pt;\n",
       "        }    #T_b215e8ca_ec63_11ea_a963_e4aaeaf8c0f8row6_col0 {\n",
       "            background-color:  #f2f2f2;\n",
       "            color:  #000000;\n",
       "            max-width:  80px;\n",
       "            font-size:  10pt;\n",
       "        }    #T_b215e8ca_ec63_11ea_a963_e4aaeaf8c0f8row6_col1 {\n",
       "            background-color:  #f9e3e7;\n",
       "            color:  #000000;\n",
       "            max-width:  80px;\n",
       "            font-size:  10pt;\n",
       "        }    #T_b215e8ca_ec63_11ea_a963_e4aaeaf8c0f8row6_col2 {\n",
       "            background-color:  #f2f2f2;\n",
       "            color:  #000000;\n",
       "            max-width:  80px;\n",
       "            font-size:  10pt;\n",
       "        }    #T_b215e8ca_ec63_11ea_a963_e4aaeaf8c0f8row6_col3 {\n",
       "            background-color:  #e2eaf4;\n",
       "            color:  #000000;\n",
       "            max-width:  80px;\n",
       "            font-size:  10pt;\n",
       "        }    #T_b215e8ca_ec63_11ea_a963_e4aaeaf8c0f8row6_col4 {\n",
       "            background-color:  #d73c5b;\n",
       "            color:  #f1f1f1;\n",
       "            max-width:  80px;\n",
       "            font-size:  10pt;\n",
       "        }    #T_b215e8ca_ec63_11ea_a963_e4aaeaf8c0f8row6_col5 {\n",
       "            background-color:  #d4e0ef;\n",
       "            color:  #000000;\n",
       "            max-width:  80px;\n",
       "            font-size:  10pt;\n",
       "        }    #T_b215e8ca_ec63_11ea_a963_e4aaeaf8c0f8row6_col6 {\n",
       "            background-color:  #4479bb;\n",
       "            color:  #000000;\n",
       "            max-width:  80px;\n",
       "            font-size:  10pt;\n",
       "        }    #T_b215e8ca_ec63_11ea_a963_e4aaeaf8c0f8row6_col7 {\n",
       "            background-color:  #f2f2f2;\n",
       "            color:  #000000;\n",
       "            max-width:  80px;\n",
       "            font-size:  10pt;\n",
       "        }    #T_b215e8ca_ec63_11ea_a963_e4aaeaf8c0f8row6_col8 {\n",
       "            background-color:  #dde7f3;\n",
       "            color:  #000000;\n",
       "            max-width:  80px;\n",
       "            font-size:  10pt;\n",
       "        }    #T_b215e8ca_ec63_11ea_a963_e4aaeaf8c0f8row6_col9 {\n",
       "            background-color:  #ebf1f8;\n",
       "            color:  #000000;\n",
       "            max-width:  80px;\n",
       "            font-size:  10pt;\n",
       "        }    #T_b215e8ca_ec63_11ea_a963_e4aaeaf8c0f8row6_col10 {\n",
       "            background-color:  #e6edf6;\n",
       "            color:  #000000;\n",
       "            max-width:  80px;\n",
       "            font-size:  10pt;\n",
       "        }    #T_b215e8ca_ec63_11ea_a963_e4aaeaf8c0f8row6_col11 {\n",
       "            background-color:  #e4ecf5;\n",
       "            color:  #000000;\n",
       "            max-width:  80px;\n",
       "            font-size:  10pt;\n",
       "        }    #T_b215e8ca_ec63_11ea_a963_e4aaeaf8c0f8row6_col12 {\n",
       "            background-color:  #f8dee3;\n",
       "            color:  #000000;\n",
       "            max-width:  80px;\n",
       "            font-size:  10pt;\n",
       "        }    #T_b215e8ca_ec63_11ea_a963_e4aaeaf8c0f8row7_col0 {\n",
       "            background-color:  #e16b82;\n",
       "            color:  #000000;\n",
       "            max-width:  80px;\n",
       "            font-size:  10pt;\n",
       "        }    #T_b215e8ca_ec63_11ea_a963_e4aaeaf8c0f8row7_col1 {\n",
       "            background-color:  #dc546f;\n",
       "            color:  #000000;\n",
       "            max-width:  80px;\n",
       "            font-size:  10pt;\n",
       "        }    #T_b215e8ca_ec63_11ea_a963_e4aaeaf8c0f8row7_col2 {\n",
       "            background-color:  #db4e6a;\n",
       "            color:  #000000;\n",
       "            max-width:  80px;\n",
       "            font-size:  10pt;\n",
       "        }    #T_b215e8ca_ec63_11ea_a963_e4aaeaf8c0f8row7_col3 {\n",
       "            background-color:  #da4966;\n",
       "            color:  #000000;\n",
       "            max-width:  80px;\n",
       "            font-size:  10pt;\n",
       "        }    #T_b215e8ca_ec63_11ea_a963_e4aaeaf8c0f8row7_col4 {\n",
       "            background-color:  #df627b;\n",
       "            color:  #000000;\n",
       "            max-width:  80px;\n",
       "            font-size:  10pt;\n",
       "        }    #T_b215e8ca_ec63_11ea_a963_e4aaeaf8c0f8row7_col5 {\n",
       "            background-color:  #dd5872;\n",
       "            color:  #000000;\n",
       "            max-width:  80px;\n",
       "            font-size:  10pt;\n",
       "        }    #T_b215e8ca_ec63_11ea_a963_e4aaeaf8c0f8row7_col6 {\n",
       "            background-color:  #db4e6a;\n",
       "            color:  #000000;\n",
       "            max-width:  80px;\n",
       "            font-size:  10pt;\n",
       "        }    #T_b215e8ca_ec63_11ea_a963_e4aaeaf8c0f8row7_col7 {\n",
       "            background-color:  #4479bb;\n",
       "            color:  #000000;\n",
       "            max-width:  80px;\n",
       "            font-size:  10pt;\n",
       "        }    #T_b215e8ca_ec63_11ea_a963_e4aaeaf8c0f8row7_col8 {\n",
       "            background-color:  #e88ea0;\n",
       "            color:  #000000;\n",
       "            max-width:  80px;\n",
       "            font-size:  10pt;\n",
       "        }    #T_b215e8ca_ec63_11ea_a963_e4aaeaf8c0f8row7_col9 {\n",
       "            background-color:  #e16d85;\n",
       "            color:  #000000;\n",
       "            max-width:  80px;\n",
       "            font-size:  10pt;\n",
       "        }    #T_b215e8ca_ec63_11ea_a963_e4aaeaf8c0f8row7_col10 {\n",
       "            background-color:  #e47a90;\n",
       "            color:  #000000;\n",
       "            max-width:  80px;\n",
       "            font-size:  10pt;\n",
       "        }    #T_b215e8ca_ec63_11ea_a963_e4aaeaf8c0f8row7_col11 {\n",
       "            background-color:  #d73c5b;\n",
       "            color:  #f1f1f1;\n",
       "            max-width:  80px;\n",
       "            font-size:  10pt;\n",
       "        }    #T_b215e8ca_ec63_11ea_a963_e4aaeaf8c0f8row7_col12 {\n",
       "            background-color:  #e16981;\n",
       "            color:  #000000;\n",
       "            max-width:  80px;\n",
       "            font-size:  10pt;\n",
       "        }    #T_b215e8ca_ec63_11ea_a963_e4aaeaf8c0f8row8_col0 {\n",
       "            background-color:  #e16981;\n",
       "            color:  #000000;\n",
       "            max-width:  80px;\n",
       "            font-size:  10pt;\n",
       "        }    #T_b215e8ca_ec63_11ea_a963_e4aaeaf8c0f8row8_col1 {\n",
       "            background-color:  #e27087;\n",
       "            color:  #000000;\n",
       "            max-width:  80px;\n",
       "            font-size:  10pt;\n",
       "        }    #T_b215e8ca_ec63_11ea_a963_e4aaeaf8c0f8row8_col2 {\n",
       "            background-color:  #de5f79;\n",
       "            color:  #000000;\n",
       "            max-width:  80px;\n",
       "            font-size:  10pt;\n",
       "        }    #T_b215e8ca_ec63_11ea_a963_e4aaeaf8c0f8row8_col3 {\n",
       "            background-color:  #de5b75;\n",
       "            color:  #000000;\n",
       "            max-width:  80px;\n",
       "            font-size:  10pt;\n",
       "        }    #T_b215e8ca_ec63_11ea_a963_e4aaeaf8c0f8row8_col4 {\n",
       "            background-color:  #d73c5b;\n",
       "            color:  #f1f1f1;\n",
       "            max-width:  80px;\n",
       "            font-size:  10pt;\n",
       "        }    #T_b215e8ca_ec63_11ea_a963_e4aaeaf8c0f8row8_col5 {\n",
       "            background-color:  #e58195;\n",
       "            color:  #000000;\n",
       "            max-width:  80px;\n",
       "            font-size:  10pt;\n",
       "        }    #T_b215e8ca_ec63_11ea_a963_e4aaeaf8c0f8row8_col6 {\n",
       "            background-color:  #e78c9e;\n",
       "            color:  #000000;\n",
       "            max-width:  80px;\n",
       "            font-size:  10pt;\n",
       "        }    #T_b215e8ca_ec63_11ea_a963_e4aaeaf8c0f8row8_col7 {\n",
       "            background-color:  #ea99a9;\n",
       "            color:  #000000;\n",
       "            max-width:  80px;\n",
       "            font-size:  10pt;\n",
       "        }    #T_b215e8ca_ec63_11ea_a963_e4aaeaf8c0f8row8_col8 {\n",
       "            background-color:  #4479bb;\n",
       "            color:  #000000;\n",
       "            max-width:  80px;\n",
       "            font-size:  10pt;\n",
       "        }    #T_b215e8ca_ec63_11ea_a963_e4aaeaf8c0f8row8_col9 {\n",
       "            background-color:  #f3c4cd;\n",
       "            color:  #000000;\n",
       "            max-width:  80px;\n",
       "            font-size:  10pt;\n",
       "        }    #T_b215e8ca_ec63_11ea_a963_e4aaeaf8c0f8row8_col10 {\n",
       "            background-color:  #e4798e;\n",
       "            color:  #000000;\n",
       "            max-width:  80px;\n",
       "            font-size:  10pt;\n",
       "        }    #T_b215e8ca_ec63_11ea_a963_e4aaeaf8c0f8row8_col11 {\n",
       "            background-color:  #e16d85;\n",
       "            color:  #000000;\n",
       "            max-width:  80px;\n",
       "            font-size:  10pt;\n",
       "        }    #T_b215e8ca_ec63_11ea_a963_e4aaeaf8c0f8row8_col12 {\n",
       "            background-color:  #e16981;\n",
       "            color:  #000000;\n",
       "            max-width:  80px;\n",
       "            font-size:  10pt;\n",
       "        }    #T_b215e8ca_ec63_11ea_a963_e4aaeaf8c0f8row9_col0 {\n",
       "            background-color:  #e78c9e;\n",
       "            color:  #000000;\n",
       "            max-width:  80px;\n",
       "            font-size:  10pt;\n",
       "        }    #T_b215e8ca_ec63_11ea_a963_e4aaeaf8c0f8row9_col1 {\n",
       "            background-color:  #e47c91;\n",
       "            color:  #000000;\n",
       "            max-width:  80px;\n",
       "            font-size:  10pt;\n",
       "        }    #T_b215e8ca_ec63_11ea_a963_e4aaeaf8c0f8row9_col2 {\n",
       "            background-color:  #e3768c;\n",
       "            color:  #000000;\n",
       "            max-width:  80px;\n",
       "            font-size:  10pt;\n",
       "        }    #T_b215e8ca_ec63_11ea_a963_e4aaeaf8c0f8row9_col3 {\n",
       "            background-color:  #e26f86;\n",
       "            color:  #000000;\n",
       "            max-width:  80px;\n",
       "            font-size:  10pt;\n",
       "        }    #T_b215e8ca_ec63_11ea_a963_e4aaeaf8c0f8row9_col4 {\n",
       "            background-color:  #dc546f;\n",
       "            color:  #000000;\n",
       "            max-width:  80px;\n",
       "            font-size:  10pt;\n",
       "        }    #T_b215e8ca_ec63_11ea_a963_e4aaeaf8c0f8row9_col5 {\n",
       "            background-color:  #e7879b;\n",
       "            color:  #000000;\n",
       "            max-width:  80px;\n",
       "            font-size:  10pt;\n",
       "        }    #T_b215e8ca_ec63_11ea_a963_e4aaeaf8c0f8row9_col6 {\n",
       "            background-color:  #e3768c;\n",
       "            color:  #000000;\n",
       "            max-width:  80px;\n",
       "            font-size:  10pt;\n",
       "        }    #T_b215e8ca_ec63_11ea_a963_e4aaeaf8c0f8row9_col7 {\n",
       "            background-color:  #e4798e;\n",
       "            color:  #000000;\n",
       "            max-width:  80px;\n",
       "            font-size:  10pt;\n",
       "        }    #T_b215e8ca_ec63_11ea_a963_e4aaeaf8c0f8row9_col8 {\n",
       "            background-color:  #f3c5ce;\n",
       "            color:  #000000;\n",
       "            max-width:  80px;\n",
       "            font-size:  10pt;\n",
       "        }    #T_b215e8ca_ec63_11ea_a963_e4aaeaf8c0f8row9_col9 {\n",
       "            background-color:  #4479bb;\n",
       "            color:  #000000;\n",
       "            max-width:  80px;\n",
       "            font-size:  10pt;\n",
       "        }    #T_b215e8ca_ec63_11ea_a963_e4aaeaf8c0f8row9_col10 {\n",
       "            background-color:  #de5f79;\n",
       "            color:  #000000;\n",
       "            max-width:  80px;\n",
       "            font-size:  10pt;\n",
       "        }    #T_b215e8ca_ec63_11ea_a963_e4aaeaf8c0f8row9_col11 {\n",
       "            background-color:  #e88d9f;\n",
       "            color:  #000000;\n",
       "            max-width:  80px;\n",
       "            font-size:  10pt;\n",
       "        }    #T_b215e8ca_ec63_11ea_a963_e4aaeaf8c0f8row9_col12 {\n",
       "            background-color:  #d73c5b;\n",
       "            color:  #f1f1f1;\n",
       "            max-width:  80px;\n",
       "            font-size:  10pt;\n",
       "        }    #T_b215e8ca_ec63_11ea_a963_e4aaeaf8c0f8row10_col0 {\n",
       "            background-color:  #d83e5d;\n",
       "            color:  #f1f1f1;\n",
       "            max-width:  80px;\n",
       "            font-size:  10pt;\n",
       "        }    #T_b215e8ca_ec63_11ea_a963_e4aaeaf8c0f8row10_col1 {\n",
       "            background-color:  #d94563;\n",
       "            color:  #f1f1f1;\n",
       "            max-width:  80px;\n",
       "            font-size:  10pt;\n",
       "        }    #T_b215e8ca_ec63_11ea_a963_e4aaeaf8c0f8row10_col2 {\n",
       "            background-color:  #de5b75;\n",
       "            color:  #000000;\n",
       "            max-width:  80px;\n",
       "            font-size:  10pt;\n",
       "        }    #T_b215e8ca_ec63_11ea_a963_e4aaeaf8c0f8row10_col3 {\n",
       "            background-color:  #dc526e;\n",
       "            color:  #000000;\n",
       "            max-width:  80px;\n",
       "            font-size:  10pt;\n",
       "        }    #T_b215e8ca_ec63_11ea_a963_e4aaeaf8c0f8row10_col4 {\n",
       "            background-color:  #d73c5b;\n",
       "            color:  #f1f1f1;\n",
       "            max-width:  80px;\n",
       "            font-size:  10pt;\n",
       "        }    #T_b215e8ca_ec63_11ea_a963_e4aaeaf8c0f8row10_col5 {\n",
       "            background-color:  #e27389;\n",
       "            color:  #000000;\n",
       "            max-width:  80px;\n",
       "            font-size:  10pt;\n",
       "        }    #T_b215e8ca_ec63_11ea_a963_e4aaeaf8c0f8row10_col6 {\n",
       "            background-color:  #e27087;\n",
       "            color:  #000000;\n",
       "            max-width:  80px;\n",
       "            font-size:  10pt;\n",
       "        }    #T_b215e8ca_ec63_11ea_a963_e4aaeaf8c0f8row10_col7 {\n",
       "            background-color:  #e3788d;\n",
       "            color:  #000000;\n",
       "            max-width:  80px;\n",
       "            font-size:  10pt;\n",
       "        }    #T_b215e8ca_ec63_11ea_a963_e4aaeaf8c0f8row10_col8 {\n",
       "            background-color:  #e16c84;\n",
       "            color:  #000000;\n",
       "            max-width:  80px;\n",
       "            font-size:  10pt;\n",
       "        }    #T_b215e8ca_ec63_11ea_a963_e4aaeaf8c0f8row10_col9 {\n",
       "            background-color:  #db4f6b;\n",
       "            color:  #000000;\n",
       "            max-width:  80px;\n",
       "            font-size:  10pt;\n",
       "        }    #T_b215e8ca_ec63_11ea_a963_e4aaeaf8c0f8row10_col10 {\n",
       "            background-color:  #4479bb;\n",
       "            color:  #000000;\n",
       "            max-width:  80px;\n",
       "            font-size:  10pt;\n",
       "        }    #T_b215e8ca_ec63_11ea_a963_e4aaeaf8c0f8row10_col11 {\n",
       "            background-color:  #d94764;\n",
       "            color:  #f1f1f1;\n",
       "            max-width:  80px;\n",
       "            font-size:  10pt;\n",
       "        }    #T_b215e8ca_ec63_11ea_a963_e4aaeaf8c0f8row10_col12 {\n",
       "            background-color:  #d83e5d;\n",
       "            color:  #f1f1f1;\n",
       "            max-width:  80px;\n",
       "            font-size:  10pt;\n",
       "        }    #T_b215e8ca_ec63_11ea_a963_e4aaeaf8c0f8row11_col0 {\n",
       "            background-color:  #e88d9f;\n",
       "            color:  #000000;\n",
       "            max-width:  80px;\n",
       "            font-size:  10pt;\n",
       "        }    #T_b215e8ca_ec63_11ea_a963_e4aaeaf8c0f8row11_col1 {\n",
       "            background-color:  #e57f93;\n",
       "            color:  #000000;\n",
       "            max-width:  80px;\n",
       "            font-size:  10pt;\n",
       "        }    #T_b215e8ca_ec63_11ea_a963_e4aaeaf8c0f8row11_col2 {\n",
       "            background-color:  #de5f79;\n",
       "            color:  #000000;\n",
       "            max-width:  80px;\n",
       "            font-size:  10pt;\n",
       "        }    #T_b215e8ca_ec63_11ea_a963_e4aaeaf8c0f8row11_col3 {\n",
       "            background-color:  #dc526e;\n",
       "            color:  #000000;\n",
       "            max-width:  80px;\n",
       "            font-size:  10pt;\n",
       "        }    #T_b215e8ca_ec63_11ea_a963_e4aaeaf8c0f8row11_col4 {\n",
       "            background-color:  #d73c5b;\n",
       "            color:  #f1f1f1;\n",
       "            max-width:  80px;\n",
       "            font-size:  10pt;\n",
       "        }    #T_b215e8ca_ec63_11ea_a963_e4aaeaf8c0f8row11_col5 {\n",
       "            background-color:  #e47c91;\n",
       "            color:  #000000;\n",
       "            max-width:  80px;\n",
       "            font-size:  10pt;\n",
       "        }    #T_b215e8ca_ec63_11ea_a963_e4aaeaf8c0f8row11_col6 {\n",
       "            background-color:  #e3768c;\n",
       "            color:  #000000;\n",
       "            max-width:  80px;\n",
       "            font-size:  10pt;\n",
       "        }    #T_b215e8ca_ec63_11ea_a963_e4aaeaf8c0f8row11_col7 {\n",
       "            background-color:  #d73c5b;\n",
       "            color:  #f1f1f1;\n",
       "            max-width:  80px;\n",
       "            font-size:  10pt;\n",
       "        }    #T_b215e8ca_ec63_11ea_a963_e4aaeaf8c0f8row11_col8 {\n",
       "            background-color:  #df627b;\n",
       "            color:  #000000;\n",
       "            max-width:  80px;\n",
       "            font-size:  10pt;\n",
       "        }    #T_b215e8ca_ec63_11ea_a963_e4aaeaf8c0f8row11_col9 {\n",
       "            background-color:  #e58195;\n",
       "            color:  #000000;\n",
       "            max-width:  80px;\n",
       "            font-size:  10pt;\n",
       "        }    #T_b215e8ca_ec63_11ea_a963_e4aaeaf8c0f8row11_col10 {\n",
       "            background-color:  #da4966;\n",
       "            color:  #000000;\n",
       "            max-width:  80px;\n",
       "            font-size:  10pt;\n",
       "        }    #T_b215e8ca_ec63_11ea_a963_e4aaeaf8c0f8row11_col11 {\n",
       "            background-color:  #4479bb;\n",
       "            color:  #000000;\n",
       "            max-width:  80px;\n",
       "            font-size:  10pt;\n",
       "        }    #T_b215e8ca_ec63_11ea_a963_e4aaeaf8c0f8row11_col12 {\n",
       "            background-color:  #e26f86;\n",
       "            color:  #000000;\n",
       "            max-width:  80px;\n",
       "            font-size:  10pt;\n",
       "        }    #T_b215e8ca_ec63_11ea_a963_e4aaeaf8c0f8row12_col0 {\n",
       "            background-color:  #e16d85;\n",
       "            color:  #000000;\n",
       "            max-width:  80px;\n",
       "            font-size:  10pt;\n",
       "        }    #T_b215e8ca_ec63_11ea_a963_e4aaeaf8c0f8row12_col1 {\n",
       "            background-color:  #f6d3da;\n",
       "            color:  #000000;\n",
       "            max-width:  80px;\n",
       "            font-size:  10pt;\n",
       "        }    #T_b215e8ca_ec63_11ea_a963_e4aaeaf8c0f8row12_col2 {\n",
       "            background-color:  #f1bcc7;\n",
       "            color:  #000000;\n",
       "            max-width:  80px;\n",
       "            font-size:  10pt;\n",
       "        }    #T_b215e8ca_ec63_11ea_a963_e4aaeaf8c0f8row12_col3 {\n",
       "            background-color:  #e68699;\n",
       "            color:  #000000;\n",
       "            max-width:  80px;\n",
       "            font-size:  10pt;\n",
       "        }    #T_b215e8ca_ec63_11ea_a963_e4aaeaf8c0f8row12_col4 {\n",
       "            background-color:  #f1b8c3;\n",
       "            color:  #000000;\n",
       "            max-width:  80px;\n",
       "            font-size:  10pt;\n",
       "        }    #T_b215e8ca_ec63_11ea_a963_e4aaeaf8c0f8row12_col5 {\n",
       "            background-color:  #d73c5b;\n",
       "            color:  #f1f1f1;\n",
       "            max-width:  80px;\n",
       "            font-size:  10pt;\n",
       "        }    #T_b215e8ca_ec63_11ea_a963_e4aaeaf8c0f8row12_col6 {\n",
       "            background-color:  #e4798e;\n",
       "            color:  #000000;\n",
       "            max-width:  80px;\n",
       "            font-size:  10pt;\n",
       "        }    #T_b215e8ca_ec63_11ea_a963_e4aaeaf8c0f8row12_col7 {\n",
       "            background-color:  #eda7b5;\n",
       "            color:  #000000;\n",
       "            max-width:  80px;\n",
       "            font-size:  10pt;\n",
       "        }    #T_b215e8ca_ec63_11ea_a963_e4aaeaf8c0f8row12_col8 {\n",
       "            background-color:  #eb9ead;\n",
       "            color:  #000000;\n",
       "            max-width:  80px;\n",
       "            font-size:  10pt;\n",
       "        }    #T_b215e8ca_ec63_11ea_a963_e4aaeaf8c0f8row12_col9 {\n",
       "            background-color:  #e3748a;\n",
       "            color:  #000000;\n",
       "            max-width:  80px;\n",
       "            font-size:  10pt;\n",
       "        }    #T_b215e8ca_ec63_11ea_a963_e4aaeaf8c0f8row12_col10 {\n",
       "            background-color:  #e68699;\n",
       "            color:  #000000;\n",
       "            max-width:  80px;\n",
       "            font-size:  10pt;\n",
       "        }    #T_b215e8ca_ec63_11ea_a963_e4aaeaf8c0f8row12_col11 {\n",
       "            background-color:  #eeabb8;\n",
       "            color:  #000000;\n",
       "            max-width:  80px;\n",
       "            font-size:  10pt;\n",
       "        }    #T_b215e8ca_ec63_11ea_a963_e4aaeaf8c0f8row12_col12 {\n",
       "            background-color:  #4479bb;\n",
       "            color:  #000000;\n",
       "            max-width:  80px;\n",
       "            font-size:  10pt;\n",
       "        }</style><table id=\"T_b215e8ca_ec63_11ea_a963_e4aaeaf8c0f8\" ><caption>Hover to magify</caption><thead>    <tr>        <th class=\"blank level0\" ></th>        <th class=\"col_heading level0 col0\" >age</th>        <th class=\"col_heading level0 col1\" >medu</th>        <th class=\"col_heading level0 col2\" >fedu</th>        <th class=\"col_heading level0 col3\" >traveltime</th>        <th class=\"col_heading level0 col4\" >studytime</th>        <th class=\"col_heading level0 col5\" >failures</th>        <th class=\"col_heading level0 col6\" >studytime_granular</th>        <th class=\"col_heading level0 col7\" >famrel</th>        <th class=\"col_heading level0 col8\" >freetime</th>        <th class=\"col_heading level0 col9\" >goout</th>        <th class=\"col_heading level0 col10\" >health</th>        <th class=\"col_heading level0 col11\" >absences</th>        <th class=\"col_heading level0 col12\" >score</th>    </tr></thead><tbody>\n",
       "                <tr>\n",
       "                        <th id=\"T_b215e8ca_ec63_11ea_a963_e4aaeaf8c0f8level0_row0\" class=\"row_heading level0 row0\" >age</th>\n",
       "                        <td id=\"T_b215e8ca_ec63_11ea_a963_e4aaeaf8c0f8row0_col0\" class=\"data row0 col0\" >1.00</td>\n",
       "                        <td id=\"T_b215e8ca_ec63_11ea_a963_e4aaeaf8c0f8row0_col1\" class=\"data row0 col1\" >-0.15</td>\n",
       "                        <td id=\"T_b215e8ca_ec63_11ea_a963_e4aaeaf8c0f8row0_col2\" class=\"data row0 col2\" >-0.15</td>\n",
       "                        <td id=\"T_b215e8ca_ec63_11ea_a963_e4aaeaf8c0f8row0_col3\" class=\"data row0 col3\" >0.07</td>\n",
       "                        <td id=\"T_b215e8ca_ec63_11ea_a963_e4aaeaf8c0f8row0_col4\" class=\"data row0 col4\" >-0.02</td>\n",
       "                        <td id=\"T_b215e8ca_ec63_11ea_a963_e4aaeaf8c0f8row0_col5\" class=\"data row0 col5\" >0.21</td>\n",
       "                        <td id=\"T_b215e8ca_ec63_11ea_a963_e4aaeaf8c0f8row0_col6\" class=\"data row0 col6\" >0.02</td>\n",
       "                        <td id=\"T_b215e8ca_ec63_11ea_a963_e4aaeaf8c0f8row0_col7\" class=\"data row0 col7\" >0.05</td>\n",
       "                        <td id=\"T_b215e8ca_ec63_11ea_a963_e4aaeaf8c0f8row0_col8\" class=\"data row0 col8\" >0.02</td>\n",
       "                        <td id=\"T_b215e8ca_ec63_11ea_a963_e4aaeaf8c0f8row0_col9\" class=\"data row0 col9\" >0.12</td>\n",
       "                        <td id=\"T_b215e8ca_ec63_11ea_a963_e4aaeaf8c0f8row0_col10\" class=\"data row0 col10\" >-0.07</td>\n",
       "                        <td id=\"T_b215e8ca_ec63_11ea_a963_e4aaeaf8c0f8row0_col11\" class=\"data row0 col11\" >0.16</td>\n",
       "                        <td id=\"T_b215e8ca_ec63_11ea_a963_e4aaeaf8c0f8row0_col12\" class=\"data row0 col12\" >-0.16</td>\n",
       "            </tr>\n",
       "            <tr>\n",
       "                        <th id=\"T_b215e8ca_ec63_11ea_a963_e4aaeaf8c0f8level0_row1\" class=\"row_heading level0 row1\" >medu</th>\n",
       "                        <td id=\"T_b215e8ca_ec63_11ea_a963_e4aaeaf8c0f8row1_col0\" class=\"data row1 col0\" >-0.15</td>\n",
       "                        <td id=\"T_b215e8ca_ec63_11ea_a963_e4aaeaf8c0f8row1_col1\" class=\"data row1 col1\" >1.00</td>\n",
       "                        <td id=\"T_b215e8ca_ec63_11ea_a963_e4aaeaf8c0f8row1_col2\" class=\"data row1 col2\" >0.63</td>\n",
       "                        <td id=\"T_b215e8ca_ec63_11ea_a963_e4aaeaf8c0f8row1_col3\" class=\"data row1 col3\" >-0.17</td>\n",
       "                        <td id=\"T_b215e8ca_ec63_11ea_a963_e4aaeaf8c0f8row1_col4\" class=\"data row1 col4\" >0.08</td>\n",
       "                        <td id=\"T_b215e8ca_ec63_11ea_a963_e4aaeaf8c0f8row1_col5\" class=\"data row1 col5\" >-0.24</td>\n",
       "                        <td id=\"T_b215e8ca_ec63_11ea_a963_e4aaeaf8c0f8row1_col6\" class=\"data row1 col6\" >-0.08</td>\n",
       "                        <td id=\"T_b215e8ca_ec63_11ea_a963_e4aaeaf8c0f8row1_col7\" class=\"data row1 col7\" >-0.01</td>\n",
       "                        <td id=\"T_b215e8ca_ec63_11ea_a963_e4aaeaf8c0f8row1_col8\" class=\"data row1 col8\" >0.04</td>\n",
       "                        <td id=\"T_b215e8ca_ec63_11ea_a963_e4aaeaf8c0f8row1_col9\" class=\"data row1 col9\" >0.07</td>\n",
       "                        <td id=\"T_b215e8ca_ec63_11ea_a963_e4aaeaf8c0f8row1_col10\" class=\"data row1 col10\" >-0.05</td>\n",
       "                        <td id=\"T_b215e8ca_ec63_11ea_a963_e4aaeaf8c0f8row1_col11\" class=\"data row1 col11\" >0.11</td>\n",
       "                        <td id=\"T_b215e8ca_ec63_11ea_a963_e4aaeaf8c0f8row1_col12\" class=\"data row1 col12\" >0.21</td>\n",
       "            </tr>\n",
       "            <tr>\n",
       "                        <th id=\"T_b215e8ca_ec63_11ea_a963_e4aaeaf8c0f8level0_row2\" class=\"row_heading level0 row2\" >fedu</th>\n",
       "                        <td id=\"T_b215e8ca_ec63_11ea_a963_e4aaeaf8c0f8row2_col0\" class=\"data row2 col0\" >-0.15</td>\n",
       "                        <td id=\"T_b215e8ca_ec63_11ea_a963_e4aaeaf8c0f8row2_col1\" class=\"data row2 col1\" >0.63</td>\n",
       "                        <td id=\"T_b215e8ca_ec63_11ea_a963_e4aaeaf8c0f8row2_col2\" class=\"data row2 col2\" >1.00</td>\n",
       "                        <td id=\"T_b215e8ca_ec63_11ea_a963_e4aaeaf8c0f8row2_col3\" class=\"data row2 col3\" >-0.14</td>\n",
       "                        <td id=\"T_b215e8ca_ec63_11ea_a963_e4aaeaf8c0f8row2_col4\" class=\"data row2 col4\" >0.01</td>\n",
       "                        <td id=\"T_b215e8ca_ec63_11ea_a963_e4aaeaf8c0f8row2_col5\" class=\"data row2 col5\" >-0.27</td>\n",
       "                        <td id=\"T_b215e8ca_ec63_11ea_a963_e4aaeaf8c0f8row2_col6\" class=\"data row2 col6\" >-0.01</td>\n",
       "                        <td id=\"T_b215e8ca_ec63_11ea_a963_e4aaeaf8c0f8row2_col7\" class=\"data row2 col7\" >-0.03</td>\n",
       "                        <td id=\"T_b215e8ca_ec63_11ea_a963_e4aaeaf8c0f8row2_col8\" class=\"data row2 col8\" >-0.01</td>\n",
       "                        <td id=\"T_b215e8ca_ec63_11ea_a963_e4aaeaf8c0f8row2_col9\" class=\"data row2 col9\" >0.05</td>\n",
       "                        <td id=\"T_b215e8ca_ec63_11ea_a963_e4aaeaf8c0f8row2_col10\" class=\"data row2 col10\" >0.02</td>\n",
       "                        <td id=\"T_b215e8ca_ec63_11ea_a963_e4aaeaf8c0f8row2_col11\" class=\"data row2 col11\" >0.02</td>\n",
       "                        <td id=\"T_b215e8ca_ec63_11ea_a963_e4aaeaf8c0f8row2_col12\" class=\"data row2 col12\" >0.13</td>\n",
       "            </tr>\n",
       "            <tr>\n",
       "                        <th id=\"T_b215e8ca_ec63_11ea_a963_e4aaeaf8c0f8level0_row3\" class=\"row_heading level0 row3\" >traveltime</th>\n",
       "                        <td id=\"T_b215e8ca_ec63_11ea_a963_e4aaeaf8c0f8row3_col0\" class=\"data row3 col0\" >0.07</td>\n",
       "                        <td id=\"T_b215e8ca_ec63_11ea_a963_e4aaeaf8c0f8row3_col1\" class=\"data row3 col1\" >-0.17</td>\n",
       "                        <td id=\"T_b215e8ca_ec63_11ea_a963_e4aaeaf8c0f8row3_col2\" class=\"data row3 col2\" >-0.14</td>\n",
       "                        <td id=\"T_b215e8ca_ec63_11ea_a963_e4aaeaf8c0f8row3_col3\" class=\"data row3 col3\" >1.00</td>\n",
       "                        <td id=\"T_b215e8ca_ec63_11ea_a963_e4aaeaf8c0f8row3_col4\" class=\"data row3 col4\" >-0.11</td>\n",
       "                        <td id=\"T_b215e8ca_ec63_11ea_a963_e4aaeaf8c0f8row3_col5\" class=\"data row3 col5\" >0.05</td>\n",
       "                        <td id=\"T_b215e8ca_ec63_11ea_a963_e4aaeaf8c0f8row3_col6\" class=\"data row3 col6\" >0.11</td>\n",
       "                        <td id=\"T_b215e8ca_ec63_11ea_a963_e4aaeaf8c0f8row3_col7\" class=\"data row3 col7\" >-0.04</td>\n",
       "                        <td id=\"T_b215e8ca_ec63_11ea_a963_e4aaeaf8c0f8row3_col8\" class=\"data row3 col8\" >-0.03</td>\n",
       "                        <td id=\"T_b215e8ca_ec63_11ea_a963_e4aaeaf8c0f8row3_col9\" class=\"data row3 col9\" >0.03</td>\n",
       "                        <td id=\"T_b215e8ca_ec63_11ea_a963_e4aaeaf8c0f8row3_col10\" class=\"data row3 col10\" >-0.01</td>\n",
       "                        <td id=\"T_b215e8ca_ec63_11ea_a963_e4aaeaf8c0f8row3_col11\" class=\"data row3 col11\" >-0.02</td>\n",
       "                        <td id=\"T_b215e8ca_ec63_11ea_a963_e4aaeaf8c0f8row3_col12\" class=\"data row3 col12\" >-0.07</td>\n",
       "            </tr>\n",
       "            <tr>\n",
       "                        <th id=\"T_b215e8ca_ec63_11ea_a963_e4aaeaf8c0f8level0_row4\" class=\"row_heading level0 row4\" >studytime</th>\n",
       "                        <td id=\"T_b215e8ca_ec63_11ea_a963_e4aaeaf8c0f8row4_col0\" class=\"data row4 col0\" >-0.02</td>\n",
       "                        <td id=\"T_b215e8ca_ec63_11ea_a963_e4aaeaf8c0f8row4_col1\" class=\"data row4 col1\" >0.08</td>\n",
       "                        <td id=\"T_b215e8ca_ec63_11ea_a963_e4aaeaf8c0f8row4_col2\" class=\"data row4 col2\" >0.01</td>\n",
       "                        <td id=\"T_b215e8ca_ec63_11ea_a963_e4aaeaf8c0f8row4_col3\" class=\"data row4 col3\" >-0.11</td>\n",
       "                        <td id=\"T_b215e8ca_ec63_11ea_a963_e4aaeaf8c0f8row4_col4\" class=\"data row4 col4\" >1.00</td>\n",
       "                        <td id=\"T_b215e8ca_ec63_11ea_a963_e4aaeaf8c0f8row4_col5\" class=\"data row4 col5\" >-0.18</td>\n",
       "                        <td id=\"T_b215e8ca_ec63_11ea_a963_e4aaeaf8c0f8row4_col6\" class=\"data row4 col6\" >-1.00</td>\n",
       "                        <td id=\"T_b215e8ca_ec63_11ea_a963_e4aaeaf8c0f8row4_col7\" class=\"data row4 col7\" >0.03</td>\n",
       "                        <td id=\"T_b215e8ca_ec63_11ea_a963_e4aaeaf8c0f8row4_col8\" class=\"data row4 col8\" >-0.13</td>\n",
       "                        <td id=\"T_b215e8ca_ec63_11ea_a963_e4aaeaf8c0f8row4_col9\" class=\"data row4 col9\" >-0.05</td>\n",
       "                        <td id=\"T_b215e8ca_ec63_11ea_a963_e4aaeaf8c0f8row4_col10\" class=\"data row4 col10\" >-0.08</td>\n",
       "                        <td id=\"T_b215e8ca_ec63_11ea_a963_e4aaeaf8c0f8row4_col11\" class=\"data row4 col11\" >-0.09</td>\n",
       "                        <td id=\"T_b215e8ca_ec63_11ea_a963_e4aaeaf8c0f8row4_col12\" class=\"data row4 col12\" >0.12</td>\n",
       "            </tr>\n",
       "            <tr>\n",
       "                        <th id=\"T_b215e8ca_ec63_11ea_a963_e4aaeaf8c0f8level0_row5\" class=\"row_heading level0 row5\" >failures</th>\n",
       "                        <td id=\"T_b215e8ca_ec63_11ea_a963_e4aaeaf8c0f8row5_col0\" class=\"data row5 col0\" >0.21</td>\n",
       "                        <td id=\"T_b215e8ca_ec63_11ea_a963_e4aaeaf8c0f8row5_col1\" class=\"data row5 col1\" >-0.24</td>\n",
       "                        <td id=\"T_b215e8ca_ec63_11ea_a963_e4aaeaf8c0f8row5_col2\" class=\"data row5 col2\" >-0.27</td>\n",
       "                        <td id=\"T_b215e8ca_ec63_11ea_a963_e4aaeaf8c0f8row5_col3\" class=\"data row5 col3\" >0.05</td>\n",
       "                        <td id=\"T_b215e8ca_ec63_11ea_a963_e4aaeaf8c0f8row5_col4\" class=\"data row5 col4\" >-0.18</td>\n",
       "                        <td id=\"T_b215e8ca_ec63_11ea_a963_e4aaeaf8c0f8row5_col5\" class=\"data row5 col5\" >1.00</td>\n",
       "                        <td id=\"T_b215e8ca_ec63_11ea_a963_e4aaeaf8c0f8row5_col6\" class=\"data row5 col6\" >0.18</td>\n",
       "                        <td id=\"T_b215e8ca_ec63_11ea_a963_e4aaeaf8c0f8row5_col7\" class=\"data row5 col7\" >0.00</td>\n",
       "                        <td id=\"T_b215e8ca_ec63_11ea_a963_e4aaeaf8c0f8row5_col8\" class=\"data row5 col8\" >0.09</td>\n",
       "                        <td id=\"T_b215e8ca_ec63_11ea_a963_e4aaeaf8c0f8row5_col9\" class=\"data row5 col9\" >0.11</td>\n",
       "                        <td id=\"T_b215e8ca_ec63_11ea_a963_e4aaeaf8c0f8row5_col10\" class=\"data row5 col10\" >0.09</td>\n",
       "                        <td id=\"T_b215e8ca_ec63_11ea_a963_e4aaeaf8c0f8row5_col11\" class=\"data row5 col11\" >0.10</td>\n",
       "                        <td id=\"T_b215e8ca_ec63_11ea_a963_e4aaeaf8c0f8row5_col12\" class=\"data row5 col12\" >-0.34</td>\n",
       "            </tr>\n",
       "            <tr>\n",
       "                        <th id=\"T_b215e8ca_ec63_11ea_a963_e4aaeaf8c0f8level0_row6\" class=\"row_heading level0 row6\" >studytime_granular</th>\n",
       "                        <td id=\"T_b215e8ca_ec63_11ea_a963_e4aaeaf8c0f8row6_col0\" class=\"data row6 col0\" >0.02</td>\n",
       "                        <td id=\"T_b215e8ca_ec63_11ea_a963_e4aaeaf8c0f8row6_col1\" class=\"data row6 col1\" >-0.08</td>\n",
       "                        <td id=\"T_b215e8ca_ec63_11ea_a963_e4aaeaf8c0f8row6_col2\" class=\"data row6 col2\" >-0.01</td>\n",
       "                        <td id=\"T_b215e8ca_ec63_11ea_a963_e4aaeaf8c0f8row6_col3\" class=\"data row6 col3\" >0.11</td>\n",
       "                        <td id=\"T_b215e8ca_ec63_11ea_a963_e4aaeaf8c0f8row6_col4\" class=\"data row6 col4\" >-1.00</td>\n",
       "                        <td id=\"T_b215e8ca_ec63_11ea_a963_e4aaeaf8c0f8row6_col5\" class=\"data row6 col5\" >0.18</td>\n",
       "                        <td id=\"T_b215e8ca_ec63_11ea_a963_e4aaeaf8c0f8row6_col6\" class=\"data row6 col6\" >1.00</td>\n",
       "                        <td id=\"T_b215e8ca_ec63_11ea_a963_e4aaeaf8c0f8row6_col7\" class=\"data row6 col7\" >-0.03</td>\n",
       "                        <td id=\"T_b215e8ca_ec63_11ea_a963_e4aaeaf8c0f8row6_col8\" class=\"data row6 col8\" >0.13</td>\n",
       "                        <td id=\"T_b215e8ca_ec63_11ea_a963_e4aaeaf8c0f8row6_col9\" class=\"data row6 col9\" >0.05</td>\n",
       "                        <td id=\"T_b215e8ca_ec63_11ea_a963_e4aaeaf8c0f8row6_col10\" class=\"data row6 col10\" >0.08</td>\n",
       "                        <td id=\"T_b215e8ca_ec63_11ea_a963_e4aaeaf8c0f8row6_col11\" class=\"data row6 col11\" >0.09</td>\n",
       "                        <td id=\"T_b215e8ca_ec63_11ea_a963_e4aaeaf8c0f8row6_col12\" class=\"data row6 col12\" >-0.12</td>\n",
       "            </tr>\n",
       "            <tr>\n",
       "                        <th id=\"T_b215e8ca_ec63_11ea_a963_e4aaeaf8c0f8level0_row7\" class=\"row_heading level0 row7\" >famrel</th>\n",
       "                        <td id=\"T_b215e8ca_ec63_11ea_a963_e4aaeaf8c0f8row7_col0\" class=\"data row7 col0\" >0.05</td>\n",
       "                        <td id=\"T_b215e8ca_ec63_11ea_a963_e4aaeaf8c0f8row7_col1\" class=\"data row7 col1\" >-0.01</td>\n",
       "                        <td id=\"T_b215e8ca_ec63_11ea_a963_e4aaeaf8c0f8row7_col2\" class=\"data row7 col2\" >-0.03</td>\n",
       "                        <td id=\"T_b215e8ca_ec63_11ea_a963_e4aaeaf8c0f8row7_col3\" class=\"data row7 col3\" >-0.04</td>\n",
       "                        <td id=\"T_b215e8ca_ec63_11ea_a963_e4aaeaf8c0f8row7_col4\" class=\"data row7 col4\" >0.03</td>\n",
       "                        <td id=\"T_b215e8ca_ec63_11ea_a963_e4aaeaf8c0f8row7_col5\" class=\"data row7 col5\" >0.00</td>\n",
       "                        <td id=\"T_b215e8ca_ec63_11ea_a963_e4aaeaf8c0f8row7_col6\" class=\"data row7 col6\" >-0.03</td>\n",
       "                        <td id=\"T_b215e8ca_ec63_11ea_a963_e4aaeaf8c0f8row7_col7\" class=\"data row7 col7\" >1.00</td>\n",
       "                        <td id=\"T_b215e8ca_ec63_11ea_a963_e4aaeaf8c0f8row7_col8\" class=\"data row7 col8\" >0.16</td>\n",
       "                        <td id=\"T_b215e8ca_ec63_11ea_a963_e4aaeaf8c0f8row7_col9\" class=\"data row7 col9\" >0.06</td>\n",
       "                        <td id=\"T_b215e8ca_ec63_11ea_a963_e4aaeaf8c0f8row7_col10\" class=\"data row7 col10\" >0.10</td>\n",
       "                        <td id=\"T_b215e8ca_ec63_11ea_a963_e4aaeaf8c0f8row7_col11\" class=\"data row7 col11\" >-0.09</td>\n",
       "                        <td id=\"T_b215e8ca_ec63_11ea_a963_e4aaeaf8c0f8row7_col12\" class=\"data row7 col12\" >0.05</td>\n",
       "            </tr>\n",
       "            <tr>\n",
       "                        <th id=\"T_b215e8ca_ec63_11ea_a963_e4aaeaf8c0f8level0_row8\" class=\"row_heading level0 row8\" >freetime</th>\n",
       "                        <td id=\"T_b215e8ca_ec63_11ea_a963_e4aaeaf8c0f8row8_col0\" class=\"data row8 col0\" >0.02</td>\n",
       "                        <td id=\"T_b215e8ca_ec63_11ea_a963_e4aaeaf8c0f8row8_col1\" class=\"data row8 col1\" >0.04</td>\n",
       "                        <td id=\"T_b215e8ca_ec63_11ea_a963_e4aaeaf8c0f8row8_col2\" class=\"data row8 col2\" >-0.01</td>\n",
       "                        <td id=\"T_b215e8ca_ec63_11ea_a963_e4aaeaf8c0f8row8_col3\" class=\"data row8 col3\" >-0.03</td>\n",
       "                        <td id=\"T_b215e8ca_ec63_11ea_a963_e4aaeaf8c0f8row8_col4\" class=\"data row8 col4\" >-0.13</td>\n",
       "                        <td id=\"T_b215e8ca_ec63_11ea_a963_e4aaeaf8c0f8row8_col5\" class=\"data row8 col5\" >0.09</td>\n",
       "                        <td id=\"T_b215e8ca_ec63_11ea_a963_e4aaeaf8c0f8row8_col6\" class=\"data row8 col6\" >0.13</td>\n",
       "                        <td id=\"T_b215e8ca_ec63_11ea_a963_e4aaeaf8c0f8row8_col7\" class=\"data row8 col7\" >0.16</td>\n",
       "                        <td id=\"T_b215e8ca_ec63_11ea_a963_e4aaeaf8c0f8row8_col8\" class=\"data row8 col8\" >1.00</td>\n",
       "                        <td id=\"T_b215e8ca_ec63_11ea_a963_e4aaeaf8c0f8row8_col9\" class=\"data row8 col9\" >0.30</td>\n",
       "                        <td id=\"T_b215e8ca_ec63_11ea_a963_e4aaeaf8c0f8row8_col10\" class=\"data row8 col10\" >0.06</td>\n",
       "                        <td id=\"T_b215e8ca_ec63_11ea_a963_e4aaeaf8c0f8row8_col11\" class=\"data row8 col11\" >0.03</td>\n",
       "                        <td id=\"T_b215e8ca_ec63_11ea_a963_e4aaeaf8c0f8row8_col12\" class=\"data row8 col12\" >0.02</td>\n",
       "            </tr>\n",
       "            <tr>\n",
       "                        <th id=\"T_b215e8ca_ec63_11ea_a963_e4aaeaf8c0f8level0_row9\" class=\"row_heading level0 row9\" >goout</th>\n",
       "                        <td id=\"T_b215e8ca_ec63_11ea_a963_e4aaeaf8c0f8row9_col0\" class=\"data row9 col0\" >0.12</td>\n",
       "                        <td id=\"T_b215e8ca_ec63_11ea_a963_e4aaeaf8c0f8row9_col1\" class=\"data row9 col1\" >0.07</td>\n",
       "                        <td id=\"T_b215e8ca_ec63_11ea_a963_e4aaeaf8c0f8row9_col2\" class=\"data row9 col2\" >0.05</td>\n",
       "                        <td id=\"T_b215e8ca_ec63_11ea_a963_e4aaeaf8c0f8row9_col3\" class=\"data row9 col3\" >0.03</td>\n",
       "                        <td id=\"T_b215e8ca_ec63_11ea_a963_e4aaeaf8c0f8row9_col4\" class=\"data row9 col4\" >-0.05</td>\n",
       "                        <td id=\"T_b215e8ca_ec63_11ea_a963_e4aaeaf8c0f8row9_col5\" class=\"data row9 col5\" >0.11</td>\n",
       "                        <td id=\"T_b215e8ca_ec63_11ea_a963_e4aaeaf8c0f8row9_col6\" class=\"data row9 col6\" >0.05</td>\n",
       "                        <td id=\"T_b215e8ca_ec63_11ea_a963_e4aaeaf8c0f8row9_col7\" class=\"data row9 col7\" >0.06</td>\n",
       "                        <td id=\"T_b215e8ca_ec63_11ea_a963_e4aaeaf8c0f8row9_col8\" class=\"data row9 col8\" >0.30</td>\n",
       "                        <td id=\"T_b215e8ca_ec63_11ea_a963_e4aaeaf8c0f8row9_col9\" class=\"data row9 col9\" >1.00</td>\n",
       "                        <td id=\"T_b215e8ca_ec63_11ea_a963_e4aaeaf8c0f8row9_col10\" class=\"data row9 col10\" >-0.02</td>\n",
       "                        <td id=\"T_b215e8ca_ec63_11ea_a963_e4aaeaf8c0f8row9_col11\" class=\"data row9 col11\" >0.12</td>\n",
       "                        <td id=\"T_b215e8ca_ec63_11ea_a963_e4aaeaf8c0f8row9_col12\" class=\"data row9 col12\" >-0.13</td>\n",
       "            </tr>\n",
       "            <tr>\n",
       "                        <th id=\"T_b215e8ca_ec63_11ea_a963_e4aaeaf8c0f8level0_row10\" class=\"row_heading level0 row10\" >health</th>\n",
       "                        <td id=\"T_b215e8ca_ec63_11ea_a963_e4aaeaf8c0f8row10_col0\" class=\"data row10 col0\" >-0.07</td>\n",
       "                        <td id=\"T_b215e8ca_ec63_11ea_a963_e4aaeaf8c0f8row10_col1\" class=\"data row10 col1\" >-0.05</td>\n",
       "                        <td id=\"T_b215e8ca_ec63_11ea_a963_e4aaeaf8c0f8row10_col2\" class=\"data row10 col2\" >0.02</td>\n",
       "                        <td id=\"T_b215e8ca_ec63_11ea_a963_e4aaeaf8c0f8row10_col3\" class=\"data row10 col3\" >-0.01</td>\n",
       "                        <td id=\"T_b215e8ca_ec63_11ea_a963_e4aaeaf8c0f8row10_col4\" class=\"data row10 col4\" >-0.08</td>\n",
       "                        <td id=\"T_b215e8ca_ec63_11ea_a963_e4aaeaf8c0f8row10_col5\" class=\"data row10 col5\" >0.09</td>\n",
       "                        <td id=\"T_b215e8ca_ec63_11ea_a963_e4aaeaf8c0f8row10_col6\" class=\"data row10 col6\" >0.08</td>\n",
       "                        <td id=\"T_b215e8ca_ec63_11ea_a963_e4aaeaf8c0f8row10_col7\" class=\"data row10 col7\" >0.10</td>\n",
       "                        <td id=\"T_b215e8ca_ec63_11ea_a963_e4aaeaf8c0f8row10_col8\" class=\"data row10 col8\" >0.06</td>\n",
       "                        <td id=\"T_b215e8ca_ec63_11ea_a963_e4aaeaf8c0f8row10_col9\" class=\"data row10 col9\" >-0.02</td>\n",
       "                        <td id=\"T_b215e8ca_ec63_11ea_a963_e4aaeaf8c0f8row10_col10\" class=\"data row10 col10\" >1.00</td>\n",
       "                        <td id=\"T_b215e8ca_ec63_11ea_a963_e4aaeaf8c0f8row10_col11\" class=\"data row10 col11\" >-0.04</td>\n",
       "                        <td id=\"T_b215e8ca_ec63_11ea_a963_e4aaeaf8c0f8row10_col12\" class=\"data row10 col12\" >-0.07</td>\n",
       "            </tr>\n",
       "            <tr>\n",
       "                        <th id=\"T_b215e8ca_ec63_11ea_a963_e4aaeaf8c0f8level0_row11\" class=\"row_heading level0 row11\" >absences</th>\n",
       "                        <td id=\"T_b215e8ca_ec63_11ea_a963_e4aaeaf8c0f8row11_col0\" class=\"data row11 col0\" >0.16</td>\n",
       "                        <td id=\"T_b215e8ca_ec63_11ea_a963_e4aaeaf8c0f8row11_col1\" class=\"data row11 col1\" >0.11</td>\n",
       "                        <td id=\"T_b215e8ca_ec63_11ea_a963_e4aaeaf8c0f8row11_col2\" class=\"data row11 col2\" >0.02</td>\n",
       "                        <td id=\"T_b215e8ca_ec63_11ea_a963_e4aaeaf8c0f8row11_col3\" class=\"data row11 col3\" >-0.02</td>\n",
       "                        <td id=\"T_b215e8ca_ec63_11ea_a963_e4aaeaf8c0f8row11_col4\" class=\"data row11 col4\" >-0.09</td>\n",
       "                        <td id=\"T_b215e8ca_ec63_11ea_a963_e4aaeaf8c0f8row11_col5\" class=\"data row11 col5\" >0.10</td>\n",
       "                        <td id=\"T_b215e8ca_ec63_11ea_a963_e4aaeaf8c0f8row11_col6\" class=\"data row11 col6\" >0.09</td>\n",
       "                        <td id=\"T_b215e8ca_ec63_11ea_a963_e4aaeaf8c0f8row11_col7\" class=\"data row11 col7\" >-0.09</td>\n",
       "                        <td id=\"T_b215e8ca_ec63_11ea_a963_e4aaeaf8c0f8row11_col8\" class=\"data row11 col8\" >0.03</td>\n",
       "                        <td id=\"T_b215e8ca_ec63_11ea_a963_e4aaeaf8c0f8row11_col9\" class=\"data row11 col9\" >0.12</td>\n",
       "                        <td id=\"T_b215e8ca_ec63_11ea_a963_e4aaeaf8c0f8row11_col10\" class=\"data row11 col10\" >-0.04</td>\n",
       "                        <td id=\"T_b215e8ca_ec63_11ea_a963_e4aaeaf8c0f8row11_col11\" class=\"data row11 col11\" >1.00</td>\n",
       "                        <td id=\"T_b215e8ca_ec63_11ea_a963_e4aaeaf8c0f8row11_col12\" class=\"data row11 col12\" >0.07</td>\n",
       "            </tr>\n",
       "            <tr>\n",
       "                        <th id=\"T_b215e8ca_ec63_11ea_a963_e4aaeaf8c0f8level0_row12\" class=\"row_heading level0 row12\" >score</th>\n",
       "                        <td id=\"T_b215e8ca_ec63_11ea_a963_e4aaeaf8c0f8row12_col0\" class=\"data row12 col0\" >-0.16</td>\n",
       "                        <td id=\"T_b215e8ca_ec63_11ea_a963_e4aaeaf8c0f8row12_col1\" class=\"data row12 col1\" >0.21</td>\n",
       "                        <td id=\"T_b215e8ca_ec63_11ea_a963_e4aaeaf8c0f8row12_col2\" class=\"data row12 col2\" >0.13</td>\n",
       "                        <td id=\"T_b215e8ca_ec63_11ea_a963_e4aaeaf8c0f8row12_col3\" class=\"data row12 col3\" >-0.07</td>\n",
       "                        <td id=\"T_b215e8ca_ec63_11ea_a963_e4aaeaf8c0f8row12_col4\" class=\"data row12 col4\" >0.12</td>\n",
       "                        <td id=\"T_b215e8ca_ec63_11ea_a963_e4aaeaf8c0f8row12_col5\" class=\"data row12 col5\" >-0.34</td>\n",
       "                        <td id=\"T_b215e8ca_ec63_11ea_a963_e4aaeaf8c0f8row12_col6\" class=\"data row12 col6\" >-0.12</td>\n",
       "                        <td id=\"T_b215e8ca_ec63_11ea_a963_e4aaeaf8c0f8row12_col7\" class=\"data row12 col7\" >0.05</td>\n",
       "                        <td id=\"T_b215e8ca_ec63_11ea_a963_e4aaeaf8c0f8row12_col8\" class=\"data row12 col8\" >0.02</td>\n",
       "                        <td id=\"T_b215e8ca_ec63_11ea_a963_e4aaeaf8c0f8row12_col9\" class=\"data row12 col9\" >-0.13</td>\n",
       "                        <td id=\"T_b215e8ca_ec63_11ea_a963_e4aaeaf8c0f8row12_col10\" class=\"data row12 col10\" >-0.07</td>\n",
       "                        <td id=\"T_b215e8ca_ec63_11ea_a963_e4aaeaf8c0f8row12_col11\" class=\"data row12 col11\" >0.07</td>\n",
       "                        <td id=\"T_b215e8ca_ec63_11ea_a963_e4aaeaf8c0f8row12_col12\" class=\"data row12 col12\" >1.00</td>\n",
       "            </tr>\n",
       "    </tbody></table>"
      ],
      "text/plain": [
       "<pandas.io.formats.style.Styler at 0x22985ed26c8>"
      ]
     },
     "execution_count": 32,
     "metadata": {},
     "output_type": "execute_result"
    }
   ],
   "source": [
    "corr = df.corr()\n",
    "cmap = sns.diverging_palette(5, 250, as_cmap=True)\n",
    "\n",
    "\n",
    "def magnify():\n",
    "    return [dict(selector=\"th\",\n",
    "                 props=[(\"font-size\", \"7pt\")]),\n",
    "            dict(selector=\"td\",\n",
    "                 props=[('padding', \"0em 0em\")]),\n",
    "            dict(selector=\"th:hover\",\n",
    "                 props=[(\"font-size\", \"12pt\")]),\n",
    "            dict(selector=\"tr:hover td:hover\",\n",
    "                 props=[('max-width', '200px'),\n",
    "                        ('font-size', '12pt')])\n",
    "            ]\n",
    "\n",
    "\n",
    "corr.style.background_gradient(cmap, axis=1)\\\n",
    "    .set_properties(**{'max-width': '80px', 'font-size': '10pt'})\\\n",
    "    .set_caption(\"Hover to magify\")\\\n",
    "    .set_precision(2)\\\n",
    "    .set_table_styles(magnify())"
   ]
  },
  {
   "cell_type": "markdown",
   "metadata": {},
   "source": [
    "\n",
    "Самая большая зависимость между столбцами failures, medu и целевой переменой\n",
    "\n",
    "Чем больше внеучебных неудач тем меньше оценка\n",
    "\n",
    "Можно предположить, что более образованные матери понимают важность образования и влияют на мотивацию получать высокую оценку детей (о том что гены(уровень интеллекта родителей) играют меньшую роль говорит слабая корреляция между  score и fedu при высокой между fedu и medu)\n",
    "\n",
    "Самая минимальная зависимость score от freetime. При этом существует относительно небольшая зависимость между свободным временем после школы и проведением временем с друзьями, что говорит о том, что школьники в свободное время занимаются, чем-то другим, а не общением с друзьями. Большее количество времени, уделенное друзьям, отрицательно влияет на оценки.\n",
    "\n",
    "Как и предполагалось столбцы studytime и studytime_granular индентичны. Так как у них одинаковая корреляция с целевой переменной нет разницы какой столбец нужно удалить. Удаляю studytime_granular.\n"
   ]
  },
  {
   "cell_type": "code",
   "execution_count": 33,
   "metadata": {},
   "outputs": [],
   "source": [
    "df.drop(['studytime_granular'], axis=1, inplace=True)"
   ]
  },
  {
   "cell_type": "code",
   "execution_count": 34,
   "metadata": {},
   "outputs": [],
   "source": [
    "#sns.pairplot(df, kind = 'reg')"
   ]
  },
  {
   "cell_type": "markdown",
   "metadata": {},
   "source": [
    "## Категориальные переменные"
   ]
  },
  {
   "cell_type": "code",
   "execution_count": 35,
   "metadata": {},
   "outputs": [],
   "source": [
    "# Функция для получения информации о столбцах с категориальными переменными\n",
    "def value(column):\n",
    "    display(pd.DataFrame(df[column].value_counts()))\n",
    "    print(\"Значений, встретившихся в столбце более 5 раз:\",\n",
    "          (df[column].value_counts() > 5).sum())\n",
    "    print(\"Уникальных значений:\", df[column].nunique())\n",
    "    print(\"Количество пропущенных значений:\", df[column].isna().sum())\n",
    "    #df.loc[:, [column]].info()\n",
    "    df[column]"
   ]
  },
  {
   "cell_type": "code",
   "execution_count": 36,
   "metadata": {
    "scrolled": false
   },
   "outputs": [
    {
     "data": {
      "text/html": [
       "<div>\n",
       "<style scoped>\n",
       "    .dataframe tbody tr th:only-of-type {\n",
       "        vertical-align: middle;\n",
       "    }\n",
       "\n",
       "    .dataframe tbody tr th {\n",
       "        vertical-align: top;\n",
       "    }\n",
       "\n",
       "    .dataframe thead th {\n",
       "        text-align: right;\n",
       "    }\n",
       "</style>\n",
       "<table border=\"1\" class=\"dataframe\">\n",
       "  <thead>\n",
       "    <tr style=\"text-align: right;\">\n",
       "      <th></th>\n",
       "      <th>school</th>\n",
       "    </tr>\n",
       "  </thead>\n",
       "  <tbody>\n",
       "    <tr>\n",
       "      <th>GP</th>\n",
       "      <td>344</td>\n",
       "    </tr>\n",
       "    <tr>\n",
       "      <th>MS</th>\n",
       "      <td>45</td>\n",
       "    </tr>\n",
       "  </tbody>\n",
       "</table>\n",
       "</div>"
      ],
      "text/plain": [
       "    school\n",
       "GP     344\n",
       "MS      45"
      ]
     },
     "metadata": {},
     "output_type": "display_data"
    },
    {
     "name": "stdout",
     "output_type": "stream",
     "text": [
      "Значений, встретившихся в столбце более 5 раз: 2\n",
      "Уникальных значений: 2\n",
      "Количество пропущенных значений: 0\n"
     ]
    },
    {
     "data": {
      "text/html": [
       "<div>\n",
       "<style scoped>\n",
       "    .dataframe tbody tr th:only-of-type {\n",
       "        vertical-align: middle;\n",
       "    }\n",
       "\n",
       "    .dataframe tbody tr th {\n",
       "        vertical-align: top;\n",
       "    }\n",
       "\n",
       "    .dataframe thead th {\n",
       "        text-align: right;\n",
       "    }\n",
       "</style>\n",
       "<table border=\"1\" class=\"dataframe\">\n",
       "  <thead>\n",
       "    <tr style=\"text-align: right;\">\n",
       "      <th></th>\n",
       "      <th>sex</th>\n",
       "    </tr>\n",
       "  </thead>\n",
       "  <tbody>\n",
       "    <tr>\n",
       "      <th>F</th>\n",
       "      <td>204</td>\n",
       "    </tr>\n",
       "    <tr>\n",
       "      <th>M</th>\n",
       "      <td>185</td>\n",
       "    </tr>\n",
       "  </tbody>\n",
       "</table>\n",
       "</div>"
      ],
      "text/plain": [
       "   sex\n",
       "F  204\n",
       "M  185"
      ]
     },
     "metadata": {},
     "output_type": "display_data"
    },
    {
     "name": "stdout",
     "output_type": "stream",
     "text": [
      "Значений, встретившихся в столбце более 5 раз: 2\n",
      "Уникальных значений: 2\n",
      "Количество пропущенных значений: 0\n"
     ]
    },
    {
     "data": {
      "text/html": [
       "<div>\n",
       "<style scoped>\n",
       "    .dataframe tbody tr th:only-of-type {\n",
       "        vertical-align: middle;\n",
       "    }\n",
       "\n",
       "    .dataframe tbody tr th {\n",
       "        vertical-align: top;\n",
       "    }\n",
       "\n",
       "    .dataframe thead th {\n",
       "        text-align: right;\n",
       "    }\n",
       "</style>\n",
       "<table border=\"1\" class=\"dataframe\">\n",
       "  <thead>\n",
       "    <tr style=\"text-align: right;\">\n",
       "      <th></th>\n",
       "      <th>address</th>\n",
       "    </tr>\n",
       "  </thead>\n",
       "  <tbody>\n",
       "    <tr>\n",
       "      <th>U</th>\n",
       "      <td>291</td>\n",
       "    </tr>\n",
       "    <tr>\n",
       "      <th>R</th>\n",
       "      <td>83</td>\n",
       "    </tr>\n",
       "  </tbody>\n",
       "</table>\n",
       "</div>"
      ],
      "text/plain": [
       "   address\n",
       "U      291\n",
       "R       83"
      ]
     },
     "metadata": {},
     "output_type": "display_data"
    },
    {
     "name": "stdout",
     "output_type": "stream",
     "text": [
      "Значений, встретившихся в столбце более 5 раз: 2\n",
      "Уникальных значений: 2\n",
      "Количество пропущенных значений: 15\n"
     ]
    },
    {
     "data": {
      "text/html": [
       "<div>\n",
       "<style scoped>\n",
       "    .dataframe tbody tr th:only-of-type {\n",
       "        vertical-align: middle;\n",
       "    }\n",
       "\n",
       "    .dataframe tbody tr th {\n",
       "        vertical-align: top;\n",
       "    }\n",
       "\n",
       "    .dataframe thead th {\n",
       "        text-align: right;\n",
       "    }\n",
       "</style>\n",
       "<table border=\"1\" class=\"dataframe\">\n",
       "  <thead>\n",
       "    <tr style=\"text-align: right;\">\n",
       "      <th></th>\n",
       "      <th>famsize</th>\n",
       "    </tr>\n",
       "  </thead>\n",
       "  <tbody>\n",
       "    <tr>\n",
       "      <th>GT3</th>\n",
       "      <td>255</td>\n",
       "    </tr>\n",
       "    <tr>\n",
       "      <th>LE3</th>\n",
       "      <td>107</td>\n",
       "    </tr>\n",
       "  </tbody>\n",
       "</table>\n",
       "</div>"
      ],
      "text/plain": [
       "     famsize\n",
       "GT3      255\n",
       "LE3      107"
      ]
     },
     "metadata": {},
     "output_type": "display_data"
    },
    {
     "name": "stdout",
     "output_type": "stream",
     "text": [
      "Значений, встретившихся в столбце более 5 раз: 2\n",
      "Уникальных значений: 2\n",
      "Количество пропущенных значений: 27\n"
     ]
    },
    {
     "data": {
      "text/html": [
       "<div>\n",
       "<style scoped>\n",
       "    .dataframe tbody tr th:only-of-type {\n",
       "        vertical-align: middle;\n",
       "    }\n",
       "\n",
       "    .dataframe tbody tr th {\n",
       "        vertical-align: top;\n",
       "    }\n",
       "\n",
       "    .dataframe thead th {\n",
       "        text-align: right;\n",
       "    }\n",
       "</style>\n",
       "<table border=\"1\" class=\"dataframe\">\n",
       "  <thead>\n",
       "    <tr style=\"text-align: right;\">\n",
       "      <th></th>\n",
       "      <th>pstatus</th>\n",
       "    </tr>\n",
       "  </thead>\n",
       "  <tbody>\n",
       "    <tr>\n",
       "      <th>T</th>\n",
       "      <td>308</td>\n",
       "    </tr>\n",
       "    <tr>\n",
       "      <th>A</th>\n",
       "      <td>36</td>\n",
       "    </tr>\n",
       "  </tbody>\n",
       "</table>\n",
       "</div>"
      ],
      "text/plain": [
       "   pstatus\n",
       "T      308\n",
       "A       36"
      ]
     },
     "metadata": {},
     "output_type": "display_data"
    },
    {
     "name": "stdout",
     "output_type": "stream",
     "text": [
      "Значений, встретившихся в столбце более 5 раз: 2\n",
      "Уникальных значений: 2\n",
      "Количество пропущенных значений: 45\n"
     ]
    },
    {
     "data": {
      "text/html": [
       "<div>\n",
       "<style scoped>\n",
       "    .dataframe tbody tr th:only-of-type {\n",
       "        vertical-align: middle;\n",
       "    }\n",
       "\n",
       "    .dataframe tbody tr th {\n",
       "        vertical-align: top;\n",
       "    }\n",
       "\n",
       "    .dataframe thead th {\n",
       "        text-align: right;\n",
       "    }\n",
       "</style>\n",
       "<table border=\"1\" class=\"dataframe\">\n",
       "  <thead>\n",
       "    <tr style=\"text-align: right;\">\n",
       "      <th></th>\n",
       "      <th>mjob</th>\n",
       "    </tr>\n",
       "  </thead>\n",
       "  <tbody>\n",
       "    <tr>\n",
       "      <th>other</th>\n",
       "      <td>127</td>\n",
       "    </tr>\n",
       "    <tr>\n",
       "      <th>services</th>\n",
       "      <td>98</td>\n",
       "    </tr>\n",
       "    <tr>\n",
       "      <th>at_home</th>\n",
       "      <td>58</td>\n",
       "    </tr>\n",
       "    <tr>\n",
       "      <th>teacher</th>\n",
       "      <td>55</td>\n",
       "    </tr>\n",
       "    <tr>\n",
       "      <th>health</th>\n",
       "      <td>32</td>\n",
       "    </tr>\n",
       "  </tbody>\n",
       "</table>\n",
       "</div>"
      ],
      "text/plain": [
       "          mjob\n",
       "other      127\n",
       "services    98\n",
       "at_home     58\n",
       "teacher     55\n",
       "health      32"
      ]
     },
     "metadata": {},
     "output_type": "display_data"
    },
    {
     "name": "stdout",
     "output_type": "stream",
     "text": [
      "Значений, встретившихся в столбце более 5 раз: 5\n",
      "Уникальных значений: 5\n",
      "Количество пропущенных значений: 19\n"
     ]
    },
    {
     "data": {
      "text/html": [
       "<div>\n",
       "<style scoped>\n",
       "    .dataframe tbody tr th:only-of-type {\n",
       "        vertical-align: middle;\n",
       "    }\n",
       "\n",
       "    .dataframe tbody tr th {\n",
       "        vertical-align: top;\n",
       "    }\n",
       "\n",
       "    .dataframe thead th {\n",
       "        text-align: right;\n",
       "    }\n",
       "</style>\n",
       "<table border=\"1\" class=\"dataframe\">\n",
       "  <thead>\n",
       "    <tr style=\"text-align: right;\">\n",
       "      <th></th>\n",
       "      <th>fjob</th>\n",
       "    </tr>\n",
       "  </thead>\n",
       "  <tbody>\n",
       "    <tr>\n",
       "      <th>other</th>\n",
       "      <td>194</td>\n",
       "    </tr>\n",
       "    <tr>\n",
       "      <th>services</th>\n",
       "      <td>99</td>\n",
       "    </tr>\n",
       "    <tr>\n",
       "      <th>teacher</th>\n",
       "      <td>29</td>\n",
       "    </tr>\n",
       "    <tr>\n",
       "      <th>at_home</th>\n",
       "      <td>16</td>\n",
       "    </tr>\n",
       "    <tr>\n",
       "      <th>health</th>\n",
       "      <td>15</td>\n",
       "    </tr>\n",
       "  </tbody>\n",
       "</table>\n",
       "</div>"
      ],
      "text/plain": [
       "          fjob\n",
       "other      194\n",
       "services    99\n",
       "teacher     29\n",
       "at_home     16\n",
       "health      15"
      ]
     },
     "metadata": {},
     "output_type": "display_data"
    },
    {
     "name": "stdout",
     "output_type": "stream",
     "text": [
      "Значений, встретившихся в столбце более 5 раз: 5\n",
      "Уникальных значений: 5\n",
      "Количество пропущенных значений: 36\n"
     ]
    },
    {
     "data": {
      "text/html": [
       "<div>\n",
       "<style scoped>\n",
       "    .dataframe tbody tr th:only-of-type {\n",
       "        vertical-align: middle;\n",
       "    }\n",
       "\n",
       "    .dataframe tbody tr th {\n",
       "        vertical-align: top;\n",
       "    }\n",
       "\n",
       "    .dataframe thead th {\n",
       "        text-align: right;\n",
       "    }\n",
       "</style>\n",
       "<table border=\"1\" class=\"dataframe\">\n",
       "  <thead>\n",
       "    <tr style=\"text-align: right;\">\n",
       "      <th></th>\n",
       "      <th>reason</th>\n",
       "    </tr>\n",
       "  </thead>\n",
       "  <tbody>\n",
       "    <tr>\n",
       "      <th>course</th>\n",
       "      <td>135</td>\n",
       "    </tr>\n",
       "    <tr>\n",
       "      <th>reputation</th>\n",
       "      <td>102</td>\n",
       "    </tr>\n",
       "    <tr>\n",
       "      <th>home</th>\n",
       "      <td>101</td>\n",
       "    </tr>\n",
       "    <tr>\n",
       "      <th>other</th>\n",
       "      <td>34</td>\n",
       "    </tr>\n",
       "  </tbody>\n",
       "</table>\n",
       "</div>"
      ],
      "text/plain": [
       "            reason\n",
       "course         135\n",
       "reputation     102\n",
       "home           101\n",
       "other           34"
      ]
     },
     "metadata": {},
     "output_type": "display_data"
    },
    {
     "name": "stdout",
     "output_type": "stream",
     "text": [
      "Значений, встретившихся в столбце более 5 раз: 4\n",
      "Уникальных значений: 4\n",
      "Количество пропущенных значений: 17\n"
     ]
    },
    {
     "data": {
      "text/html": [
       "<div>\n",
       "<style scoped>\n",
       "    .dataframe tbody tr th:only-of-type {\n",
       "        vertical-align: middle;\n",
       "    }\n",
       "\n",
       "    .dataframe tbody tr th {\n",
       "        vertical-align: top;\n",
       "    }\n",
       "\n",
       "    .dataframe thead th {\n",
       "        text-align: right;\n",
       "    }\n",
       "</style>\n",
       "<table border=\"1\" class=\"dataframe\">\n",
       "  <thead>\n",
       "    <tr style=\"text-align: right;\">\n",
       "      <th></th>\n",
       "      <th>guardian</th>\n",
       "    </tr>\n",
       "  </thead>\n",
       "  <tbody>\n",
       "    <tr>\n",
       "      <th>mother</th>\n",
       "      <td>248</td>\n",
       "    </tr>\n",
       "    <tr>\n",
       "      <th>father</th>\n",
       "      <td>86</td>\n",
       "    </tr>\n",
       "    <tr>\n",
       "      <th>other</th>\n",
       "      <td>24</td>\n",
       "    </tr>\n",
       "  </tbody>\n",
       "</table>\n",
       "</div>"
      ],
      "text/plain": [
       "        guardian\n",
       "mother       248\n",
       "father        86\n",
       "other         24"
      ]
     },
     "metadata": {},
     "output_type": "display_data"
    },
    {
     "name": "stdout",
     "output_type": "stream",
     "text": [
      "Значений, встретившихся в столбце более 5 раз: 3\n",
      "Уникальных значений: 3\n",
      "Количество пропущенных значений: 31\n"
     ]
    },
    {
     "data": {
      "text/html": [
       "<div>\n",
       "<style scoped>\n",
       "    .dataframe tbody tr th:only-of-type {\n",
       "        vertical-align: middle;\n",
       "    }\n",
       "\n",
       "    .dataframe tbody tr th {\n",
       "        vertical-align: top;\n",
       "    }\n",
       "\n",
       "    .dataframe thead th {\n",
       "        text-align: right;\n",
       "    }\n",
       "</style>\n",
       "<table border=\"1\" class=\"dataframe\">\n",
       "  <thead>\n",
       "    <tr style=\"text-align: right;\">\n",
       "      <th></th>\n",
       "      <th>schoolsup</th>\n",
       "    </tr>\n",
       "  </thead>\n",
       "  <tbody>\n",
       "    <tr>\n",
       "      <th>no</th>\n",
       "      <td>331</td>\n",
       "    </tr>\n",
       "    <tr>\n",
       "      <th>yes</th>\n",
       "      <td>49</td>\n",
       "    </tr>\n",
       "  </tbody>\n",
       "</table>\n",
       "</div>"
      ],
      "text/plain": [
       "     schoolsup\n",
       "no         331\n",
       "yes         49"
      ]
     },
     "metadata": {},
     "output_type": "display_data"
    },
    {
     "name": "stdout",
     "output_type": "stream",
     "text": [
      "Значений, встретившихся в столбце более 5 раз: 2\n",
      "Уникальных значений: 2\n",
      "Количество пропущенных значений: 9\n"
     ]
    },
    {
     "data": {
      "text/html": [
       "<div>\n",
       "<style scoped>\n",
       "    .dataframe tbody tr th:only-of-type {\n",
       "        vertical-align: middle;\n",
       "    }\n",
       "\n",
       "    .dataframe tbody tr th {\n",
       "        vertical-align: top;\n",
       "    }\n",
       "\n",
       "    .dataframe thead th {\n",
       "        text-align: right;\n",
       "    }\n",
       "</style>\n",
       "<table border=\"1\" class=\"dataframe\">\n",
       "  <thead>\n",
       "    <tr style=\"text-align: right;\">\n",
       "      <th></th>\n",
       "      <th>famsup</th>\n",
       "    </tr>\n",
       "  </thead>\n",
       "  <tbody>\n",
       "    <tr>\n",
       "      <th>yes</th>\n",
       "      <td>216</td>\n",
       "    </tr>\n",
       "    <tr>\n",
       "      <th>no</th>\n",
       "      <td>135</td>\n",
       "    </tr>\n",
       "  </tbody>\n",
       "</table>\n",
       "</div>"
      ],
      "text/plain": [
       "     famsup\n",
       "yes     216\n",
       "no      135"
      ]
     },
     "metadata": {},
     "output_type": "display_data"
    },
    {
     "name": "stdout",
     "output_type": "stream",
     "text": [
      "Значений, встретившихся в столбце более 5 раз: 2\n",
      "Уникальных значений: 2\n",
      "Количество пропущенных значений: 38\n"
     ]
    },
    {
     "data": {
      "text/html": [
       "<div>\n",
       "<style scoped>\n",
       "    .dataframe tbody tr th:only-of-type {\n",
       "        vertical-align: middle;\n",
       "    }\n",
       "\n",
       "    .dataframe tbody tr th {\n",
       "        vertical-align: top;\n",
       "    }\n",
       "\n",
       "    .dataframe thead th {\n",
       "        text-align: right;\n",
       "    }\n",
       "</style>\n",
       "<table border=\"1\" class=\"dataframe\">\n",
       "  <thead>\n",
       "    <tr style=\"text-align: right;\">\n",
       "      <th></th>\n",
       "      <th>paid</th>\n",
       "    </tr>\n",
       "  </thead>\n",
       "  <tbody>\n",
       "    <tr>\n",
       "      <th>no</th>\n",
       "      <td>197</td>\n",
       "    </tr>\n",
       "    <tr>\n",
       "      <th>yes</th>\n",
       "      <td>153</td>\n",
       "    </tr>\n",
       "  </tbody>\n",
       "</table>\n",
       "</div>"
      ],
      "text/plain": [
       "     paid\n",
       "no    197\n",
       "yes   153"
      ]
     },
     "metadata": {},
     "output_type": "display_data"
    },
    {
     "name": "stdout",
     "output_type": "stream",
     "text": [
      "Значений, встретившихся в столбце более 5 раз: 2\n",
      "Уникальных значений: 2\n",
      "Количество пропущенных значений: 39\n"
     ]
    },
    {
     "data": {
      "text/html": [
       "<div>\n",
       "<style scoped>\n",
       "    .dataframe tbody tr th:only-of-type {\n",
       "        vertical-align: middle;\n",
       "    }\n",
       "\n",
       "    .dataframe tbody tr th {\n",
       "        vertical-align: top;\n",
       "    }\n",
       "\n",
       "    .dataframe thead th {\n",
       "        text-align: right;\n",
       "    }\n",
       "</style>\n",
       "<table border=\"1\" class=\"dataframe\">\n",
       "  <thead>\n",
       "    <tr style=\"text-align: right;\">\n",
       "      <th></th>\n",
       "      <th>activities</th>\n",
       "    </tr>\n",
       "  </thead>\n",
       "  <tbody>\n",
       "    <tr>\n",
       "      <th>yes</th>\n",
       "      <td>192</td>\n",
       "    </tr>\n",
       "    <tr>\n",
       "      <th>no</th>\n",
       "      <td>183</td>\n",
       "    </tr>\n",
       "  </tbody>\n",
       "</table>\n",
       "</div>"
      ],
      "text/plain": [
       "     activities\n",
       "yes         192\n",
       "no          183"
      ]
     },
     "metadata": {},
     "output_type": "display_data"
    },
    {
     "name": "stdout",
     "output_type": "stream",
     "text": [
      "Значений, встретившихся в столбце более 5 раз: 2\n",
      "Уникальных значений: 2\n",
      "Количество пропущенных значений: 14\n"
     ]
    },
    {
     "data": {
      "text/html": [
       "<div>\n",
       "<style scoped>\n",
       "    .dataframe tbody tr th:only-of-type {\n",
       "        vertical-align: middle;\n",
       "    }\n",
       "\n",
       "    .dataframe tbody tr th {\n",
       "        vertical-align: top;\n",
       "    }\n",
       "\n",
       "    .dataframe thead th {\n",
       "        text-align: right;\n",
       "    }\n",
       "</style>\n",
       "<table border=\"1\" class=\"dataframe\">\n",
       "  <thead>\n",
       "    <tr style=\"text-align: right;\">\n",
       "      <th></th>\n",
       "      <th>nursery</th>\n",
       "    </tr>\n",
       "  </thead>\n",
       "  <tbody>\n",
       "    <tr>\n",
       "      <th>yes</th>\n",
       "      <td>297</td>\n",
       "    </tr>\n",
       "    <tr>\n",
       "      <th>no</th>\n",
       "      <td>77</td>\n",
       "    </tr>\n",
       "  </tbody>\n",
       "</table>\n",
       "</div>"
      ],
      "text/plain": [
       "     nursery\n",
       "yes      297\n",
       "no        77"
      ]
     },
     "metadata": {},
     "output_type": "display_data"
    },
    {
     "name": "stdout",
     "output_type": "stream",
     "text": [
      "Значений, встретившихся в столбце более 5 раз: 2\n",
      "Уникальных значений: 2\n",
      "Количество пропущенных значений: 15\n"
     ]
    },
    {
     "data": {
      "text/html": [
       "<div>\n",
       "<style scoped>\n",
       "    .dataframe tbody tr th:only-of-type {\n",
       "        vertical-align: middle;\n",
       "    }\n",
       "\n",
       "    .dataframe tbody tr th {\n",
       "        vertical-align: top;\n",
       "    }\n",
       "\n",
       "    .dataframe thead th {\n",
       "        text-align: right;\n",
       "    }\n",
       "</style>\n",
       "<table border=\"1\" class=\"dataframe\">\n",
       "  <thead>\n",
       "    <tr style=\"text-align: right;\">\n",
       "      <th></th>\n",
       "      <th>higher</th>\n",
       "    </tr>\n",
       "  </thead>\n",
       "  <tbody>\n",
       "    <tr>\n",
       "      <th>yes</th>\n",
       "      <td>350</td>\n",
       "    </tr>\n",
       "    <tr>\n",
       "      <th>no</th>\n",
       "      <td>19</td>\n",
       "    </tr>\n",
       "  </tbody>\n",
       "</table>\n",
       "</div>"
      ],
      "text/plain": [
       "     higher\n",
       "yes     350\n",
       "no       19"
      ]
     },
     "metadata": {},
     "output_type": "display_data"
    },
    {
     "name": "stdout",
     "output_type": "stream",
     "text": [
      "Значений, встретившихся в столбце более 5 раз: 2\n",
      "Уникальных значений: 2\n",
      "Количество пропущенных значений: 20\n"
     ]
    },
    {
     "data": {
      "text/html": [
       "<div>\n",
       "<style scoped>\n",
       "    .dataframe tbody tr th:only-of-type {\n",
       "        vertical-align: middle;\n",
       "    }\n",
       "\n",
       "    .dataframe tbody tr th {\n",
       "        vertical-align: top;\n",
       "    }\n",
       "\n",
       "    .dataframe thead th {\n",
       "        text-align: right;\n",
       "    }\n",
       "</style>\n",
       "<table border=\"1\" class=\"dataframe\">\n",
       "  <thead>\n",
       "    <tr style=\"text-align: right;\">\n",
       "      <th></th>\n",
       "      <th>internet</th>\n",
       "    </tr>\n",
       "  </thead>\n",
       "  <tbody>\n",
       "    <tr>\n",
       "      <th>yes</th>\n",
       "      <td>300</td>\n",
       "    </tr>\n",
       "    <tr>\n",
       "      <th>no</th>\n",
       "      <td>55</td>\n",
       "    </tr>\n",
       "  </tbody>\n",
       "</table>\n",
       "</div>"
      ],
      "text/plain": [
       "     internet\n",
       "yes       300\n",
       "no         55"
      ]
     },
     "metadata": {},
     "output_type": "display_data"
    },
    {
     "name": "stdout",
     "output_type": "stream",
     "text": [
      "Значений, встретившихся в столбце более 5 раз: 2\n",
      "Уникальных значений: 2\n",
      "Количество пропущенных значений: 34\n"
     ]
    },
    {
     "data": {
      "text/html": [
       "<div>\n",
       "<style scoped>\n",
       "    .dataframe tbody tr th:only-of-type {\n",
       "        vertical-align: middle;\n",
       "    }\n",
       "\n",
       "    .dataframe tbody tr th {\n",
       "        vertical-align: top;\n",
       "    }\n",
       "\n",
       "    .dataframe thead th {\n",
       "        text-align: right;\n",
       "    }\n",
       "</style>\n",
       "<table border=\"1\" class=\"dataframe\">\n",
       "  <thead>\n",
       "    <tr style=\"text-align: right;\">\n",
       "      <th></th>\n",
       "      <th>romantic</th>\n",
       "    </tr>\n",
       "  </thead>\n",
       "  <tbody>\n",
       "    <tr>\n",
       "      <th>no</th>\n",
       "      <td>235</td>\n",
       "    </tr>\n",
       "    <tr>\n",
       "      <th>yes</th>\n",
       "      <td>123</td>\n",
       "    </tr>\n",
       "  </tbody>\n",
       "</table>\n",
       "</div>"
      ],
      "text/plain": [
       "     romantic\n",
       "no        235\n",
       "yes       123"
      ]
     },
     "metadata": {},
     "output_type": "display_data"
    },
    {
     "name": "stdout",
     "output_type": "stream",
     "text": [
      "Значений, встретившихся в столбце более 5 раз: 2\n",
      "Уникальных значений: 2\n",
      "Количество пропущенных значений: 31\n"
     ]
    }
   ],
   "source": [
    "# Вывод информации по столбцам\n",
    "for col in category:\n",
    "    value(col)"
   ]
  },
  {
   "cell_type": "markdown",
   "metadata": {},
   "source": [
    "В данных нет пропусков, которые не обработаны. Почти в каждом столбце есть пропуски.\n",
    "В данных есть информация по двум школам. Учитывая одинаковый порядок столбцов school и address можно проверить гипотезу о их взаимосвязи. \n"
   ]
  },
  {
   "cell_type": "code",
   "execution_count": 37,
   "metadata": {},
   "outputs": [
    {
     "data": {
      "text/plain": [
       "school  address\n",
       "GP      U          273\n",
       "        R           60\n",
       "MS      R           23\n",
       "        U           18\n",
       "Name: address, dtype: int64"
      ]
     },
     "execution_count": 37,
     "metadata": {},
     "output_type": "execute_result"
    }
   ],
   "source": [
    "df.groupby(['school']).address.value_counts()"
   ]
  },
  {
   "cell_type": "code",
   "execution_count": 38,
   "metadata": {},
   "outputs": [],
   "source": [
    "# Нет четкого различия.\n",
    "# Гипотеза о том, что одна школа находится в городе, а другая за городом не верна"
   ]
  },
  {
   "cell_type": "code",
   "execution_count": 39,
   "metadata": {},
   "outputs": [],
   "source": [
    "# Посмотрим на box-plot столбцов от score"
   ]
  },
  {
   "cell_type": "code",
   "execution_count": 40,
   "metadata": {},
   "outputs": [],
   "source": [
    "def get_boxplot(column):\n",
    "    fig, ax = plt.subplots(figsize=(14, 4))\n",
    "    sns.boxplot(x=column, y='score',\n",
    "                data=df,\n",
    "                ax=ax)\n",
    "    plt.xticks(rotation=45)\n",
    "    ax.set_title('Boxplot for ' + column)\n",
    "    plt.show()"
   ]
  },
  {
   "cell_type": "code",
   "execution_count": 41,
   "metadata": {
    "scrolled": false
   },
   "outputs": [
    {
     "data": {
      "image/png": "[encoded data removed]",
      "text/plain": [
       "<Figure size 1008x288 with 1 Axes>"
      ]
     },
     "metadata": {},
     "output_type": "display_data"
    },
    {
     "data": {
      "image/png": "[encoded data removed]",
      "text/plain": [
       "<Figure size 1008x288 with 1 Axes>"
      ]
     },
     "metadata": {},
     "output_type": "display_data"
    },
    {
     "data": {
      "image/png": "[encoded data removed]",
      "text/plain": [
       "<Figure size 1008x288 with 1 Axes>"
      ]
     },
     "metadata": {},
     "output_type": "display_data"
    },
    {
     "data": {
      "image/png": "[encoded data removed]",
      "text/plain": [
       "<Figure size 1008x288 with 1 Axes>"
      ]
     },
     "metadata": {},
     "output_type": "display_data"
    },
    {
     "data": {
      "image/png": "[encoded data removed]",
      "text/plain": [
       "<Figure size 1008x288 with 1 Axes>"
      ]
     },
     "metadata": {},
     "output_type": "display_data"
    },
    {
     "data": {
      "image/png": "[encoded data removed]",
      "text/plain": [
       "<Figure size 1008x288 with 1 Axes>"
      ]
     },
     "metadata": {},
     "output_type": "display_data"
    },
    {
     "data": {
      "image/png": "[encoded data removed]",
      "text/plain": [
       "<Figure size 1008x288 with 1 Axes>"
      ]
     },
     "metadata": {},
     "output_type": "display_data"
    },
    {
     "data": {
      "image/png": "[encoded data removed]",
      "text/plain": [
       "<Figure size 1008x288 with 1 Axes>"
      ]
     },
     "metadata": {},
     "output_type": "display_data"
    },
    {
     "data": {
      "image/png": "[encoded data removed]",
      "text/plain": [
       "<Figure size 1008x288 with 1 Axes>"
      ]
     },
     "metadata": {},
     "output_type": "display_data"
    },
    {
     "data": {
      "image/png": "[encoded data removed]",
      "text/plain": [
       "<Figure size 1008x288 with 1 Axes>"
      ]
     },
     "metadata": {},
     "output_type": "display_data"
    },
    {
     "data": {
      "image/png": "[encoded data removed]",
      "text/plain": [
       "<Figure size 1008x288 with 1 Axes>"
      ]
     },
     "metadata": {},
     "output_type": "display_data"
    },
    {
     "data": {
      "image/png": "[encoded data removed]",
      "text/plain": [
       "<Figure size 1008x288 with 1 Axes>"
      ]
     },
     "metadata": {},
     "output_type": "display_data"
    },
    {
     "data": {
      "image/png": "[encoded data removed]",
      "text/plain": [
       "<Figure size 1008x288 with 1 Axes>"
      ]
     },
     "metadata": {},
     "output_type": "display_data"
    },
    {
     "data": {
      "image/png": "[encoded data removed]",
      "text/plain": [
       "<Figure size 1008x288 with 1 Axes>"
      ]
     },
     "metadata": {},
     "output_type": "display_data"
    },
    {
     "data": {
      "image/png": "[encoded data removed]",
      "text/plain": [
       "<Figure size 1008x288 with 1 Axes>"
      ]
     },
     "metadata": {},
     "output_type": "display_data"
    },
    {
     "data": {
      "image/png": "[encoded data removed]",
      "text/plain": [
       "<Figure size 1008x288 with 1 Axes>"
      ]
     },
     "metadata": {},
     "output_type": "display_data"
    },
    {
     "data": {
      "image/png": "[encoded data removed]",
      "text/plain": [
       "<Figure size 1008x288 with 1 Axes>"
      ]
     },
     "metadata": {},
     "output_type": "display_data"
    }
   ],
   "source": [
    "for col in category:\n",
    "    get_boxplot(col)"
   ]
  },
  {
   "cell_type": "code",
   "execution_count": 42,
   "metadata": {},
   "outputs": [],
   "source": [
    "# Проверим, есть ли статистическая разница в распределении оценок по категориальным  признакам, с помощью теста Стьюдента.\n",
    "# Проверим нулевую гипотезу о том, что распределения оценок по математике по различным параметрам неразличимы:\n",
    "def get_stat_dif(column):\n",
    "    cols = df[df[column].isnull() == False][column].unique()\n",
    "    combinations_all = list(combinations(cols, 2))\n",
    "    for comb in combinations_all:\n",
    "        if ttest_ind(df.loc[df.loc[:, column] == comb[0], 'score'],\n",
    "                     df.loc[df.loc[:, column] == comb[1], 'score']).pvalue \\\n",
    "                <= 0.1/len(combinations_all):  # Учли поправку Бонферони c коэффициентом значимости 0.1\n",
    "            print('Найдены статистически значимые различия для колонки', column)\n",
    "            return True\n",
    "            \n",
    "    return False"
   ]
  },
  {
   "cell_type": "code",
   "execution_count": 44,
   "metadata": {},
   "outputs": [
    {
     "name": "stdout",
     "output_type": "stream",
     "text": [
      "Найдены статистически значимые различия для колонки sex\n",
      "Найдены статистически значимые различия для колонки address\n",
      "Найдены статистически значимые различия для колонки mjob\n",
      "Найдены статистически значимые различия для колонки schoolsup\n",
      "Найдены статистически значимые различия для колонки paid\n",
      "Найдены статистически значимые различия для колонки higher\n",
      "Найдены статистически значимые различия для колонки romantic\n"
     ]
    }
   ],
   "source": [
    "valuable = []\n",
    "for col in category:\n",
    "    result = get_stat_dif(col)\n",
    "    if result:\n",
    "        valuable.append(col)"
   ]
  },
  {
   "cell_type": "markdown",
   "metadata": {},
   "source": [
    "Тест Стьюдента дал результаты сопоставимые с box-plot(для этого пришлось увеличить коэффициент значимости и притвориться, что данные имеют нормальное распределение)"
   ]
  },
  {
   "cell_type": "markdown",
   "metadata": {},
   "source": [
    "Интересно, что важна работа матери и не важна работа отца"
   ]
  },
  {
   "cell_type": "code",
   "execution_count": 45,
   "metadata": {},
   "outputs": [
    {
     "data": {
      "text/plain": [
       "['sex', 'address', 'mjob', 'schoolsup', 'paid', 'higher', 'romantic']"
      ]
     },
     "execution_count": 45,
     "metadata": {},
     "output_type": "execute_result"
    }
   ],
   "source": [
    "# Список важных категориальных переменных\n",
    "valuable"
   ]
  },
  {
   "cell_type": "code",
   "execution_count": 46,
   "metadata": {},
   "outputs": [],
   "source": [
    "# Запущу ячейку еще раз, для получения измененного списка number(числовые переменные)\n",
    "# Сделаю список столбцов по типам данных\n",
    "number = []\n",
    "category = []\n",
    "for im in df.columns:\n",
    "    if df[im].dtypes == 'object':\n",
    "        category.append(im)\n",
    "    else:\n",
    "        number.append(im)"
   ]
  },
  {
   "cell_type": "code",
   "execution_count": 47,
   "metadata": {},
   "outputs": [
    {
     "data": {
      "text/html": [
       "<div>\n",
       "<style scoped>\n",
       "    .dataframe tbody tr th:only-of-type {\n",
       "        vertical-align: middle;\n",
       "    }\n",
       "\n",
       "    .dataframe tbody tr th {\n",
       "        vertical-align: top;\n",
       "    }\n",
       "\n",
       "    .dataframe thead th {\n",
       "        text-align: right;\n",
       "    }\n",
       "</style>\n",
       "<table border=\"1\" class=\"dataframe\">\n",
       "  <thead>\n",
       "    <tr style=\"text-align: right;\">\n",
       "      <th></th>\n",
       "      <th>sex</th>\n",
       "      <th>address</th>\n",
       "      <th>mjob</th>\n",
       "      <th>schoolsup</th>\n",
       "      <th>paid</th>\n",
       "      <th>higher</th>\n",
       "      <th>romantic</th>\n",
       "      <th>age</th>\n",
       "      <th>medu</th>\n",
       "      <th>fedu</th>\n",
       "      <th>traveltime</th>\n",
       "      <th>studytime</th>\n",
       "      <th>failures</th>\n",
       "      <th>famrel</th>\n",
       "      <th>freetime</th>\n",
       "      <th>goout</th>\n",
       "      <th>health</th>\n",
       "      <th>absences</th>\n",
       "      <th>score</th>\n",
       "    </tr>\n",
       "  </thead>\n",
       "  <tbody>\n",
       "    <tr>\n",
       "      <th>0</th>\n",
       "      <td>F</td>\n",
       "      <td>U</td>\n",
       "      <td>at_home</td>\n",
       "      <td>yes</td>\n",
       "      <td>no</td>\n",
       "      <td>yes</td>\n",
       "      <td>no</td>\n",
       "      <td>18</td>\n",
       "      <td>4.0</td>\n",
       "      <td>4.0</td>\n",
       "      <td>2.0</td>\n",
       "      <td>2.0</td>\n",
       "      <td>0.0</td>\n",
       "      <td>4.0</td>\n",
       "      <td>3.0</td>\n",
       "      <td>4.0</td>\n",
       "      <td>3.0</td>\n",
       "      <td>6.0</td>\n",
       "      <td>30.0</td>\n",
       "    </tr>\n",
       "    <tr>\n",
       "      <th>1</th>\n",
       "      <td>F</td>\n",
       "      <td>U</td>\n",
       "      <td>at_home</td>\n",
       "      <td>no</td>\n",
       "      <td>no</td>\n",
       "      <td>yes</td>\n",
       "      <td>no</td>\n",
       "      <td>17</td>\n",
       "      <td>1.0</td>\n",
       "      <td>1.0</td>\n",
       "      <td>1.0</td>\n",
       "      <td>2.0</td>\n",
       "      <td>0.0</td>\n",
       "      <td>5.0</td>\n",
       "      <td>3.0</td>\n",
       "      <td>3.0</td>\n",
       "      <td>3.0</td>\n",
       "      <td>4.0</td>\n",
       "      <td>30.0</td>\n",
       "    </tr>\n",
       "    <tr>\n",
       "      <th>2</th>\n",
       "      <td>F</td>\n",
       "      <td>U</td>\n",
       "      <td>at_home</td>\n",
       "      <td>yes</td>\n",
       "      <td>NaN</td>\n",
       "      <td>yes</td>\n",
       "      <td>NaN</td>\n",
       "      <td>15</td>\n",
       "      <td>1.0</td>\n",
       "      <td>1.0</td>\n",
       "      <td>1.0</td>\n",
       "      <td>2.0</td>\n",
       "      <td>3.0</td>\n",
       "      <td>4.0</td>\n",
       "      <td>3.0</td>\n",
       "      <td>2.0</td>\n",
       "      <td>3.0</td>\n",
       "      <td>10.0</td>\n",
       "      <td>50.0</td>\n",
       "    </tr>\n",
       "    <tr>\n",
       "      <th>3</th>\n",
       "      <td>F</td>\n",
       "      <td>U</td>\n",
       "      <td>health</td>\n",
       "      <td>no</td>\n",
       "      <td>yes</td>\n",
       "      <td>yes</td>\n",
       "      <td>yes</td>\n",
       "      <td>15</td>\n",
       "      <td>4.0</td>\n",
       "      <td>2.0</td>\n",
       "      <td>1.0</td>\n",
       "      <td>3.0</td>\n",
       "      <td>0.0</td>\n",
       "      <td>3.0</td>\n",
       "      <td>2.0</td>\n",
       "      <td>2.0</td>\n",
       "      <td>5.0</td>\n",
       "      <td>2.0</td>\n",
       "      <td>75.0</td>\n",
       "    </tr>\n",
       "    <tr>\n",
       "      <th>4</th>\n",
       "      <td>F</td>\n",
       "      <td>U</td>\n",
       "      <td>other</td>\n",
       "      <td>no</td>\n",
       "      <td>yes</td>\n",
       "      <td>yes</td>\n",
       "      <td>no</td>\n",
       "      <td>16</td>\n",
       "      <td>3.0</td>\n",
       "      <td>3.0</td>\n",
       "      <td>1.0</td>\n",
       "      <td>2.0</td>\n",
       "      <td>0.0</td>\n",
       "      <td>4.0</td>\n",
       "      <td>3.0</td>\n",
       "      <td>2.0</td>\n",
       "      <td>5.0</td>\n",
       "      <td>4.0</td>\n",
       "      <td>50.0</td>\n",
       "    </tr>\n",
       "    <tr>\n",
       "      <th>...</th>\n",
       "      <td>...</td>\n",
       "      <td>...</td>\n",
       "      <td>...</td>\n",
       "      <td>...</td>\n",
       "      <td>...</td>\n",
       "      <td>...</td>\n",
       "      <td>...</td>\n",
       "      <td>...</td>\n",
       "      <td>...</td>\n",
       "      <td>...</td>\n",
       "      <td>...</td>\n",
       "      <td>...</td>\n",
       "      <td>...</td>\n",
       "      <td>...</td>\n",
       "      <td>...</td>\n",
       "      <td>...</td>\n",
       "      <td>...</td>\n",
       "      <td>...</td>\n",
       "      <td>...</td>\n",
       "    </tr>\n",
       "    <tr>\n",
       "      <th>384</th>\n",
       "      <td>M</td>\n",
       "      <td>U</td>\n",
       "      <td>services</td>\n",
       "      <td>no</td>\n",
       "      <td>yes</td>\n",
       "      <td>yes</td>\n",
       "      <td>no</td>\n",
       "      <td>20</td>\n",
       "      <td>2.0</td>\n",
       "      <td>2.0</td>\n",
       "      <td>1.0</td>\n",
       "      <td>2.0</td>\n",
       "      <td>2.0</td>\n",
       "      <td>5.0</td>\n",
       "      <td>5.0</td>\n",
       "      <td>4.0</td>\n",
       "      <td>4.0</td>\n",
       "      <td>NaN</td>\n",
       "      <td>45.0</td>\n",
       "    </tr>\n",
       "    <tr>\n",
       "      <th>385</th>\n",
       "      <td>M</td>\n",
       "      <td>U</td>\n",
       "      <td>services</td>\n",
       "      <td>no</td>\n",
       "      <td>no</td>\n",
       "      <td>yes</td>\n",
       "      <td>no</td>\n",
       "      <td>17</td>\n",
       "      <td>3.0</td>\n",
       "      <td>1.0</td>\n",
       "      <td>2.0</td>\n",
       "      <td>1.0</td>\n",
       "      <td>0.0</td>\n",
       "      <td>2.0</td>\n",
       "      <td>4.0</td>\n",
       "      <td>5.0</td>\n",
       "      <td>2.0</td>\n",
       "      <td>3.0</td>\n",
       "      <td>80.0</td>\n",
       "    </tr>\n",
       "    <tr>\n",
       "      <th>386</th>\n",
       "      <td>M</td>\n",
       "      <td>R</td>\n",
       "      <td>other</td>\n",
       "      <td>NaN</td>\n",
       "      <td>no</td>\n",
       "      <td>NaN</td>\n",
       "      <td>no</td>\n",
       "      <td>21</td>\n",
       "      <td>1.0</td>\n",
       "      <td>1.0</td>\n",
       "      <td>1.0</td>\n",
       "      <td>1.0</td>\n",
       "      <td>3.0</td>\n",
       "      <td>5.0</td>\n",
       "      <td>5.0</td>\n",
       "      <td>3.0</td>\n",
       "      <td>3.0</td>\n",
       "      <td>3.0</td>\n",
       "      <td>35.0</td>\n",
       "    </tr>\n",
       "    <tr>\n",
       "      <th>387</th>\n",
       "      <td>M</td>\n",
       "      <td>R</td>\n",
       "      <td>services</td>\n",
       "      <td>no</td>\n",
       "      <td>no</td>\n",
       "      <td>yes</td>\n",
       "      <td>no</td>\n",
       "      <td>18</td>\n",
       "      <td>3.0</td>\n",
       "      <td>2.0</td>\n",
       "      <td>3.0</td>\n",
       "      <td>1.0</td>\n",
       "      <td>0.0</td>\n",
       "      <td>4.0</td>\n",
       "      <td>4.0</td>\n",
       "      <td>1.0</td>\n",
       "      <td>5.0</td>\n",
       "      <td>0.0</td>\n",
       "      <td>50.0</td>\n",
       "    </tr>\n",
       "    <tr>\n",
       "      <th>388</th>\n",
       "      <td>M</td>\n",
       "      <td>U</td>\n",
       "      <td>other</td>\n",
       "      <td>NaN</td>\n",
       "      <td>no</td>\n",
       "      <td>yes</td>\n",
       "      <td>no</td>\n",
       "      <td>19</td>\n",
       "      <td>1.0</td>\n",
       "      <td>1.0</td>\n",
       "      <td>1.0</td>\n",
       "      <td>1.0</td>\n",
       "      <td>0.0</td>\n",
       "      <td>3.0</td>\n",
       "      <td>2.0</td>\n",
       "      <td>3.0</td>\n",
       "      <td>5.0</td>\n",
       "      <td>5.0</td>\n",
       "      <td>45.0</td>\n",
       "    </tr>\n",
       "  </tbody>\n",
       "</table>\n",
       "<p>389 rows × 19 columns</p>\n",
       "</div>"
      ],
      "text/plain": [
       "    sex address      mjob schoolsup paid higher romantic  age  medu  fedu  \\\n",
       "0     F       U   at_home       yes   no    yes       no   18   4.0   4.0   \n",
       "1     F       U   at_home        no   no    yes       no   17   1.0   1.0   \n",
       "2     F       U   at_home       yes  NaN    yes      NaN   15   1.0   1.0   \n",
       "3     F       U    health        no  yes    yes      yes   15   4.0   2.0   \n",
       "4     F       U     other        no  yes    yes       no   16   3.0   3.0   \n",
       "..   ..     ...       ...       ...  ...    ...      ...  ...   ...   ...   \n",
       "384   M       U  services        no  yes    yes       no   20   2.0   2.0   \n",
       "385   M       U  services        no   no    yes       no   17   3.0   1.0   \n",
       "386   M       R     other       NaN   no    NaN       no   21   1.0   1.0   \n",
       "387   M       R  services        no   no    yes       no   18   3.0   2.0   \n",
       "388   M       U     other       NaN   no    yes       no   19   1.0   1.0   \n",
       "\n",
       "     traveltime  studytime  failures  famrel  freetime  goout  health  \\\n",
       "0           2.0        2.0       0.0     4.0       3.0    4.0     3.0   \n",
       "1           1.0        2.0       0.0     5.0       3.0    3.0     3.0   \n",
       "2           1.0        2.0       3.0     4.0       3.0    2.0     3.0   \n",
       "3           1.0        3.0       0.0     3.0       2.0    2.0     5.0   \n",
       "4           1.0        2.0       0.0     4.0       3.0    2.0     5.0   \n",
       "..          ...        ...       ...     ...       ...    ...     ...   \n",
       "384         1.0        2.0       2.0     5.0       5.0    4.0     4.0   \n",
       "385         2.0        1.0       0.0     2.0       4.0    5.0     2.0   \n",
       "386         1.0        1.0       3.0     5.0       5.0    3.0     3.0   \n",
       "387         3.0        1.0       0.0     4.0       4.0    1.0     5.0   \n",
       "388         1.0        1.0       0.0     3.0       2.0    3.0     5.0   \n",
       "\n",
       "     absences  score  \n",
       "0         6.0   30.0  \n",
       "1         4.0   30.0  \n",
       "2        10.0   50.0  \n",
       "3         2.0   75.0  \n",
       "4         4.0   50.0  \n",
       "..        ...    ...  \n",
       "384       NaN   45.0  \n",
       "385       3.0   80.0  \n",
       "386       3.0   35.0  \n",
       "387       0.0   50.0  \n",
       "388       5.0   45.0  \n",
       "\n",
       "[389 rows x 19 columns]"
      ]
     },
     "execution_count": 47,
     "metadata": {},
     "output_type": "execute_result"
    }
   ],
   "source": [
    "# Сформирую новый датасет\n",
    "df = df[valuable + number]\n",
    "df"
   ]
  },
  {
   "cell_type": "markdown",
   "metadata": {},
   "source": [
    "### Выводы"
   ]
  },
  {
   "cell_type": "markdown",
   "metadata": {},
   "source": [
    "Очень мало наблюдений, что не позволяет качественно заполнить пропуски.\n",
    "В результате предобработки из 30 столбцов осталось 19.\n",
    "\n",
    "Главный значимый числовой признак - количество внеучебных неудач. Чем больше неудач, тем хуже оценка.\n",
    "\n",
    "В получении положительных оценок важно образование матери и характер ее работы. И не очень важно образование отца и характер его работы.\n",
    "\n",
    "Мотивация школьников в получении высшего образования сильно влияет на хорошие оценки.\n",
    "\n",
    "Чем больше возраст, тем хуже оценка. школьники с большим возвратом скорее всего не усваивали школьную программы вовремя и оставались на второй год.\n"
   ]
  },
  {
   "cell_type": "code",
   "execution_count": null,
   "metadata": {},
   "outputs": [],
   "source": []
  }
 ],
 "metadata": {
  "kernelspec": {
   "display_name": "Python 3",
   "language": "python",
   "name": "python3"
  },
  "language_info": {
   "codemirror_mode": {
    "name": "ipython",
    "version": 3
   },
   "file_extension": ".py",
   "mimetype": "text/x-python",
   "name": "python",
   "nbconvert_exporter": "python",
   "pygments_lexer": "ipython3",
   "version": "3.7.6"
  }
 },
 "nbformat": 4,
 "nbformat_minor": 4
}
