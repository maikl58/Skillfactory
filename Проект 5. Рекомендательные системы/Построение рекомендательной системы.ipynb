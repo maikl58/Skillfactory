{
 "cells": [
  {
   "cell_type": "code",
   "execution_count": 1,
   "metadata": {
    "_cell_guid": "b1076dfc-b9ad-4769-8c92-a6c4dae69d19",
    "_uuid": "8f2839f25d086af736a60e9eeb907d3b93b6e0e5"
   },
   "outputs": [],
   "source": [
    "# This Python 3 environment comes with many helpful analytics libraries installed\n",
    "# It is defined by the kaggle/python Docker image: https://github.com/kaggle/docker-python\n",
    "# For example, here's several helpful packages to load\n",
    "\n",
    "import numpy as np # linear algebra\n",
    "import pandas as pd # data processing, CSV file I/O (e.g. pd.read_csv)\n",
    "\n",
    "# Input data files are available in the read-only \"../input/\" directory\n",
    "# For example, running this (by clicking run or pressing Shift+Enter) will list all files under the input directory\n",
    "# This Python 3 environment comes with many helpful analytics libraries installed\n",
    "# It is defined by the kaggle/python docker image: https://github.com/kaggle/docker-python\n",
    "# For example, here's several helpful packages to load in \n",
    "\n",
    "import numpy as np # linear algebra\n",
    "import pandas as pd # data processing, CSV file I/O (e.g. pd.read_csv)\n",
    "\n",
    "# Input data files are available in the \"../input/\" directory.\n",
    "# For example, running this (by clicking run or pressing Shift+Enter) will list all files under the input directory\n"
   ]
  },
  {
   "cell_type": "code",
   "execution_count": 2,
   "metadata": {
    "_cell_guid": "79c7e3d0-c299-4dcb-8224-4455121ee9b0",
    "_uuid": "d629ff2d2480ee46fbb7e2d37f6b5fab8052498a"
   },
   "outputs": [
    {
     "name": "stderr",
     "output_type": "stream",
     "text": [
      "C:\\Users\\maikl\\anaconda3\\lib\\site-packages\\IPython\\core\\interactiveshell.py:3063: DtypeWarning: Columns (8) have mixed types.Specify dtype option on import or set low_memory=False.\n",
      "  interactivity=interactivity, compiler=compiler, result=result)\n",
      "C:\\Users\\maikl\\anaconda3\\lib\\site-packages\\IPython\\core\\interactiveshell.py:3063: DtypeWarning: Columns (5) have mixed types.Specify dtype option on import or set low_memory=False.\n",
      "  interactivity=interactivity, compiler=compiler, result=result)\n"
     ]
    }
   ],
   "source": [
    "train = pd.read_csv('./data/train.csv')\n",
    "test = pd.read_csv('./data/test.csv')\n",
    "submission = pd.read_csv('./data/sample_submission.csv')"
   ]
  },
  {
   "cell_type": "code",
   "execution_count": 3,
   "metadata": {},
   "outputs": [
    {
     "data": {
      "text/html": [
       "<div>\n",
       "<style scoped>\n",
       "    .dataframe tbody tr th:only-of-type {\n",
       "        vertical-align: middle;\n",
       "    }\n",
       "\n",
       "    .dataframe tbody tr th {\n",
       "        vertical-align: top;\n",
       "    }\n",
       "\n",
       "    .dataframe thead th {\n",
       "        text-align: right;\n",
       "    }\n",
       "</style>\n",
       "<table border=\"1\" class=\"dataframe\">\n",
       "  <thead>\n",
       "    <tr style=\"text-align: right;\">\n",
       "      <th></th>\n",
       "      <th>Id</th>\n",
       "      <th>rating</th>\n",
       "    </tr>\n",
       "  </thead>\n",
       "  <tbody>\n",
       "    <tr>\n",
       "      <th>0</th>\n",
       "      <td>0</td>\n",
       "      <td>0.282813</td>\n",
       "    </tr>\n",
       "    <tr>\n",
       "      <th>1</th>\n",
       "      <td>1</td>\n",
       "      <td>0.629758</td>\n",
       "    </tr>\n",
       "    <tr>\n",
       "      <th>2</th>\n",
       "      <td>2</td>\n",
       "      <td>0.916899</td>\n",
       "    </tr>\n",
       "    <tr>\n",
       "      <th>3</th>\n",
       "      <td>3</td>\n",
       "      <td>0.702790</td>\n",
       "    </tr>\n",
       "    <tr>\n",
       "      <th>4</th>\n",
       "      <td>4</td>\n",
       "      <td>0.043446</td>\n",
       "    </tr>\n",
       "    <tr>\n",
       "      <th>...</th>\n",
       "      <td>...</td>\n",
       "      <td>...</td>\n",
       "    </tr>\n",
       "    <tr>\n",
       "      <th>285960</th>\n",
       "      <td>285960</td>\n",
       "      <td>0.049774</td>\n",
       "    </tr>\n",
       "    <tr>\n",
       "      <th>285961</th>\n",
       "      <td>285961</td>\n",
       "      <td>0.235110</td>\n",
       "    </tr>\n",
       "    <tr>\n",
       "      <th>285962</th>\n",
       "      <td>285962</td>\n",
       "      <td>0.525945</td>\n",
       "    </tr>\n",
       "    <tr>\n",
       "      <th>285963</th>\n",
       "      <td>285963</td>\n",
       "      <td>0.259647</td>\n",
       "    </tr>\n",
       "    <tr>\n",
       "      <th>285964</th>\n",
       "      <td>285964</td>\n",
       "      <td>0.682885</td>\n",
       "    </tr>\n",
       "  </tbody>\n",
       "</table>\n",
       "<p>285965 rows × 2 columns</p>\n",
       "</div>"
      ],
      "text/plain": [
       "            Id    rating\n",
       "0            0  0.282813\n",
       "1            1  0.629758\n",
       "2            2  0.916899\n",
       "3            3  0.702790\n",
       "4            4  0.043446\n",
       "...        ...       ...\n",
       "285960  285960  0.049774\n",
       "285961  285961  0.235110\n",
       "285962  285962  0.525945\n",
       "285963  285963  0.259647\n",
       "285964  285964  0.682885\n",
       "\n",
       "[285965 rows x 2 columns]"
      ]
     },
     "execution_count": 3,
     "metadata": {},
     "output_type": "execute_result"
    }
   ],
   "source": [
    "submission"
   ]
  },
  {
   "cell_type": "code",
   "execution_count": 4,
   "metadata": {
    "scrolled": true
   },
   "outputs": [
    {
     "name": "stderr",
     "output_type": "stream",
     "text": [
      "C:\\Users\\maikl\\anaconda3\\lib\\site-packages\\lightfm\\_lightfm_fast.py:9: UserWarning: LightFM was compiled without OpenMP support. Only a single thread will be used.\n",
      "  warnings.warn('LightFM was compiled without OpenMP support. '\n"
     ]
    }
   ],
   "source": [
    "import scipy.sparse as sparse\n",
    "\n",
    "from lightfm import LightFM\n",
    "from lightfm.cross_validation import random_train_test_split\n",
    "from lightfm.evaluation import auc_score, precision_at_k, recall_at_k\n",
    "import sklearn\n",
    "from sklearn.model_selection import train_test_split\n",
    "\n",
    "import scipy.sparse as sparse"
   ]
  },
  {
   "cell_type": "code",
   "execution_count": 5,
   "metadata": {},
   "outputs": [],
   "source": [
    "train_data, test_data = train_test_split(train,random_state=32, shuffle=True)\n"
   ]
  },
  {
   "cell_type": "code",
   "execution_count": 6,
   "metadata": {},
   "outputs": [],
   "source": [
    "ratings_coo = sparse.coo_matrix((train_data['rating'].astype(int),\n",
    "                                 (train_data['userid'],\n",
    "                                  train_data['itemid'])))"
   ]
  },
  {
   "cell_type": "code",
   "execution_count": 7,
   "metadata": {},
   "outputs": [
    {
     "name": "stdout",
     "output_type": "stream",
     "text": [
      "Wall time: 4min 58s\n"
     ]
    }
   ],
   "source": [
    "%%time\n",
    "NUM_THREADS = 8 #число потоков\n",
    "NUM_COMPONENTS = 60 #число параметров вектора \n",
    "NUM_EPOCHS = 40 #число эпох обучения\n",
    "\n",
    "model = LightFM(learning_rate=0.1, loss='logistic',\n",
    "                no_components=NUM_COMPONENTS , random_state = 42)\n",
    "model = model.fit(ratings_coo, epochs=NUM_EPOCHS, \n",
    "                  num_threads=NUM_THREADS )"
   ]
  },
  {
   "cell_type": "code",
   "execution_count": 8,
   "metadata": {},
   "outputs": [],
   "source": [
    "preds = model.predict(test_data.userid.values,\n",
    "                      test_data.itemid.values)\n"
   ]
  },
  {
   "cell_type": "code",
   "execution_count": 9,
   "metadata": {},
   "outputs": [
    {
     "data": {
      "text/plain": [
       "0.7401474538991518"
      ]
     },
     "execution_count": 9,
     "metadata": {},
     "output_type": "execute_result"
    }
   ],
   "source": [
    "sklearn.metrics.roc_auc_score(test_data.rating,preds)\n"
   ]
  },
  {
   "cell_type": "markdown",
   "metadata": {},
   "source": [
    "### loss='warp'"
   ]
  },
  {
   "cell_type": "code",
   "execution_count": 10,
   "metadata": {},
   "outputs": [
    {
     "name": "stdout",
     "output_type": "stream",
     "text": [
      "Wall time: 1min 30s\n"
     ]
    }
   ],
   "source": [
    "%%time\n",
    "NUM_THREADS = 8 #число потоков\n",
    "NUM_COMPONENTS = 60 #число параметров вектора \n",
    "NUM_EPOCHS = 30 #число эпох обучения\n",
    "\n",
    "model = LightFM(learning_rate=0.1, loss='warp',\n",
    "                no_components=NUM_COMPONENTS, random_state = 42)\n",
    "model = model.fit(ratings_coo, epochs=NUM_EPOCHS, \n",
    "                  num_threads=NUM_THREADS)"
   ]
  },
  {
   "cell_type": "code",
   "execution_count": 11,
   "metadata": {},
   "outputs": [],
   "source": [
    "preds = model.predict(test_data.userid.values,\n",
    "                      test_data.itemid.values)\n"
   ]
  },
  {
   "cell_type": "code",
   "execution_count": 12,
   "metadata": {},
   "outputs": [
    {
     "data": {
      "text/plain": [
       "0.5497693098493681"
      ]
     },
     "execution_count": 12,
     "metadata": {},
     "output_type": "execute_result"
    }
   ],
   "source": [
    "sklearn.metrics.roc_auc_score(test_data.rating,preds)\n"
   ]
  },
  {
   "cell_type": "code",
   "execution_count": 13,
   "metadata": {},
   "outputs": [],
   "source": [
    "#выбираю loss='logistic'"
   ]
  },
  {
   "cell_type": "markdown",
   "metadata": {},
   "source": [
    "### Добавление матрицы признаков товара"
   ]
  },
  {
   "cell_type": "code",
   "execution_count": 14,
   "metadata": {},
   "outputs": [],
   "source": [
    "df_coo = pd.read_csv(\"data/df_coo.csv\")\n",
    "feature_ratings  = sparse.coo_matrix(df_coo)"
   ]
  },
  {
   "cell_type": "code",
   "execution_count": 15,
   "metadata": {},
   "outputs": [
    {
     "name": "stdout",
     "output_type": "stream",
     "text": [
      "Wall time: 12min 42s\n"
     ]
    }
   ],
   "source": [
    "%%time\n",
    "NUM_THREADS = 8 #число потоков\n",
    "NUM_COMPONENTS = 60 #число параметров вектора \n",
    "NUM_EPOCHS = 30 #число эпох обучения\n",
    "\n",
    "model = LightFM(learning_rate=0.1, loss='warp',\n",
    "                no_components=NUM_COMPONENTS, random_state = 42)\n",
    "model = model.fit(ratings_coo, epochs=NUM_EPOCHS, \n",
    "                  num_threads=NUM_THREADS, item_features=feature_ratings)"
   ]
  },
  {
   "cell_type": "code",
   "execution_count": 16,
   "metadata": {},
   "outputs": [],
   "source": [
    "preds = model.predict(test_data.userid.values,\n",
    "                      test_data.itemid.values,  item_features = feature_ratings)\n"
   ]
  },
  {
   "cell_type": "code",
   "execution_count": 17,
   "metadata": {},
   "outputs": [
    {
     "data": {
      "text/plain": [
       "0.5013769690523283"
      ]
     },
     "execution_count": 17,
     "metadata": {},
     "output_type": "execute_result"
    }
   ],
   "source": [
    "sklearn.metrics.roc_auc_score(test_data.rating, preds)"
   ]
  },
  {
   "cell_type": "code",
   "execution_count": 18,
   "metadata": {},
   "outputs": [],
   "source": [
    "#эксперементы показали что с разным количеством признакв auc мах = 0.65\n",
    "# качество матрици признаков товара не позволяет использовать в модели"
   ]
  },
  {
   "cell_type": "markdown",
   "metadata": {},
   "source": [
    "### Подбор learning_rate, NUM_EPOCH, NUM_COMPONENTS"
   ]
  },
  {
   "cell_type": "code",
   "execution_count": 19,
   "metadata": {},
   "outputs": [],
   "source": [
    "# за основу возьму 'logistic' без матрицы признаков "
   ]
  },
  {
   "cell_type": "code",
   "execution_count": 20,
   "metadata": {},
   "outputs": [
    {
     "name": "stdout",
     "output_type": "stream",
     "text": [
      "NUM_EPOCHS = 5, auc = 0.7075243164841128\n",
      "NUM_EPOCHS = 10, auc = 0.7426891018025439\n",
      "NUM_EPOCHS = 15, auc = 0.7510285872118996\n",
      "NUM_EPOCHS = 20, auc = 0.7497442041217985\n"
     ]
    }
   ],
   "source": [
    "# Подбор NUM_EPOCHS\n",
    "NUM_THREADS = 8 #число потоков\n",
    "NUM_COMPONENTS = 60 #число параметров вектора \n",
    "#NUM_EPOCHS = 40 #число эпох обучения\n",
    "\n",
    "for NUM_EPOCHS in range(5,25,5):\n",
    "    model = LightFM(learning_rate=0.1, loss='logistic',\n",
    "                    no_components=NUM_COMPONENTS , random_state = 42)\n",
    "    model = model.fit(ratings_coo, epochs=NUM_EPOCHS, \n",
    "                      num_threads=NUM_THREADS )\n",
    "\n",
    "\n",
    "    preds = model.predict(test_data.userid.values,\n",
    "                          test_data.itemid.values)\n",
    "\n",
    "    auc = sklearn.metrics.roc_auc_score(test_data.rating,preds)\n",
    "    print(f'NUM_EPOCHS = {NUM_EPOCHS}, auc = {auc}')"
   ]
  },
  {
   "cell_type": "code",
   "execution_count": 21,
   "metadata": {},
   "outputs": [
    {
     "name": "stdout",
     "output_type": "stream",
     "text": [
      "NUM_EPOCHS = 14, auc = 0.7506195510402915\n",
      "NUM_EPOCHS = 15, auc = 0.7510285872118996\n",
      "NUM_EPOCHS = 16, auc = 0.7511454225687703\n",
      "NUM_EPOCHS = 17, auc = 0.7509638408343513\n",
      "NUM_EPOCHS = 18, auc = 0.750661296217009\n"
     ]
    }
   ],
   "source": [
    "# Более точный \n",
    "NUM_THREADS = 8 #число потоков\n",
    "NUM_COMPONENTS = 60 #число параметров вектора \n",
    "#NUM_EPOCHS = 40 #число эпох обучения\n",
    "\n",
    "for NUM_EPOCHS in range(14,19):\n",
    "    model = LightFM(learning_rate=0.1, loss='logistic',\n",
    "                    no_components=NUM_COMPONENTS , random_state = 42)\n",
    "    model = model.fit(ratings_coo, epochs=NUM_EPOCHS, \n",
    "                      num_threads=NUM_THREADS )\n",
    "\n",
    "\n",
    "    preds = model.predict(test_data.userid.values,\n",
    "                          test_data.itemid.values)\n",
    "\n",
    "    auc = sklearn.metrics.roc_auc_score(test_data.rating,preds)\n",
    "    print(f'NUM_EPOCHS = {NUM_EPOCHS}, auc = {auc}')"
   ]
  },
  {
   "cell_type": "code",
   "execution_count": 22,
   "metadata": {},
   "outputs": [
    {
     "name": "stdout",
     "output_type": "stream",
     "text": [
      "NUM_EPOCHS = 15, NUM_COMPONENTS = 40, auc = 0.7493659597647968\n",
      "NUM_EPOCHS = 15, NUM_COMPONENTS = 50, auc = 0.7500625849821858\n",
      "NUM_EPOCHS = 15, NUM_COMPONENTS = 60, auc = 0.7510285872118996\n",
      "NUM_EPOCHS = 15, NUM_COMPONENTS = 70, auc = 0.751223720921367\n",
      "NUM_EPOCHS = 15, NUM_COMPONENTS = 80, auc = 0.7511672747672079\n",
      "NUM_EPOCHS = 16, NUM_COMPONENTS = 40, auc = 0.7491338206609639\n",
      "NUM_EPOCHS = 16, NUM_COMPONENTS = 50, auc = 0.7500347749779556\n",
      "NUM_EPOCHS = 16, NUM_COMPONENTS = 60, auc = 0.7511454225687703\n",
      "NUM_EPOCHS = 16, NUM_COMPONENTS = 70, auc = 0.7514571067863414\n",
      "NUM_EPOCHS = 16, NUM_COMPONENTS = 80, auc = 0.7513662889933388\n",
      "NUM_EPOCHS = 17, NUM_COMPONENTS = 40, auc = 0.7487023489408695\n",
      "NUM_EPOCHS = 17, NUM_COMPONENTS = 50, auc = 0.7498542482795465\n",
      "NUM_EPOCHS = 17, NUM_COMPONENTS = 60, auc = 0.7509638408343513\n",
      "NUM_EPOCHS = 17, NUM_COMPONENTS = 70, auc = 0.7514679234547543\n",
      "NUM_EPOCHS = 17, NUM_COMPONENTS = 80, auc = 0.7513210287996921\n"
     ]
    }
   ],
   "source": [
    "# NUM_COMPONENTS\n",
    "for NUM_EPOCHS in range(15,18):\n",
    "    for NUM_COMPONENTS in range(40,90, 10):\n",
    "        model = LightFM(learning_rate=0.1, loss='logistic',\n",
    "                        no_components=NUM_COMPONENTS , random_state = 42)\n",
    "        model = model.fit(ratings_coo, epochs=NUM_EPOCHS, \n",
    "                          num_threads=NUM_THREADS )\n",
    "\n",
    "\n",
    "        preds = model.predict(test_data.userid.values,\n",
    "                              test_data.itemid.values)\n",
    "\n",
    "        auc = sklearn.metrics.roc_auc_score(test_data.rating,preds)\n",
    "        print(f'NUM_EPOCHS = {NUM_EPOCHS}, NUM_COMPONENTS = {NUM_COMPONENTS}, auc = {auc}')"
   ]
  },
  {
   "cell_type": "code",
   "execution_count": 23,
   "metadata": {},
   "outputs": [
    {
     "name": "stdout",
     "output_type": "stream",
     "text": [
      "NUM_EPOCHS = 16, NUM_COMPONENTS = 66, auc = 0.7513703481725424\n",
      "NUM_EPOCHS = 16, NUM_COMPONENTS = 67, auc = 0.7523165674025682\n",
      "NUM_EPOCHS = 16, NUM_COMPONENTS = 68, auc = 0.7515598017616278\n",
      "NUM_EPOCHS = 16, NUM_COMPONENTS = 69, auc = 0.7514105902242282\n",
      "NUM_EPOCHS = 16, NUM_COMPONENTS = 70, auc = 0.7514571067863414\n",
      "NUM_EPOCHS = 16, NUM_COMPONENTS = 71, auc = 0.7516480124299401\n",
      "NUM_EPOCHS = 16, NUM_COMPONENTS = 72, auc = 0.7517547482125271\n",
      "NUM_EPOCHS = 16, NUM_COMPONENTS = 73, auc = 0.751410350546745\n",
      "NUM_EPOCHS = 16, NUM_COMPONENTS = 74, auc = 0.7518067112853236\n"
     ]
    }
   ],
   "source": [
    "# NUM_COMPONENTS\n",
    "NUM_EPOCHS = 16\n",
    "for NUM_COMPONENTS in range(66,75):\n",
    "    model = LightFM(learning_rate=0.1, loss='logistic',\n",
    "                    no_components=NUM_COMPONENTS , random_state = 42)\n",
    "    model = model.fit(ratings_coo, epochs=NUM_EPOCHS, \n",
    "                      num_threads=NUM_THREADS )\n",
    "\n",
    "\n",
    "    preds = model.predict(test_data.userid.values,\n",
    "                          test_data.itemid.values)\n",
    "\n",
    "    auc = sklearn.metrics.roc_auc_score(test_data.rating,preds)\n",
    "    print(f'NUM_EPOCHS = {NUM_EPOCHS}, NUM_COMPONENTS = {NUM_COMPONENTS}, auc = {auc}')"
   ]
  },
  {
   "cell_type": "code",
   "execution_count": 24,
   "metadata": {},
   "outputs": [
    {
     "name": "stdout",
     "output_type": "stream",
     "text": [
      "i = 0.08 auc = 0.7485679374880564\n",
      "i = 0.1 auc = 0.7523165674025682\n",
      "i = 0.12 auc = 0.7525887116616718\n",
      "i = 0.14 auc = 0.7516645054263696\n"
     ]
    }
   ],
   "source": [
    "#learning_rate\n",
    "NUM_EPOCHS = 16\n",
    "NUM_COMPONENTS = 67\n",
    "RANDOM = 42\n",
    "for i in range(80, 141, 20):\n",
    "    a = i/1000\n",
    "    model = LightFM(learning_rate=a, loss='logistic',\n",
    "                    no_components=NUM_COMPONENTS , random_state = RANDOM)\n",
    "    model = model.fit(ratings_coo, epochs=NUM_EPOCHS, \n",
    "                      num_threads=NUM_THREADS )\n",
    "\n",
    "\n",
    "    preds = model.predict(test_data.userid.values,\n",
    "                          test_data.itemid.values)\n",
    "\n",
    "    auc = sklearn.metrics.roc_auc_score(test_data.rating,preds)\n",
    "    print(f'i = {a} auc = {auc}')"
   ]
  },
  {
   "cell_type": "code",
   "execution_count": 25,
   "metadata": {},
   "outputs": [
    {
     "name": "stdout",
     "output_type": "stream",
     "text": [
      " auc = 0.7525887116616718\n"
     ]
    }
   ],
   "source": [
    "NUM_EPOCHS = 16\n",
    "NUM_COMPONENTS = 67\n",
    "RANDOM = 42\n",
    "\n",
    "model = LightFM(learning_rate=0.12, loss='logistic',\n",
    "                no_components=NUM_COMPONENTS , random_state = RANDOM)\n",
    "model = model.fit(ratings_coo, epochs=NUM_EPOCHS, \n",
    "                  num_threads=NUM_THREADS )\n",
    "\n",
    "\n",
    "preds = model.predict(test_data.userid.values,\n",
    "                      test_data.itemid.values)\n",
    "\n",
    "auc = sklearn.metrics.roc_auc_score(test_data.rating,preds)\n",
    "print(f' auc = {auc}')"
   ]
  },
  {
   "cell_type": "code",
   "execution_count": 26,
   "metadata": {},
   "outputs": [],
   "source": [
    "preds = model.predict(test.userid.values,\n",
    "                      test.itemid.values)\n",
    "normalized_preds = (preds - preds.min())/(preds - preds.min()).max()\n",
    "submission['rating']= normalized_preds\n",
    "submission.to_csv('submission_log.csv', index=False)"
   ]
  },
  {
   "cell_type": "markdown",
   "metadata": {},
   "source": [
    "### Достаём эбмеддинги, для метода ближайших соседей"
   ]
  },
  {
   "cell_type": "code",
   "execution_count": 27,
   "metadata": {},
   "outputs": [],
   "source": [
    "item_biases, item_embeddings = model.get_item_representations()"
   ]
  },
  {
   "cell_type": "code",
   "execution_count": 28,
   "metadata": {},
   "outputs": [],
   "source": [
    "# Сохраняю эбмеддинги в файл\n",
    "import pickle\n",
    "with open('./data/item_embeddings.pickle', 'wb') as file:\n",
    "   pickle.dump(item_embeddings, file, protocol=pickle.HIGHEST_PROTOCOL)"
   ]
  },
  {
   "cell_type": "code",
   "execution_count": 39,
   "metadata": {},
   "outputs": [],
   "source": [
    "import nmslib\n",
    "#Создаём наш граф для поиска\n",
    "nms_idx = nmslib.init(method='hnsw', space='cosinesimil')\n",
    " \n",
    "#Начинаем добавлять наши товары в граф\n",
    "nms_idx.addDataPointBatch(item_embeddings)\n",
    "nms_idx.createIndex(print_progress=True)"
   ]
  },
  {
   "cell_type": "code",
   "execution_count": 40,
   "metadata": {},
   "outputs": [],
   "source": [
    "#Далее давайте напишем вспомогательную функцию, чтобы осуществлять поиск с помощью nmslib.\n",
    "#Вспомогательная функция для поиска по графу\n",
    "def nearest_product_nms(itemid, index, n=10):\n",
    "    nn = index.knnQuery(item_embeddings[itemid], k=n)\n",
    "    return nn"
   ]
  },
  {
   "cell_type": "code",
   "execution_count": 41,
   "metadata": {},
   "outputs": [],
   "source": [
    "#Прочитываю файл с описанием товаров\n",
    "df = pd.read_csv(\"data/meta_Grocery.csv\")\n",
    "# Связываем asin и itemid\n",
    "df_asin = pd.concat([train[['asin', 'itemid']], test[['asin', 'itemid']]])\n",
    "mapper = dict(zip(df_asin.asin,df_asin.itemid))\n",
    "df['itemid'] = df.asin.apply(lambda x: mapper[x])"
   ]
  },
  {
   "cell_type": "code",
   "execution_count": 42,
   "metadata": {},
   "outputs": [
    {
     "data": {
      "text/html": [
       "<div>\n",
       "<style scoped>\n",
       "    .dataframe tbody tr th:only-of-type {\n",
       "        vertical-align: middle;\n",
       "    }\n",
       "\n",
       "    .dataframe tbody tr th {\n",
       "        vertical-align: top;\n",
       "    }\n",
       "\n",
       "    .dataframe thead th {\n",
       "        text-align: right;\n",
       "    }\n",
       "</style>\n",
       "<table border=\"1\" class=\"dataframe\">\n",
       "  <thead>\n",
       "    <tr style=\"text-align: right;\">\n",
       "      <th></th>\n",
       "      <th>category</th>\n",
       "      <th>description</th>\n",
       "      <th>title</th>\n",
       "      <th>brand</th>\n",
       "      <th>rank</th>\n",
       "      <th>also_view</th>\n",
       "      <th>main_cat</th>\n",
       "      <th>price</th>\n",
       "      <th>asin</th>\n",
       "      <th>also_buy</th>\n",
       "      <th>itemid</th>\n",
       "    </tr>\n",
       "  </thead>\n",
       "  <tbody>\n",
       "    <tr>\n",
       "      <th>582</th>\n",
       "      <td>['Grocery &amp; Gourmet Food', 'Snack Foods', 'Ric...</td>\n",
       "      <td>NaN</td>\n",
       "      <td>Shirakiku - 8-Mate Assorted Rice Crackers 16 Oz.</td>\n",
       "      <td>Shirakiku</td>\n",
       "      <td>96,154inGroceryGourmetFood(</td>\n",
       "      <td>['B0002TJDRU', 'B0002EQTJ0', 'B00U0NMSRA', 'B0...</td>\n",
       "      <td>Grocery</td>\n",
       "      <td>$10.71</td>\n",
       "      <td>B0002EQTIQ</td>\n",
       "      <td>['B0002TJDRU', 'B0002EQTJ0', 'B01JQW0SJK', 'B0...</td>\n",
       "      <td>552</td>\n",
       "    </tr>\n",
       "    <tr>\n",
       "      <th>634</th>\n",
       "      <td>['Grocery &amp; Gourmet Food', 'Herbs, Spices &amp; Se...</td>\n",
       "      <td>['S&amp;B - nanami togarashi (assorted chili peppe...</td>\n",
       "      <td>S&amp;B - Nanami Togarashi (Assorted Chili Pepper)...</td>\n",
       "      <td>S&amp;B</td>\n",
       "      <td>121,204inGroceryGourmetFood(</td>\n",
       "      <td>['B0002YGSJQ', 'B004Y18GJ8', 'B079YXZ1KH', 'B0...</td>\n",
       "      <td>Grocery</td>\n",
       "      <td>NaN</td>\n",
       "      <td>B0002YGSA0</td>\n",
       "      <td>['B000WYCZX4', 'B0002YGSJQ', 'B00083B7H4', 'B0...</td>\n",
       "      <td>601</td>\n",
       "    </tr>\n",
       "    <tr>\n",
       "      <th>1721</th>\n",
       "      <td>['Grocery &amp; Gourmet Food', 'Beverages', 'Coffe...</td>\n",
       "      <td>[\"Lipton Black Tea Loose has their tea leaves ...</td>\n",
       "      <td>Lipton Black Tea, Loose, 1/2 pound Boxes (Pack...</td>\n",
       "      <td>Lipton</td>\n",
       "      <td>126,217inGroceryGourmetFood(</td>\n",
       "      <td>['B00CREXSHY', '4639725043', 'B001QTRGAQ', 'B0...</td>\n",
       "      <td>Grocery</td>\n",
       "      <td>$48.50</td>\n",
       "      <td>B000EM6PC6</td>\n",
       "      <td>NaN</td>\n",
       "      <td>1629</td>\n",
       "    </tr>\n",
       "    <tr>\n",
       "      <th>3112</th>\n",
       "      <td>['Grocery &amp; Gourmet Food', 'Cooking &amp; Baking',...</td>\n",
       "      <td>['USDA organic. For seven generations, Coombs ...</td>\n",
       "      <td>Coombs Family Farms Organic Maple Sugar, 1lb 9...</td>\n",
       "      <td>Coombs Family Farms</td>\n",
       "      <td>&gt;#6,017 in Grocery &amp; Gourmet Food (See top 100...</td>\n",
       "      <td>['B077MZ6G48', 'B004TSPMEI', 'B01LWBX4CK', 'B0...</td>\n",
       "      <td>Grocery</td>\n",
       "      <td>$23.45</td>\n",
       "      <td>B000JJHDVG</td>\n",
       "      <td>['B00IX2LTK2', 'B0083QJU72', 'B00KRFLH5U', 'B0...</td>\n",
       "      <td>2931</td>\n",
       "    </tr>\n",
       "    <tr>\n",
       "      <th>9078</th>\n",
       "      <td>['Grocery &amp; Gourmet Food', 'Cooking &amp; Baking',...</td>\n",
       "      <td>['La Tourangelle Toasted Sesame Oil, 16.9-Ounc...</td>\n",
       "      <td>La Tourangelle Toasted Sesame Oil, 16.9-Ounce ...</td>\n",
       "      <td>La Tourangelle</td>\n",
       "      <td>218,898inGroceryGourmetFood(</td>\n",
       "      <td>['B005WXMPMQ', 'B008QQF9SS', 'B0793P9PQ9', 'B0...</td>\n",
       "      <td>Grocery</td>\n",
       "      <td>$38.99</td>\n",
       "      <td>B001EQ5EKU</td>\n",
       "      <td>NaN</td>\n",
       "      <td>8176</td>\n",
       "    </tr>\n",
       "    <tr>\n",
       "      <th>14051</th>\n",
       "      <td>['Grocery &amp; Gourmet Food', 'Beverages', 'Coffe...</td>\n",
       "      <td>[\"Market Spice Tea originating in Seattle's hi...</td>\n",
       "      <td>Market Spice Cinnamon-Orange Tea Bag, 24-Count...</td>\n",
       "      <td>MarketSpice</td>\n",
       "      <td>9,947inGroceryGourmetFood(</td>\n",
       "      <td>NaN</td>\n",
       "      <td>Grocery</td>\n",
       "      <td>$29.77</td>\n",
       "      <td>B0047NU47A</td>\n",
       "      <td>['B0000TWLJO', 'B00029KOVO', 'B0007XPS98', 'B0...</td>\n",
       "      <td>12867</td>\n",
       "    </tr>\n",
       "    <tr>\n",
       "      <th>15316</th>\n",
       "      <td>['Grocery &amp; Gourmet Food', 'Food &amp; Beverage Gi...</td>\n",
       "      <td>['USING FOUR SPECIALLY SELECTED YEAST SOURCES,...</td>\n",
       "      <td>Limited Edition Marmite XO Extra Old Matured l...</td>\n",
       "      <td>Marmite</td>\n",
       "      <td>306,684inGroceryGourmetFood(</td>\n",
       "      <td>['B00886IHUI', 'B005D50WD2', 'B007JNMFEU', 'B0...</td>\n",
       "      <td>Grocery</td>\n",
       "      <td>NaN</td>\n",
       "      <td>B004QJEJ1M</td>\n",
       "      <td>NaN</td>\n",
       "      <td>14049</td>\n",
       "    </tr>\n",
       "    <tr>\n",
       "      <th>26614</th>\n",
       "      <td>['Grocery &amp; Gourmet Food', 'Sauces, Gravies &amp; ...</td>\n",
       "      <td>['Chile Sauces.', 'Cayenne Pepper Puree, Water...</td>\n",
       "      <td>Organicville, Siracha Sauce, 18.5 oz</td>\n",
       "      <td>Organicville</td>\n",
       "      <td>31,479inGroceryGourmetFood(</td>\n",
       "      <td>NaN</td>\n",
       "      <td>Grocery</td>\n",
       "      <td>$11.59</td>\n",
       "      <td>B00EAC3EWA</td>\n",
       "      <td>['B00V0XPZPG', 'B0763RSD17', 'B016V8KNRE', 'B0...</td>\n",
       "      <td>24586</td>\n",
       "    </tr>\n",
       "    <tr>\n",
       "      <th>31764</th>\n",
       "      <td>['Grocery &amp; Gourmet Food', 'Beverages', 'Coffe...</td>\n",
       "      <td>['Rich-bodied medium roast with chocolatey and...</td>\n",
       "      <td>Lavazza Gran Crema Espresso, 2.2-Pound - Pack ...</td>\n",
       "      <td>Lavazza</td>\n",
       "      <td>17,871inGroceryGourmetFood(</td>\n",
       "      <td>NaN</td>\n",
       "      <td>Grocery</td>\n",
       "      <td>$39.99</td>\n",
       "      <td>B00L3N4ZR2</td>\n",
       "      <td>['B018HFAP04', 'B000SDKDM4', 'B078TN99F9', 'B0...</td>\n",
       "      <td>29375</td>\n",
       "    </tr>\n",
       "    <tr>\n",
       "      <th>34595</th>\n",
       "      <td>['Grocery &amp; Gourmet Food', 'Beverages', 'Coffe...</td>\n",
       "      <td>NaN</td>\n",
       "      <td>Imperial Oolong Tea Leaves from the Blue Mount...</td>\n",
       "      <td>VAHDAM</td>\n",
       "      <td>72,341inGroceryGourmetFood(</td>\n",
       "      <td>NaN</td>\n",
       "      <td>Grocery</td>\n",
       "      <td>$14.99</td>\n",
       "      <td>B00R4O1H0M</td>\n",
       "      <td>['B0757VW95S', 'B00WJW8A2W', 'B019FLGKZI', 'B0...</td>\n",
       "      <td>32009</td>\n",
       "    </tr>\n",
       "  </tbody>\n",
       "</table>\n",
       "</div>"
      ],
      "text/plain": [
       "                                                category  \\\n",
       "582    ['Grocery & Gourmet Food', 'Snack Foods', 'Ric...   \n",
       "634    ['Grocery & Gourmet Food', 'Herbs, Spices & Se...   \n",
       "1721   ['Grocery & Gourmet Food', 'Beverages', 'Coffe...   \n",
       "3112   ['Grocery & Gourmet Food', 'Cooking & Baking',...   \n",
       "9078   ['Grocery & Gourmet Food', 'Cooking & Baking',...   \n",
       "14051  ['Grocery & Gourmet Food', 'Beverages', 'Coffe...   \n",
       "15316  ['Grocery & Gourmet Food', 'Food & Beverage Gi...   \n",
       "26614  ['Grocery & Gourmet Food', 'Sauces, Gravies & ...   \n",
       "31764  ['Grocery & Gourmet Food', 'Beverages', 'Coffe...   \n",
       "34595  ['Grocery & Gourmet Food', 'Beverages', 'Coffe...   \n",
       "\n",
       "                                             description  \\\n",
       "582                                                  NaN   \n",
       "634    ['S&B - nanami togarashi (assorted chili peppe...   \n",
       "1721   [\"Lipton Black Tea Loose has their tea leaves ...   \n",
       "3112   ['USDA organic. For seven generations, Coombs ...   \n",
       "9078   ['La Tourangelle Toasted Sesame Oil, 16.9-Ounc...   \n",
       "14051  [\"Market Spice Tea originating in Seattle's hi...   \n",
       "15316  ['USING FOUR SPECIALLY SELECTED YEAST SOURCES,...   \n",
       "26614  ['Chile Sauces.', 'Cayenne Pepper Puree, Water...   \n",
       "31764  ['Rich-bodied medium roast with chocolatey and...   \n",
       "34595                                                NaN   \n",
       "\n",
       "                                                   title                brand  \\\n",
       "582     Shirakiku - 8-Mate Assorted Rice Crackers 16 Oz.            Shirakiku   \n",
       "634    S&B - Nanami Togarashi (Assorted Chili Pepper)...                  S&B   \n",
       "1721   Lipton Black Tea, Loose, 1/2 pound Boxes (Pack...               Lipton   \n",
       "3112   Coombs Family Farms Organic Maple Sugar, 1lb 9...  Coombs Family Farms   \n",
       "9078   La Tourangelle Toasted Sesame Oil, 16.9-Ounce ...       La Tourangelle   \n",
       "14051  Market Spice Cinnamon-Orange Tea Bag, 24-Count...          MarketSpice   \n",
       "15316  Limited Edition Marmite XO Extra Old Matured l...              Marmite   \n",
       "26614               Organicville, Siracha Sauce, 18.5 oz         Organicville   \n",
       "31764  Lavazza Gran Crema Espresso, 2.2-Pound - Pack ...              Lavazza   \n",
       "34595  Imperial Oolong Tea Leaves from the Blue Mount...               VAHDAM   \n",
       "\n",
       "                                                    rank  \\\n",
       "582                          96,154inGroceryGourmetFood(   \n",
       "634                         121,204inGroceryGourmetFood(   \n",
       "1721                        126,217inGroceryGourmetFood(   \n",
       "3112   >#6,017 in Grocery & Gourmet Food (See top 100...   \n",
       "9078                        218,898inGroceryGourmetFood(   \n",
       "14051                         9,947inGroceryGourmetFood(   \n",
       "15316                       306,684inGroceryGourmetFood(   \n",
       "26614                        31,479inGroceryGourmetFood(   \n",
       "31764                        17,871inGroceryGourmetFood(   \n",
       "34595                        72,341inGroceryGourmetFood(   \n",
       "\n",
       "                                               also_view main_cat   price  \\\n",
       "582    ['B0002TJDRU', 'B0002EQTJ0', 'B00U0NMSRA', 'B0...  Grocery  $10.71   \n",
       "634    ['B0002YGSJQ', 'B004Y18GJ8', 'B079YXZ1KH', 'B0...  Grocery     NaN   \n",
       "1721   ['B00CREXSHY', '4639725043', 'B001QTRGAQ', 'B0...  Grocery  $48.50   \n",
       "3112   ['B077MZ6G48', 'B004TSPMEI', 'B01LWBX4CK', 'B0...  Grocery  $23.45   \n",
       "9078   ['B005WXMPMQ', 'B008QQF9SS', 'B0793P9PQ9', 'B0...  Grocery  $38.99   \n",
       "14051                                                NaN  Grocery  $29.77   \n",
       "15316  ['B00886IHUI', 'B005D50WD2', 'B007JNMFEU', 'B0...  Grocery     NaN   \n",
       "26614                                                NaN  Grocery  $11.59   \n",
       "31764                                                NaN  Grocery  $39.99   \n",
       "34595                                                NaN  Grocery  $14.99   \n",
       "\n",
       "             asin                                           also_buy  itemid  \n",
       "582    B0002EQTIQ  ['B0002TJDRU', 'B0002EQTJ0', 'B01JQW0SJK', 'B0...     552  \n",
       "634    B0002YGSA0  ['B000WYCZX4', 'B0002YGSJQ', 'B00083B7H4', 'B0...     601  \n",
       "1721   B000EM6PC6                                                NaN    1629  \n",
       "3112   B000JJHDVG  ['B00IX2LTK2', 'B0083QJU72', 'B00KRFLH5U', 'B0...    2931  \n",
       "9078   B001EQ5EKU                                                NaN    8176  \n",
       "14051  B0047NU47A  ['B0000TWLJO', 'B00029KOVO', 'B0007XPS98', 'B0...   12867  \n",
       "15316  B004QJEJ1M                                                NaN   14049  \n",
       "26614  B00EAC3EWA  ['B00V0XPZPG', 'B0763RSD17', 'B016V8KNRE', 'B0...   24586  \n",
       "31764  B00L3N4ZR2  ['B018HFAP04', 'B000SDKDM4', 'B078TN99F9', 'B0...   29375  \n",
       "34595  B00R4O1H0M  ['B0757VW95S', 'B00WJW8A2W', 'B019FLGKZI', 'B0...   32009  "
      ]
     },
     "execution_count": 42,
     "metadata": {},
     "output_type": "execute_result"
    }
   ],
   "source": [
    "#Как пример товар  itemid— 2931.\n",
    "\n",
    "#Ищем похожие товары.\n",
    "nbm = nearest_product_nms(2931,nms_idx)[0]\n",
    "#Выводим похожие товары.\n",
    "df[df.itemid.isin(nbm)]"
   ]
  },
  {
   "cell_type": "code",
   "execution_count": null,
   "metadata": {},
   "outputs": [],
   "source": []
  }
 ],
 "metadata": {
  "kernelspec": {
   "display_name": "Python 3",
   "language": "python",
   "name": "python3"
  },
  "language_info": {
   "codemirror_mode": {
    "name": "ipython",
    "version": 3
   },
   "file_extension": ".py",
   "mimetype": "text/x-python",
   "name": "python",
   "nbconvert_exporter": "python",
   "pygments_lexer": "ipython3",
   "version": "3.7.6"
  }
 },
 "nbformat": 4,
 "nbformat_minor": 4
}
